{
 "cells": [
  {
   "cell_type": "markdown",
   "id": "94395388-22a4-4246-8188-b5a2c4a61373",
   "metadata": {},
   "source": [
    "Build a heterologous reaction database model for a metabolic model (here ECC2) by extracting and evaluating reactions from models in the BIGG database "
   ]
  },
  {
   "cell_type": "code",
   "execution_count": 1,
   "id": "2abc8510-df8f-439f-968e-e05843ae8ab4",
   "metadata": {},
   "outputs": [],
   "source": [
    "import cobra\n",
    "from growth_coupling_suite.heterologous_reactions_processing.heterologous_reactions_processing import get_heterologous_reactions\n",
    "from growth_coupling_suite.heterologous_reactions_processing import config_heterologous_reactions_default as config"
   ]
  },
  {
   "cell_type": "markdown",
   "id": "bdbbe8bf-29f4-40ec-9a52-f31ca17bbdd1",
   "metadata": {},
   "source": [
    "# Load model"
   ]
  },
  {
   "cell_type": "code",
   "execution_count": 2,
   "id": "9b2137af-4740-4368-aeb9-79689ff71aa5",
   "metadata": {},
   "outputs": [
    {
     "name": "stdout",
     "output_type": "stream",
     "text": [
      "Set parameter Username\n",
      "Academic license - for non-commercial use only - expires 2023-08-05\n"
     ]
    },
    {
     "data": {
      "text/html": [
       "\n",
       "        <table>\n",
       "            <tr>\n",
       "                <td><strong>Name</strong></td>\n",
       "                <td>ECC2</td>\n",
       "            </tr><tr>\n",
       "                <td><strong>Memory address</strong></td>\n",
       "                <td>0x02075c284070</td>\n",
       "            </tr><tr>\n",
       "                <td><strong>Number of metabolites</strong></td>\n",
       "                <td>510</td>\n",
       "            </tr><tr>\n",
       "                <td><strong>Number of reactions</strong></td>\n",
       "                <td>501</td>\n",
       "            </tr><tr>\n",
       "                <td><strong>Number of groups</strong></td>\n",
       "                <td>0</td>\n",
       "            </tr><tr>\n",
       "                <td><strong>Objective expression</strong></td>\n",
       "                <td>1.0*BIOMASS_Ec_iJO1366_core_53p95M - 1.0*BIOMASS_Ec_iJO1366_core_53p95M_reverse_5c8b1</td>\n",
       "            </tr><tr>\n",
       "                <td><strong>Compartments</strong></td>\n",
       "                <td>cytosol, extracellular space, periplasm</td>\n",
       "            </tr>\n",
       "          </table>"
      ],
      "text/plain": [
       "<Model ECC2 at 0x2075c284070>"
      ]
     },
     "execution_count": 2,
     "metadata": {},
     "output_type": "execute_result"
    }
   ],
   "source": [
    "model = cobra.io.load_json_model(\"Files/ECC2.json\")\n",
    "model"
   ]
  },
  {
   "cell_type": "markdown",
   "id": "3c758532-512f-4a61-89ab-b4a41e9e7a3e",
   "metadata": {},
   "source": [
    "# Build heterologous reaction database model\n",
    "## Without reaction directionalities assessment"
   ]
  },
  {
   "cell_type": "code",
   "execution_count": 6,
   "id": "557394fe-03f7-4e92-a2ba-2e4167465a54",
   "metadata": {
    "tags": []
   },
   "outputs": [
    {
     "name": "stdout",
     "output_type": "stream",
     "text": [
      "Create a new heterologous reaction database\n",
      "Update heterologous reaction database...\n",
      "\tiML1515\n",
      "Extract heterologous reactions from: iML1515\n",
      "\t878 heterologous reactions found\n"
     ]
    }
   ],
   "source": [
    "config.directionality_assessment = False\n",
    "model_hr_dir, model_hr = get_heterologous_reactions(\n",
    "    model,\n",
    "    config=config,\n",
    "    reprocess=True,\n",
    "    save_models=True,\n",
    "    model_path=\"Results\", # default path is in the growth-coupling suite installation folder\n",
    "    heterologous_models_id=['iML1515']\n",
    ")"
   ]
  },
  {
   "cell_type": "markdown",
   "id": "3bd9cb0c-5be0-485f-9950-5c306fcdb0ae",
   "metadata": {},
   "source": [
    "## With reaction directionalities assessment\n",
    "- May take while, as every reaction is evaluated with thermodynamic data from equilibrator"
   ]
  },
  {
   "cell_type": "code",
   "execution_count": 7,
   "id": "8f39ec6c-4de1-4e37-be9c-cc602699d6ec",
   "metadata": {
    "scrolled": true,
    "tags": []
   },
   "outputs": [
    {
     "name": "stdout",
     "output_type": "stream",
     "text": [
      "Create a new heterologous reaction database\n",
      "Update heterologous reaction database...\n",
      "\tiML1515\n",
      "Extract heterologous reactions from: iML1515\n",
      "\t878 heterologous reactions found\n",
      "Assess directions of heterologous reactions...\n",
      "CYTDK2\n",
      "1 1\n",
      "XPPT\n",
      "1 1\n",
      "HXPRT\n",
      "1 1\n",
      "NDPK5\n",
      "0 0\n",
      "NDPK6\n",
      "1 0\n",
      "ALATA_L2\n",
      "0 1\n",
      "PTRCTA\n",
      "0 1\n",
      "ACS\n",
      "1 1\n",
      "CYSDS\n",
      "1 1\n",
      "MAN6PI\n",
      "0 0\n",
      "PPA\n",
      "1 1\n",
      "ALATA_L\n",
      "0 0\n",
      "XYLK\n",
      "1 1\n",
      "RBK\n",
      "1 1\n",
      "ACP1_FMN\n",
      "1 1\n",
      "NDP3\n",
      "1 1\n",
      "CDPPH\n",
      "1 1\n",
      "NDP7\n",
      "1 1\n",
      "GLGC\n",
      "1 1\n",
      "ALATA_D2\n",
      "0 1\n",
      "DHORD5\n",
      "1 1\n",
      "GLYCTO2\n",
      "1 1\n",
      "GLYCTO3\n",
      "0 1\n",
      "PFK_3\n",
      "1 1\n",
      "TRPS2\n",
      "1 1\n",
      "G1PP\n",
      "1 1\n",
      "TMDPP\n",
      "0 0\n",
      "NTPP1\n",
      "1 1\n",
      "URIK1\n",
      "1 1\n",
      "URIK2\n",
      "1 1\n",
      "NTPP2\n",
      "1 1\n",
      "NTPTP1\n",
      "Gibbs free energy of NTPTP1 is not reliable\n",
      "Determination of reaction direction failed\n",
      "-3 1\n",
      "NTPTP2\n",
      "Gibbs free energy of NTPTP2 is not reliable\n",
      "Determination of reaction direction failed\n",
      "-3 1\n",
      "CYTDK1\n",
      "1 1\n",
      "PUNP3\n",
      "0 0\n",
      "PUNP5\n",
      "0 0\n",
      "PUNP6\n",
      "0 0\n",
      "PUNP7\n",
      "0 0\n",
      "G6PDA\n",
      "0 1\n",
      "RNDR1\n",
      "1 1\n",
      "RNDR3\n",
      "1 1\n",
      "RNDR4\n",
      "1 1\n",
      "ALDD2y\n",
      "1 1\n",
      "RMI\n",
      "0 0\n",
      "TMDK1\n",
      "1 1\n",
      "LYSAM\n",
      "0 0\n",
      "FTHFD\n",
      "1 1\n",
      "G3PD7\n",
      "1 1\n",
      "NADH9\n",
      "1 1\n",
      "NADH10\n",
      "1 1\n",
      "ADK4\n",
      "1 0\n",
      "INSK\n",
      "1 1\n",
      "ABTA\n",
      "0 1\n",
      "PYDXNK\n",
      "1 1\n",
      "PYAM5PO\n",
      "1 1\n",
      "SSALx\n",
      "1 1\n",
      "ASPT\n",
      "0 1\n",
      "SERD_L\n",
      "1 1\n",
      "NADDP\n",
      "1 1\n",
      "THRD\n",
      "0 1\n",
      "NMNAT\n",
      "1 1\n",
      "HMPK1\n",
      "1 1\n",
      "ICHORS_copy2\n",
      "0 0\n",
      "SUCBZS\n",
      "1 1\n",
      "DHBD\n",
      "1 0\n",
      "ICHORT\n",
      "1 1\n",
      "GLCS1\n",
      "1 1\n",
      "GLCP\n",
      "-1 1\n",
      "RBK_L1\n",
      "1 1\n",
      "RBP4E\n",
      "0 0\n",
      "TARTD\n",
      "1 1\n",
      "GLCRAL\n",
      "0 1\n",
      "NTD4\n",
      "1 1\n",
      "NTD5\n",
      "1 1\n",
      "KAS14\n"
     ]
    },
    {
     "name": "stderr",
     "output_type": "stream",
     "text": [
      "C:\\Users\\Tobi\\.conda\\envs\\env_gcs_py39\\lib\\site-packages\\equilibrator_cache\\reaction.py:616: UserWarning: Cannot calculate Legendre transform for Compound(id=858, inchi_key=None): Compound(id=858, inchi_key=None) has not yet been analyzed by ChemAxon.\n",
      "  warnings.warn(\n",
      "C:\\Users\\Tobi\\.conda\\envs\\env_gcs_py39\\lib\\site-packages\\equilibrator_cache\\reaction.py:616: UserWarning: Cannot calculate Legendre transform for Compound(id=1168, inchi_key=None): Compound(id=1168, inchi_key=None) has not yet been analyzed by ChemAxon.\n",
      "  warnings.warn(\n",
      "C:\\Users\\Tobi\\.conda\\envs\\env_gcs_py39\\lib\\site-packages\\equilibrator_cache\\reaction.py:616: UserWarning: Cannot calculate Legendre transform for Compound(id=1130, inchi_key=None): Compound(id=1130, inchi_key=None) has not yet been analyzed by ChemAxon.\n",
      "  warnings.warn(\n",
      "C:\\Users\\Tobi\\.conda\\envs\\env_gcs_py39\\lib\\site-packages\\equilibrator_cache\\reaction.py:616: UserWarning: Cannot calculate Legendre transform for Compound(id=174, inchi_key=None): Compound(id=174, inchi_key=None) has not yet been analyzed by ChemAxon.\n",
      "  warnings.warn(\n"
     ]
    },
    {
     "name": "stdout",
     "output_type": "stream",
     "text": [
      "Gibbs free energy of KAS14 is not reliable\n",
      "Determination of reaction direction failed\n",
      "-3 1\n",
      "ADMDC\n",
      "1 1\n",
      "AGMT\n",
      "1 1\n",
      "LGTHL\n",
      "0 1\n",
      "PYDXPP\n",
      "1 1\n",
      "PDXPP\n",
      "1 1\n",
      "ARGDC\n",
      "1 1\n",
      "SPMS\n",
      "Gibbs free energy of SPMS is not reliable\n",
      "Determination of reaction direction failed\n",
      "-3 1\n",
      "UGLT\n",
      "0 0\n",
      "OAADC\n",
      "1 1\n",
      "MNNH\n",
      "1 1\n",
      "ALTRH\n",
      "1 1\n",
      "GUI1\n",
      "0 0\n",
      "DDGLK\n",
      "1 1\n",
      "XYLI2\n",
      "0 0\n",
      "PMANM\n",
      "0 0\n",
      "UAG2E\n",
      "0 0\n",
      "HCYSMT\n",
      "Gibbs free energy of HCYSMT is not reliable\n",
      "Determination of reaction direction failed\n",
      "-3 1\n",
      "MACPD\n",
      "Gibbs free energy of MACPD is not reliable\n",
      "Determination of reaction direction failed\n",
      "-3 1\n",
      "UDPG4E\n",
      "0 0\n",
      "LACZ\n"
     ]
    },
    {
     "name": "stderr",
     "output_type": "stream",
     "text": [
      "C:\\Users\\Tobi\\.conda\\envs\\env_gcs_py39\\lib\\site-packages\\equilibrator_cache\\reaction.py:616: UserWarning: Cannot calculate Legendre transform for Compound(id=1168, inchi_key=None): Compound(id=1168, inchi_key=None) has not yet been analyzed by ChemAxon.\n",
      "  warnings.warn(\n",
      "C:\\Users\\Tobi\\.conda\\envs\\env_gcs_py39\\lib\\site-packages\\equilibrator_cache\\reaction.py:616: UserWarning: Cannot calculate Legendre transform for Compound(id=174, inchi_key=None): Compound(id=174, inchi_key=None) has not yet been analyzed by ChemAxon.\n",
      "  warnings.warn(\n"
     ]
    },
    {
     "name": "stdout",
     "output_type": "stream",
     "text": [
      "1 1\n",
      "TRE6PH\n",
      "1 1\n",
      "XYLI1\n",
      "0 0\n",
      "ICHORS_copy1\n",
      "0 1\n",
      "G3PT\n",
      "1 1\n",
      "CINNDO\n",
      "1 1\n",
      "DHPPD\n",
      "1 1\n",
      "DHCIND\n",
      "1 1\n",
      "CITL\n",
      "0 1\n",
      "GOFUCR\n",
      "0 1\n",
      "PYDXK\n",
      "1 1\n",
      "HEX7\n",
      "1 1\n",
      "AACPS1\n"
     ]
    },
    {
     "name": "stderr",
     "output_type": "stream",
     "text": [
      "C:\\Users\\Tobi\\.conda\\envs\\env_gcs_py39\\lib\\site-packages\\equilibrator_cache\\reaction.py:616: UserWarning: Cannot calculate Legendre transform for Compound(id=74406, inchi_key=None): Compound(id=74406, inchi_key=None) has not yet been analyzed by ChemAxon.\n",
      "  warnings.warn(\n",
      "C:\\Users\\Tobi\\.conda\\envs\\env_gcs_py39\\lib\\site-packages\\equilibrator_cache\\reaction.py:616: UserWarning: Cannot calculate Legendre transform for Compound(id=131783, inchi_key=None): Compound(id=131783, inchi_key=None) has not yet been analyzed by ChemAxon.\n",
      "  warnings.warn(\n",
      "C:\\Users\\Tobi\\.conda\\envs\\env_gcs_py39\\lib\\site-packages\\equilibrator_cache\\reaction.py:616: UserWarning: Cannot calculate Legendre transform for Compound(id=858, inchi_key=None): Compound(id=858, inchi_key=None) has not yet been analyzed by ChemAxon.\n",
      "  warnings.warn(\n"
     ]
    },
    {
     "name": "stdout",
     "output_type": "stream",
     "text": [
      "Gibbs free energy of AACPS1 is not reliable\n",
      "Determination of reaction direction failed\n",
      "-3 1\n",
      "DHORD2\n",
      "1 1\n",
      "LCARS\n",
      "0 0\n",
      "ALCD19\n",
      "1 0\n",
      "RMPA\n",
      "0 0\n",
      "SBTPD\n",
      "0 0\n",
      "PFK_2\n",
      "1 1\n",
      "GLTPD\n",
      "0 0\n",
      "ACACCT\n",
      "0 1\n",
      "BUTCT\n"
     ]
    },
    {
     "name": "stderr",
     "output_type": "stream",
     "text": [
      "C:\\Users\\Tobi\\.conda\\envs\\env_gcs_py39\\lib\\site-packages\\equilibrator_cache\\reaction.py:616: UserWarning: Cannot calculate Legendre transform for Compound(id=131825, inchi_key=None): Compound(id=131825, inchi_key=None) has not yet been analyzed by ChemAxon.\n",
      "  warnings.warn(\n"
     ]
    },
    {
     "name": "stdout",
     "output_type": "stream",
     "text": [
      "Gibbs free energy of BUTCT is not reliable\n",
      "Determination of reaction direction failed\n",
      "-3 1\n",
      "TGBPA\n",
      "0 0\n",
      "MANAO\n",
      "0 0\n",
      "TAGURr\n",
      "0 0\n",
      "DMSOR1\n",
      "1 1\n",
      "PGLYCP\n",
      "1 1\n",
      "2DGULRx\n"
     ]
    },
    {
     "name": "stderr",
     "output_type": "stream",
     "text": [
      "C:\\Users\\Tobi\\.conda\\envs\\env_gcs_py39\\lib\\site-packages\\equilibrator_cache\\reaction.py:616: UserWarning: Cannot calculate Legendre transform for Compound(id=88419, inchi_key=None): Compound(id=88419, inchi_key=None) has not yet been analyzed by ChemAxon.\n",
      "  warnings.warn(\n"
     ]
    },
    {
     "name": "stdout",
     "output_type": "stream",
     "text": [
      "Gibbs free energy of 2DGULRx is not reliable\n",
      "Determination of reaction direction failed\n",
      "-3 1\n",
      "DKGLCNR2y\n",
      "1 1\n",
      "G1PTT\n",
      "0 1\n",
      "TDPGDH\n",
      "1 1\n",
      "2DGULRy\n",
      "Gibbs free energy of 2DGULRy is not reliable\n",
      "Determination of reaction direction failed\n",
      "-3 1\n",
      "DHAPT\n"
     ]
    },
    {
     "name": "stderr",
     "output_type": "stream",
     "text": [
      "C:\\Users\\Tobi\\.conda\\envs\\env_gcs_py39\\lib\\site-packages\\equilibrator_cache\\reaction.py:616: UserWarning: Cannot calculate Legendre transform for Compound(id=88419, inchi_key=None): Compound(id=88419, inchi_key=None) has not yet been analyzed by ChemAxon.\n",
      "  warnings.warn(\n"
     ]
    },
    {
     "name": "stdout",
     "output_type": "stream",
     "text": [
      "1 1\n",
      "UDPGALM\n",
      "0 1\n",
      "TDPDRE\n",
      "0 1\n",
      "TDPDRR\n",
      "0 1\n",
      "RZ5PP\n",
      "1 1\n",
      "DDPGALA\n",
      "0 0\n",
      "G3PD6\n",
      "1 1\n",
      "ALLTN\n",
      "1 1\n",
      "UPPRT\n",
      "0 1\n",
      "NTD9\n",
      "1 1\n",
      "NTD1\n",
      "1 1\n",
      "NTD7\n",
      "1 1\n",
      "NDPK7\n",
      "1 0\n",
      "GLYAT\n",
      "-1 0\n",
      "ADNUC\n",
      "1 1\n",
      "GMHEPPA\n",
      "1 1\n",
      "S7PI\n",
      "0 1\n",
      "AGMHE\n",
      "0 1\n",
      "CRNBTCT\n",
      "0 0\n",
      "CRNCBCT\n",
      "-1 0\n",
      "NTD10\n",
      "1 1\n",
      "CRNCDH\n",
      "0 0\n",
      "GMHEPAT\n",
      "1 1\n",
      "ADPT\n",
      "0 1\n",
      "IDOND\n",
      "0 0\n",
      "IDOND2\n",
      "1 1\n",
      "GTPDPK\n",
      "1 1\n",
      "GLYCLTDx\n",
      "1 1\n",
      "HPYRRy\n",
      "1 1\n",
      "ADA\n",
      "1 1\n",
      "DADA\n",
      "1 1\n",
      "ADD\n",
      "1 1\n",
      "AGDC\n",
      "1 1\n",
      "ASNN\n",
      "1 1\n",
      "HETZK\n",
      "1 1\n",
      "DMPPS\n",
      "1 1\n",
      "AST\n",
      "0 1\n",
      "SGDS\n",
      "1 1\n",
      "CYNTAH\n",
      "1 1\n",
      "GSPMDA\n",
      "1 1\n",
      "GSPMDS\n",
      "1 1\n",
      "GUAD\n",
      "Gibbs free energy of GUAD is not reliable\n",
      "Determination of reaction direction failed\n",
      "-3 1\n",
      "TMAOR1\n",
      "1 1\n",
      "TMAOR2\n",
      "1 1\n",
      "DGK1\n",
      "0 0\n",
      "TRDR\n",
      "0 1\n",
      "NMNDA\n",
      "0 1\n",
      "NNAM\n",
      "1 1\n",
      "P5CD\n",
      "0 1\n",
      "PGMT\n",
      "0 0\n",
      "FRUK\n",
      "1 1\n",
      "SPMDAT1\n",
      "1 1\n",
      "KG6PDC\n",
      "1 1\n",
      "SPMDAT2\n",
      "1 1\n",
      "TDPADGAT\n",
      "1 1\n",
      "X5PL3E\n",
      "0 1\n",
      "DOGULNR\n",
      "0 1\n",
      "TRE6PP\n",
      "1 1\n",
      "BETALDHx\n",
      "1 1\n",
      "BETALDHy\n",
      "1 1\n",
      "MLTG3\n",
      "1 1\n",
      "ADPRDP\n",
      "1 1\n",
      "DKGLCNR1\n",
      "Gibbs free energy of DKGLCNR1 is not reliable\n",
      "Determination of reaction direction failed\n",
      "-3 1\n",
      "AACPS2\n"
     ]
    },
    {
     "name": "stderr",
     "output_type": "stream",
     "text": [
      "C:\\Users\\Tobi\\.conda\\envs\\env_gcs_py39\\lib\\site-packages\\equilibrator_cache\\reaction.py:616: UserWarning: Cannot calculate Legendre transform for Compound(id=88419, inchi_key=None): Compound(id=88419, inchi_key=None) has not yet been analyzed by ChemAxon.\n",
      "  warnings.warn(\n",
      "C:\\Users\\Tobi\\.conda\\envs\\env_gcs_py39\\lib\\site-packages\\equilibrator_cache\\reaction.py:616: UserWarning: Cannot calculate Legendre transform for Compound(id=131966, inchi_key=None): Compound(id=131966, inchi_key=None) has not yet been analyzed by ChemAxon.\n",
      "  warnings.warn(\n",
      "C:\\Users\\Tobi\\.conda\\envs\\env_gcs_py39\\lib\\site-packages\\equilibrator_cache\\reaction.py:616: UserWarning: Cannot calculate Legendre transform for Compound(id=609, inchi_key=None): Compound(id=609, inchi_key=None) has not yet been analyzed by ChemAxon.\n",
      "  warnings.warn(\n",
      "C:\\Users\\Tobi\\.conda\\envs\\env_gcs_py39\\lib\\site-packages\\equilibrator_cache\\reaction.py:616: UserWarning: Cannot calculate Legendre transform for Compound(id=858, inchi_key=None): Compound(id=858, inchi_key=None) has not yet been analyzed by ChemAxon.\n",
      "  warnings.warn(\n"
     ]
    },
    {
     "name": "stdout",
     "output_type": "stream",
     "text": [
      "Gibbs free energy of AACPS2 is not reliable\n",
      "Determination of reaction direction failed\n",
      "-3 1\n",
      "FMNRx2\n",
      "1 1\n",
      "ACPS1\n"
     ]
    },
    {
     "name": "stderr",
     "output_type": "stream",
     "text": [
      "C:\\Users\\Tobi\\.conda\\envs\\env_gcs_py39\\lib\\site-packages\\equilibrator_cache\\reaction.py:616: UserWarning: Cannot calculate Legendre transform for Compound(id=1967, inchi_key=None): Compound(id=1967, inchi_key=None) has not yet been analyzed by ChemAxon.\n",
      "  warnings.warn(\n",
      "C:\\Users\\Tobi\\.conda\\envs\\env_gcs_py39\\lib\\site-packages\\equilibrator_cache\\reaction.py:616: UserWarning: Cannot calculate Legendre transform for Compound(id=858, inchi_key=None): Compound(id=858, inchi_key=None) has not yet been analyzed by ChemAxon.\n",
      "  warnings.warn(\n"
     ]
    },
    {
     "name": "stdout",
     "output_type": "stream",
     "text": [
      "Gibbs free energy of ACPS1 is not reliable\n",
      "Determination of reaction direction failed\n",
      "-3 1\n",
      "ARAI\n",
      "0 0\n",
      "M1PD\n",
      "0 0\n",
      "GALS3\n",
      "0 1\n",
      "FCI\n",
      "0 0\n",
      "FCLK\n",
      "1 1\n",
      "FCLPA\n",
      "0 0\n",
      "AMPN\n",
      "1 1\n",
      "GSNK\n",
      "1 1\n",
      "ACCOAL\n"
     ]
    },
    {
     "name": "stderr",
     "output_type": "stream",
     "text": [
      "C:\\Users\\Tobi\\.conda\\envs\\env_gcs_py39\\lib\\site-packages\\equilibrator_cache\\reaction.py:616: UserWarning: Cannot calculate Legendre transform for Compound(id=131804, inchi_key=None): Compound(id=131804, inchi_key=None) has not yet been analyzed by ChemAxon.\n",
      "  warnings.warn(\n"
     ]
    },
    {
     "name": "stdout",
     "output_type": "stream",
     "text": [
      "Gibbs free energy of ACCOAL is not reliable\n",
      "Determination of reaction direction failed\n",
      "-3 1\n",
      "GALUi\n",
      "1 1\n",
      "UGLYCH\n",
      "1 1\n",
      "NTPP3\n",
      "1 1\n",
      "NTPP6\n",
      "1 1\n",
      "NTPP7\n",
      "1 1\n",
      "OP4ENH\n",
      "0 1\n",
      "HOPNTAL\n",
      "0 1\n",
      "NTPP8\n",
      "1 1\n",
      "CYANST\n",
      "Gibbs free energy of CYANST is not reliable\n",
      "Determination of reaction direction failed\n",
      "-3 1\n",
      "3HPPPNH\n",
      "1 1\n",
      "GMAND\n",
      "1 1\n",
      "PPCSCT\n",
      "Gibbs free energy of PPCSCT is not reliable\n",
      "Determination of reaction direction failed\n",
      "-3 1\n",
      "CYTD\n",
      "1 1\n",
      "HPYRRx\n",
      "1 1\n",
      "DCYTD\n"
     ]
    },
    {
     "name": "stderr",
     "output_type": "stream",
     "text": [
      "C:\\Users\\Tobi\\.conda\\envs\\env_gcs_py39\\lib\\site-packages\\equilibrator_cache\\reaction.py:616: UserWarning: Cannot calculate Legendre transform for Compound(id=131804, inchi_key=None): Compound(id=131804, inchi_key=None) has not yet been analyzed by ChemAxon.\n",
      "  warnings.warn(\n"
     ]
    },
    {
     "name": "stdout",
     "output_type": "stream",
     "text": [
      "1 1\n",
      "DCTPD\n",
      "1 1\n",
      "AMANK\n",
      "1 1\n",
      "GART\n",
      "1 1\n",
      "CSND\n",
      "1 1\n",
      "GLUCYS\n",
      "1 1\n",
      "GLUN\n",
      "1 1\n",
      "GMPR\n",
      "Gibbs free energy of GMPR is not reliable\n",
      "Determination of reaction direction failed\n",
      "-3 1\n",
      "PAPSR\n",
      "1 1\n",
      "NTRIR2x\n",
      "1 1\n",
      "GPDDA1\n",
      "Gibbs free energy of GPDDA1 is not reliable\n",
      "Determination of reaction direction failed\n",
      "-3 1\n",
      "GPDDA2\n",
      "Gibbs free energy of GPDDA2 is not reliable\n",
      "Determination of reaction direction failed\n",
      "-3 1\n",
      "ASCBPL\n",
      "0 1\n",
      "TRPS1\n",
      "1 1\n",
      "HPPPNDO\n",
      "1 1\n",
      "MCITL2\n"
     ]
    },
    {
     "name": "stderr",
     "output_type": "stream",
     "text": [
      "C:\\Users\\Tobi\\.conda\\envs\\env_gcs_py39\\lib\\site-packages\\equilibrator_cache\\reaction.py:616: UserWarning: Cannot calculate Legendre transform for Compound(id=48324, inchi_key=None): Compound(id=48324, inchi_key=None) has not yet been analyzed by ChemAxon.\n",
      "  warnings.warn(\n"
     ]
    },
    {
     "name": "stdout",
     "output_type": "stream",
     "text": [
      "Gibbs free energy of MCITL2 is not reliable\n",
      "Determination of reaction direction failed\n",
      "-3 0\n",
      "DXYLK\n",
      "1 1\n",
      "MDH3\n",
      "1 1\n",
      "SOTA\n",
      "0 1\n",
      "DHCINDO\n",
      "1 1\n",
      "SGSAD\n",
      "1 1\n",
      "HKNDDH\n",
      "1 1\n",
      "HKNTDH\n",
      "1 1\n",
      "GLYCK2\n",
      "1 1\n",
      "PTA2\n",
      "-1 1\n",
      "MDH2\n",
      "1 1\n",
      "GPDDA5\n",
      "Gibbs free energy of GPDDA5 is not reliable\n",
      "Determination of reaction direction failed\n",
      "-3 1\n",
      "ENTCS\n",
      "Gibbs free energy of ENTCS is not reliable\n",
      "Determination of reaction direction failed\n",
      "-3 1\n",
      "MANPGH\n",
      "1 1\n",
      "URDGLYCD\n",
      "0 1\n",
      "AMANAPEr\n",
      "0 0\n",
      "ACM6PH\n",
      "1 1\n",
      "CYTDH\n",
      "0 1\n",
      "ETHAAL\n",
      "1 1\n",
      "MAN1PT2\n",
      "0 1\n",
      "AP4AH\n",
      "1 1\n",
      "AP5AH\n",
      "Gibbs free energy of AP5AH is not reliable\n",
      "Determination of reaction direction failed\n",
      "-3 1\n",
      "ADNCYC\n",
      "1 1\n",
      "MI1PP\n",
      "1 1\n",
      "MCITS\n",
      "1 1\n",
      "PPAKr\n",
      "Gibbs free energy of PPAKr is not reliable\n",
      "Determination of reaction direction failed\n",
      "-3 0\n",
      "TAUDO\n"
     ]
    },
    {
     "name": "stderr",
     "output_type": "stream",
     "text": [
      "C:\\Users\\Tobi\\.conda\\envs\\env_gcs_py39\\lib\\site-packages\\equilibrator_cache\\reaction.py:616: UserWarning: Cannot calculate Legendre transform for Compound(id=131804, inchi_key=None): Compound(id=131804, inchi_key=None) has not yet been analyzed by ChemAxon.\n",
      "  warnings.warn(\n"
     ]
    },
    {
     "name": "stdout",
     "output_type": "stream",
     "text": [
      "Gibbs free energy of TAUDO is not reliable\n",
      "Determination of reaction direction failed\n",
      "-3 1\n",
      "NTP3\n",
      "1 1\n",
      "PPM2\n",
      "1 0\n",
      "CBPS\n",
      "1 1\n",
      "ACOATA\n",
      "Gibbs free energy of ACOATA is not reliable\n",
      "Determination of reaction direction failed\n",
      "-3 0\n",
      "NADH5\n",
      "1 1\n",
      "MLTG2\n"
     ]
    },
    {
     "name": "stderr",
     "output_type": "stream",
     "text": [
      "C:\\Users\\Tobi\\.conda\\envs\\env_gcs_py39\\lib\\site-packages\\equilibrator_cache\\reaction.py:616: UserWarning: Cannot calculate Legendre transform for Compound(id=858, inchi_key=None): Compound(id=858, inchi_key=None) has not yet been analyzed by ChemAxon.\n",
      "  warnings.warn(\n",
      "C:\\Users\\Tobi\\.conda\\envs\\env_gcs_py39\\lib\\site-packages\\equilibrator_cache\\reaction.py:616: UserWarning: Cannot calculate Legendre transform for Compound(id=1168, inchi_key=None): Compound(id=1168, inchi_key=None) has not yet been analyzed by ChemAxon.\n",
      "  warnings.warn(\n"
     ]
    },
    {
     "name": "stdout",
     "output_type": "stream",
     "text": [
      "1 1\n",
      "MLTG1\n",
      "1 1\n",
      "SPODM\n",
      "Gibbs free energy of SPODM is not reliable\n",
      "Determination of reaction direction failed\n",
      "-3 1\n",
      "ACNML\n",
      "0 1\n",
      "TMK\n",
      "-1 1\n",
      "NTPP4\n",
      "1 1\n",
      "GMPS\n",
      "Gibbs free energy of GMPS is not reliable\n",
      "Determination of reaction direction failed\n",
      "-3 1\n",
      "CAT\n",
      "1 1\n",
      "UDPGD\n",
      "1 1\n",
      "SERASr\n",
      "Gibbs free energy of SERASr is not reliable\n",
      "Determination of reaction direction failed\n",
      "-3 0\n",
      "GLCRD\n",
      "1 1\n",
      "PPPNDO\n",
      "1 1\n",
      "TDPAGTA\n",
      "0 1\n",
      "UACMAMO\n",
      "1 1\n",
      "FBA3\n",
      "0 0\n",
      "LCADi\n",
      "1 1\n",
      "ADK3\n",
      "0 0\n",
      "GLUDC\n",
      "1 1\n",
      "BSORy\n",
      "Gibbs free energy of BSORy is not reliable\n",
      "Determination of reaction direction failed\n",
      "-3 1\n",
      "DMSOR2\n",
      "1 1\n",
      "SSALy\n",
      "1 1\n",
      "DDGALK\n",
      "1 1\n",
      "AB6PGH\n",
      "-1 1\n",
      "AMALT1\n",
      "0 1\n",
      "AHGDx\n",
      "-1 0\n",
      "3HCINNMH\n",
      "1 1\n",
      "BSORx\n",
      "Gibbs free energy of BSORx is not reliable\n",
      "Determination of reaction direction failed\n",
      "-3 1\n",
      "PACCOAL\n",
      "1 1\n",
      "GP4GH\n",
      "1 1\n",
      "SPODMpp\n",
      "Gibbs free energy of SPODMpp is not reliable\n",
      "Determination of reaction direction failed\n",
      "-3 1\n",
      "PHYTSpp\n",
      "1 1\n",
      "PPTHpp\n",
      "Gibbs free energy of PPTHpp is not reliable\n",
      "Determination of reaction direction failed\n",
      "-3 1\n",
      "NTP3pp\n",
      "1 1\n",
      "GMHEPK\n",
      "1 1\n",
      "FDMO\n",
      "Gibbs free energy of FDMO is not reliable\n",
      "Determination of reaction direction failed\n",
      "-3 1\n",
      "CHOLD\n",
      "0 1\n",
      "TRE6PS\n",
      "0 1\n",
      "DRPA\n",
      "0 1\n",
      "TREH\n",
      "1 1\n",
      "CYTK2\n",
      "1 0\n",
      "NTD8pp\n",
      "1 1\n",
      "TREHpp\n",
      "1 1\n",
      "ACGAMK\n",
      "1 1\n",
      "ASPO3\n",
      "1 1\n",
      "ASPO4\n",
      "0 1\n",
      "ASPO6\n",
      "1 1\n",
      "FDMO3\n",
      "Gibbs free energy of FDMO3 is not reliable\n",
      "Determination of reaction direction failed\n",
      "-3 1\n",
      "FDMO4\n",
      "Gibbs free energy of FDMO4 is not reliable\n",
      "Determination of reaction direction failed\n",
      "-3 1\n",
      "MALTATr\n",
      "0 0\n",
      "MALDDH\n",
      "1 1\n",
      "ENTERES\n",
      "1 1\n",
      "LYXI\n",
      "0 1\n",
      "LADGMDH\n"
     ]
    },
    {
     "name": "stderr",
     "output_type": "stream",
     "text": [
      "C:\\Users\\Tobi\\.conda\\envs\\env_gcs_py39\\lib\\site-packages\\equilibrator_cache\\reaction.py:616: UserWarning: Cannot calculate Legendre transform for Compound(id=74472, inchi_key=None): Compound(id=74472, inchi_key=None) has not yet been analyzed by ChemAxon.\n",
      "  warnings.warn(\n"
     ]
    },
    {
     "name": "stdout",
     "output_type": "stream",
     "text": [
      "Gibbs free energy of LADGMDH is not reliable\n",
      "Determination of reaction direction failed\n",
      "-3 1\n",
      "ALKP\n",
      "1 1\n",
      "ALAGLUE\n",
      "0 0\n",
      "L_LACD3\n",
      "1 1\n",
      "L_LACD2\n",
      "1 1\n",
      "GGGABAH\n",
      "1 1\n",
      "FRULYSK\n"
     ]
    },
    {
     "name": "stderr",
     "output_type": "stream",
     "text": [
      "C:\\Users\\Tobi\\.conda\\envs\\env_gcs_py39\\lib\\site-packages\\equilibrator_cache\\reaction.py:616: UserWarning: Cannot calculate Legendre transform for Compound(id=9077, inchi_key=None): Compound(id=9077, inchi_key=None) has not yet been analyzed by ChemAxon.\n",
      "  warnings.warn(\n"
     ]
    },
    {
     "name": "stdout",
     "output_type": "stream",
     "text": [
      "Gibbs free energy of FRULYSK is not reliable\n",
      "Determination of reaction direction failed\n",
      "-3 1\n",
      "FDMO6\n",
      "Gibbs free energy of FDMO6 is not reliable\n",
      "Determination of reaction direction failed\n",
      "-3 1\n",
      "CYANSTpp\n",
      "Gibbs free energy of CYANSTpp is not reliable\n",
      "Determination of reaction direction failed\n",
      "-3 1\n",
      "MCPST\n",
      "1 1\n",
      "GGGABADr\n",
      "1 0\n",
      "FE3Ri\n",
      "1 1\n",
      "NODOy\n",
      "1 1\n",
      "GALM2pp\n",
      "0 1\n",
      "NODOx\n",
      "1 1\n",
      "NHFRBO\n",
      "1 1\n",
      "42A12BOOXpp\n",
      "1 1\n",
      "TYROXDApp\n",
      "1 1\n",
      "RNDR3b\n"
     ]
    },
    {
     "name": "stderr",
     "output_type": "stream",
     "text": [
      "C:\\Users\\Tobi\\.conda\\envs\\env_gcs_py39\\lib\\site-packages\\equilibrator_cache\\reaction.py:616: UserWarning: Cannot calculate Legendre transform for Compound(id=74578, inchi_key=None): Compound(id=74578, inchi_key=None) has not yet been analyzed by ChemAxon.\n",
      "  warnings.warn(\n",
      "C:\\Users\\Tobi\\.conda\\envs\\env_gcs_py39\\lib\\site-packages\\equilibrator_cache\\reaction.py:616: UserWarning: Cannot calculate Legendre transform for Compound(id=74556, inchi_key=None): Compound(id=74556, inchi_key=None) has not yet been analyzed by ChemAxon.\n",
      "  warnings.warn(\n",
      "C:\\Users\\Tobi\\.conda\\envs\\env_gcs_py39\\lib\\site-packages\\equilibrator_cache\\reaction.py:616: UserWarning: Cannot calculate Legendre transform for Compound(id=74578, inchi_key=None): Compound(id=74578, inchi_key=None) has not yet been analyzed by ChemAxon.\n",
      "  warnings.warn(\n",
      "C:\\Users\\Tobi\\.conda\\envs\\env_gcs_py39\\lib\\site-packages\\equilibrator_cache\\reaction.py:616: UserWarning: Cannot calculate Legendre transform for Compound(id=74556, inchi_key=None): Compound(id=74556, inchi_key=None) has not yet been analyzed by ChemAxon.\n",
      "  warnings.warn(\n"
     ]
    },
    {
     "name": "stdout",
     "output_type": "stream",
     "text": [
      "Gibbs free energy of RNDR3b is not reliable\n",
      "Determination of reaction direction failed\n",
      "-3 1\n",
      "RNDR4b\n",
      "Gibbs free energy of RNDR4b is not reliable\n",
      "Determination of reaction direction failed\n",
      "-3 1\n",
      "UDPGALPpp\n",
      "1 1\n",
      "UACGAMPpp\n",
      "1 1\n",
      "UACGALPpp\n",
      "1 1\n",
      "UGLCURPpp\n",
      "1 1\n",
      "FEROpp\n",
      "0 1\n",
      "AM4PCP\n",
      "0 1\n",
      "AM3PA\n"
     ]
    },
    {
     "name": "stderr",
     "output_type": "stream",
     "text": [
      "C:\\Users\\Tobi\\.conda\\envs\\env_gcs_py39\\lib\\site-packages\\equilibrator_cache\\reaction.py:616: UserWarning: Cannot calculate Legendre transform for Compound(id=74529, inchi_key=None): Compound(id=74529, inchi_key=None) has not yet been analyzed by ChemAxon.\n",
      "  warnings.warn(\n",
      "C:\\Users\\Tobi\\.conda\\envs\\env_gcs_py39\\lib\\site-packages\\equilibrator_cache\\reaction.py:616: UserWarning: Cannot calculate Legendre transform for Compound(id=74472, inchi_key=None): Compound(id=74472, inchi_key=None) has not yet been analyzed by ChemAxon.\n",
      "  warnings.warn(\n"
     ]
    },
    {
     "name": "stdout",
     "output_type": "stream",
     "text": [
      "Gibbs free energy of AM3PA is not reliable\n",
      "Determination of reaction direction failed\n",
      "-3 1\n",
      "AGM3PA\n"
     ]
    },
    {
     "name": "stderr",
     "output_type": "stream",
     "text": [
      "C:\\Users\\Tobi\\.conda\\envs\\env_gcs_py39\\lib\\site-packages\\equilibrator_cache\\reaction.py:616: UserWarning: Cannot calculate Legendre transform for Compound(id=2680, inchi_key=None): Compound(id=2680, inchi_key=None) has not yet been analyzed by ChemAxon.\n",
      "  warnings.warn(\n",
      "C:\\Users\\Tobi\\.conda\\envs\\env_gcs_py39\\lib\\site-packages\\equilibrator_cache\\reaction.py:616: UserWarning: Cannot calculate Legendre transform for Compound(id=74472, inchi_key=None): Compound(id=74472, inchi_key=None) has not yet been analyzed by ChemAxon.\n",
      "  warnings.warn(\n"
     ]
    },
    {
     "name": "stdout",
     "output_type": "stream",
     "text": [
      "Gibbs free energy of AGM3PA is not reliable\n",
      "Determination of reaction direction failed\n",
      "-3 1\n",
      "ACANTHAT\n",
      "0 1\n",
      "TDP\n",
      "0 1\n",
      "METSOXR1\n",
      "Gibbs free energy of METSOXR1 is not reliable\n",
      "Determination of reaction direction failed\n",
      "-3 1\n",
      "METSOXR2\n",
      "Gibbs free energy of METSOXR2 is not reliable\n",
      "Determination of reaction direction failed\n",
      "-3 1\n",
      "DAPAL\n",
      "1 1\n",
      "AMPTASECG\n",
      "0 1\n",
      "LACZpp\n",
      "1 1\n",
      "GPDDA1pp\n",
      "Gibbs free energy of GPDDA1pp is not reliable\n",
      "Determination of reaction direction failed\n",
      "-3 1\n",
      "GPDDA5pp\n",
      "Gibbs free energy of GPDDA5pp is not reliable\n",
      "Determination of reaction direction failed\n",
      "-3 1\n",
      "FEOXAMR1\n"
     ]
    },
    {
     "name": "stderr",
     "output_type": "stream",
     "text": [
      "C:\\Users\\Tobi\\.conda\\envs\\env_gcs_py39\\lib\\site-packages\\equilibrator_cache\\reaction.py:616: UserWarning: Cannot calculate Legendre transform for Compound(id=74576, inchi_key=None): Compound(id=74576, inchi_key=None) has not yet been analyzed by ChemAxon.\n",
      "  warnings.warn(\n",
      "C:\\Users\\Tobi\\.conda\\envs\\env_gcs_py39\\lib\\site-packages\\equilibrator_cache\\reaction.py:616: UserWarning: Cannot calculate Legendre transform for Compound(id=74576, inchi_key=None): Compound(id=74576, inchi_key=None) has not yet been analyzed by ChemAxon.\n",
      "  warnings.warn(\n"
     ]
    },
    {
     "name": "stdout",
     "output_type": "stream",
     "text": [
      "Gibbs free energy of FEOXAMR1 is not reliable\n",
      "Determination of reaction direction failed\n",
      "-3 1\n",
      "FEOXAMR2\n",
      "Gibbs free energy of FEOXAMR2 is not reliable\n",
      "Determination of reaction direction failed\n",
      "-3 1\n",
      "FEOXAMR3\n"
     ]
    },
    {
     "name": "stderr",
     "output_type": "stream",
     "text": [
      "C:\\Users\\Tobi\\.conda\\envs\\env_gcs_py39\\lib\\site-packages\\equilibrator_cache\\reaction.py:616: UserWarning: Cannot calculate Legendre transform for Compound(id=74576, inchi_key=None): Compound(id=74576, inchi_key=None) has not yet been analyzed by ChemAxon.\n",
      "  warnings.warn(\n"
     ]
    },
    {
     "name": "stdout",
     "output_type": "stream",
     "text": [
      "Gibbs free energy of FEOXAMR3 is not reliable\n",
      "Determination of reaction direction failed\n",
      "-3 1\n",
      "PTHRpp\n",
      "1 1\n",
      "FLVR\n",
      "0 1\n",
      "FDMO2\n",
      "Gibbs free energy of FDMO2 is not reliable\n",
      "Determination of reaction direction failed\n",
      "-3 1\n",
      "LALGP\n",
      "1 1\n",
      "ARABDI\n",
      "0 0\n",
      "R5PPpp\n",
      "0 1\n",
      "PSP_Lpp\n",
      "1 1\n",
      "TYRPpp\n",
      "Gibbs free energy of TYRPpp is not reliable\n",
      "Determination of reaction direction failed\n",
      "-3 1\n",
      "RNDR1b\n",
      "Gibbs free energy of RNDR1b is not reliable\n",
      "Determination of reaction direction failed\n",
      "-3 1\n",
      "R15BPK\n"
     ]
    },
    {
     "name": "stderr",
     "output_type": "stream",
     "text": [
      "C:\\Users\\Tobi\\.conda\\envs\\env_gcs_py39\\lib\\site-packages\\equilibrator_cache\\reaction.py:616: UserWarning: Cannot calculate Legendre transform for Compound(id=74578, inchi_key=None): Compound(id=74578, inchi_key=None) has not yet been analyzed by ChemAxon.\n",
      "  warnings.warn(\n",
      "C:\\Users\\Tobi\\.conda\\envs\\env_gcs_py39\\lib\\site-packages\\equilibrator_cache\\reaction.py:616: UserWarning: Cannot calculate Legendre transform for Compound(id=74556, inchi_key=None): Compound(id=74556, inchi_key=None) has not yet been analyzed by ChemAxon.\n",
      "  warnings.warn(\n"
     ]
    },
    {
     "name": "stdout",
     "output_type": "stream",
     "text": [
      "0 1\n",
      "RNDR2b\n",
      "Gibbs free energy of RNDR2b is not reliable\n",
      "Determination of reaction direction failed\n",
      "-3 1\n",
      "FACOAE140\n"
     ]
    },
    {
     "name": "stderr",
     "output_type": "stream",
     "text": [
      "C:\\Users\\Tobi\\.conda\\envs\\env_gcs_py39\\lib\\site-packages\\equilibrator_cache\\reaction.py:616: UserWarning: Cannot calculate Legendre transform for Compound(id=74578, inchi_key=None): Compound(id=74578, inchi_key=None) has not yet been analyzed by ChemAxon.\n",
      "  warnings.warn(\n",
      "C:\\Users\\Tobi\\.conda\\envs\\env_gcs_py39\\lib\\site-packages\\equilibrator_cache\\reaction.py:616: UserWarning: Cannot calculate Legendre transform for Compound(id=74556, inchi_key=None): Compound(id=74556, inchi_key=None) has not yet been analyzed by ChemAxon.\n",
      "  warnings.warn(\n",
      "C:\\Users\\Tobi\\.conda\\envs\\env_gcs_py39\\lib\\site-packages\\equilibrator_cache\\reaction.py:616: UserWarning: Cannot calculate Legendre transform for Compound(id=131783, inchi_key=None): Compound(id=131783, inchi_key=None) has not yet been analyzed by ChemAxon.\n",
      "  warnings.warn(\n"
     ]
    },
    {
     "name": "stdout",
     "output_type": "stream",
     "text": [
      "Gibbs free energy of FACOAE140 is not reliable\n",
      "Determination of reaction direction failed\n",
      "-3 1\n",
      "PPGPPDP\n",
      "1 1\n",
      "GGPTRCS\n",
      "1 1\n",
      "23PDE2pp\n",
      "1 1\n",
      "23PDE4pp\n",
      "1 1\n",
      "23PDE9pp\n",
      "1 1\n",
      "SARCOX\n",
      "1 1\n",
      "MN6PP\n",
      "1 1\n",
      "3KGK\n",
      "1 1\n",
      "F6PP\n",
      "1 1\n",
      "FRULYSDG\n",
      "Gibbs free energy of FRULYSDG is not reliable\n",
      "Determination of reaction direction failed\n",
      "-3 0\n",
      "GDPMNH\n",
      "1 1\n",
      "GDPDPK\n",
      "1 1\n",
      "ASNNpp\n",
      "1 1\n",
      "GLUNpp\n",
      "1 1\n",
      "NTD12\n"
     ]
    },
    {
     "name": "stderr",
     "output_type": "stream",
     "text": [
      "C:\\Users\\Tobi\\.conda\\envs\\env_gcs_py39\\lib\\site-packages\\equilibrator_cache\\reaction.py:616: UserWarning: Cannot calculate Legendre transform for Compound(id=9077, inchi_key=None): Compound(id=9077, inchi_key=None) has not yet been analyzed by ChemAxon.\n",
      "  warnings.warn(\n"
     ]
    },
    {
     "name": "stdout",
     "output_type": "stream",
     "text": [
      "1 1\n",
      "NTD10pp\n",
      "1 1\n",
      "NTD1pp\n",
      "1 1\n",
      "NTD2pp\n",
      "1 1\n",
      "NTD3pp\n",
      "1 1\n",
      "NTD4pp\n",
      "1 1\n",
      "NTD5pp\n",
      "1 1\n",
      "NTD6pp\n",
      "1 1\n",
      "NTD7pp\n",
      "1 1\n",
      "NTD9pp\n",
      "1 1\n",
      "PEAMNOpp\n",
      "1 1\n",
      "GAL1PPpp\n",
      "1 1\n",
      "NTPP9\n",
      "1 1\n",
      "NTPP10\n",
      "1 1\n",
      "NTPP11\n",
      "1 1\n",
      "ARGDCpp\n",
      "1 1\n",
      "URIH\n",
      "1 1\n",
      "ALLPI\n",
      "0 0\n",
      "ALLK\n",
      "1 1\n",
      "ALLULPE\n",
      "0 0\n",
      "NADPHQR2\n",
      "1 1\n",
      "NADPHQR3\n",
      "1 1\n",
      "NADPHQR4\n",
      "1 1\n",
      "GLBRAN2\n"
     ]
    },
    {
     "name": "stderr",
     "output_type": "stream",
     "text": [
      "C:\\Users\\Tobi\\.conda\\envs\\env_gcs_py39\\lib\\site-packages\\equilibrator_cache\\reaction.py:616: UserWarning: Cannot calculate Legendre transform for Compound(id=6820, inchi_key=None): Compound(id=6820, inchi_key=None) has not yet been analyzed by ChemAxon.\n",
      "  warnings.warn(\n"
     ]
    },
    {
     "name": "stdout",
     "output_type": "stream",
     "text": [
      "Gibbs free energy of GLBRAN2 is not reliable\n",
      "Determination of reaction direction failed\n",
      "-3 1\n",
      "ASR\n",
      "Gibbs free energy of ASR is not reliable\n",
      "Determination of reaction direction failed\n",
      "-3 1\n",
      "XTSNH\n",
      "1 1\n",
      "INSH\n",
      "1 1\n",
      "GPDDA3pp\n",
      "Gibbs free energy of GPDDA3pp is not reliable\n",
      "Determination of reaction direction failed\n",
      "-3 1\n",
      "GPDDA4pp\n",
      "Gibbs free energy of GPDDA4pp is not reliable\n",
      "Determination of reaction direction failed\n",
      "-3 1\n",
      "GPDDA2pp\n",
      "Gibbs free energy of GPDDA2pp is not reliable\n",
      "Determination of reaction direction failed\n",
      "-3 1\n",
      "4PCP\n"
     ]
    },
    {
     "name": "stderr",
     "output_type": "stream",
     "text": [
      "C:\\Users\\Tobi\\.conda\\envs\\env_gcs_py39\\lib\\site-packages\\equilibrator_cache\\reaction.py:616: UserWarning: Cannot calculate Legendre transform for Compound(id=74472, inchi_key=None): Compound(id=74472, inchi_key=None) has not yet been analyzed by ChemAxon.\n",
      "  warnings.warn(\n",
      "C:\\Users\\Tobi\\.conda\\envs\\env_gcs_py39\\lib\\site-packages\\equilibrator_cache\\reaction.py:616: UserWarning: Cannot calculate Legendre transform for Compound(id=74472, inchi_key=None): Compound(id=74472, inchi_key=None) has not yet been analyzed by ChemAxon.\n",
      "  warnings.warn(\n"
     ]
    },
    {
     "name": "stdout",
     "output_type": "stream",
     "text": [
      "Gibbs free energy of 4PCP is not reliable\n",
      "Determination of reaction direction failed\n",
      "-3 1\n",
      "4PCPpp\n",
      "Gibbs free energy of 4PCPpp is not reliable\n",
      "Determination of reaction direction failed\n",
      "-3 1\n",
      "HCYSMT2\n",
      "Gibbs free energy of HCYSMT2 is not reliable\n",
      "Determination of reaction direction failed\n",
      "-3 1\n",
      "FALDH2\n",
      "1 0\n",
      "PPK2\n",
      "Gibbs free energy of PPK2 is not reliable\n",
      "Determination of reaction direction failed\n",
      "-3 1\n",
      "DHPTPE\n",
      "0 0\n",
      "PPDOy\n",
      "1 1\n",
      "NTD12pp\n",
      "1 1\n",
      "PPA2\n",
      "Gibbs free energy of PPA2 is not reliable\n",
      "Determination of reaction direction failed\n",
      "-3 1\n",
      "GNK\n",
      "1 1\n",
      "3NTD7pp\n",
      "1 1\n",
      "3NTD4pp\n",
      "1 1\n",
      "3NTD2pp\n",
      "1 1\n",
      "3NTD9pp\n",
      "1 1\n",
      "RMK\n",
      "1 1\n",
      "23PDE7pp\n",
      "1 1\n",
      "GLYCLTDy\n",
      "1 1\n",
      "LYSDC\n",
      "1 1\n",
      "DAAD\n",
      "0 1\n",
      "NTPP5\n",
      "1 1\n",
      "ACONMT\n",
      "Gibbs free energy of ACONMT is not reliable\n",
      "Determination of reaction direction failed\n",
      "-3 1\n",
      "NTD3\n",
      "1 1\n",
      "GLYOX\n",
      "1 1\n",
      "NAMNPP\n",
      "1 1\n",
      "SELNPS\n",
      "Gibbs free energy of SELNPS is not reliable\n",
      "Determination of reaction direction failed\n",
      "-3 1\n",
      "MTRPOX\n",
      "1 1\n",
      "GTPDPDP\n",
      "1 1\n",
      "CRNCAR\n",
      "0 0\n",
      "RNDR2\n",
      "1 1\n",
      "ANHMK\n",
      "Gibbs free energy of ANHMK is not reliable\n",
      "Determination of reaction direction failed\n",
      "-3 1\n",
      "XAND\n"
     ]
    },
    {
     "name": "stderr",
     "output_type": "stream",
     "text": [
      "C:\\Users\\Tobi\\.conda\\envs\\env_gcs_py39\\lib\\site-packages\\equilibrator_cache\\reaction.py:616: UserWarning: Cannot calculate Legendre transform for Compound(id=74529, inchi_key=None): Compound(id=74529, inchi_key=None) has not yet been analyzed by ChemAxon.\n",
      "  warnings.warn(\n"
     ]
    },
    {
     "name": "stdout",
     "output_type": "stream",
     "text": [
      "1 1\n",
      "NNDMBRT\n",
      "1 1\n",
      "THRA2\n",
      "0 1\n",
      "SADH\n",
      "1 1\n",
      "GLUSy\n",
      "1 1\n",
      "GUAPRT\n",
      "1 1\n",
      "ABUTD\n",
      "1 1\n",
      "DUTPDP\n",
      "1 1\n",
      "NTP5\n",
      "1 1\n",
      "MTAN\n",
      "1 1\n",
      "AACPS5\n"
     ]
    },
    {
     "name": "stderr",
     "output_type": "stream",
     "text": [
      "C:\\Users\\Tobi\\.conda\\envs\\env_gcs_py39\\lib\\site-packages\\equilibrator_cache\\reaction.py:616: UserWarning: Cannot calculate Legendre transform for Compound(id=74433, inchi_key=None): Compound(id=74433, inchi_key=None) has not yet been analyzed by ChemAxon.\n",
      "  warnings.warn(\n",
      "C:\\Users\\Tobi\\.conda\\envs\\env_gcs_py39\\lib\\site-packages\\equilibrator_cache\\reaction.py:616: UserWarning: Cannot calculate Legendre transform for Compound(id=858, inchi_key=None): Compound(id=858, inchi_key=None) has not yet been analyzed by ChemAxon.\n",
      "  warnings.warn(\n"
     ]
    },
    {
     "name": "stdout",
     "output_type": "stream",
     "text": [
      "Gibbs free energy of AACPS5 is not reliable\n",
      "Determination of reaction direction failed\n",
      "-3 1\n",
      "NTD8\n",
      "1 1\n",
      "GALCTD\n",
      "1 1\n",
      "UDPGDC\n",
      "1 1\n",
      "PUNP4\n",
      "0 0\n",
      "G6PP\n",
      "1 1\n",
      "MMCD\n",
      "1 1\n",
      "GTHS\n",
      "1 1\n",
      "UDPKAAT\n",
      "-1 0\n",
      "ULA4NFT\n",
      "0 1\n",
      "NTD11pp\n",
      "1 1\n",
      "DKGLCNR2x\n",
      "0 1\n",
      "PDE1\n",
      "1 1\n",
      "MCITD\n",
      "0 1\n",
      "GLCATr\n",
      "0 0\n",
      "ALR2\n",
      "1 1\n",
      "AMALT2\n",
      "0 1\n",
      "MLTP1\n",
      "0 0\n",
      "HXAND\n",
      "0 1\n",
      "G2PPpp\n",
      "1 1\n",
      "UDPGPpp\n",
      "1 1\n",
      "ALDD3y\n"
     ]
    },
    {
     "name": "stderr",
     "output_type": "stream",
     "text": [
      "C:\\Users\\Tobi\\.conda\\envs\\env_gcs_py39\\lib\\site-packages\\equilibrator_cache\\reaction.py:616: UserWarning: Cannot calculate Legendre transform for Compound(id=131804, inchi_key=None): Compound(id=131804, inchi_key=None) has not yet been analyzed by ChemAxon.\n",
      "  warnings.warn(\n"
     ]
    },
    {
     "name": "stdout",
     "output_type": "stream",
     "text": [
      "Gibbs free energy of ALDD3y is not reliable\n",
      "Determination of reaction direction failed\n",
      "-3 1\n",
      "R5PP\n",
      "0 1\n",
      "CYSSADS\n",
      "Gibbs free energy of CYSSADS is not reliable\n",
      "Determination of reaction direction failed\n",
      "-3 1\n",
      "AGM3PH\n",
      "-1 1\n",
      "AGM3PApp\n",
      "Gibbs free energy of AGM3PApp is not reliable\n",
      "Determination of reaction direction failed\n",
      "-3 1\n",
      "PPPGO\n"
     ]
    },
    {
     "name": "stderr",
     "output_type": "stream",
     "text": [
      "C:\\Users\\Tobi\\.conda\\envs\\env_gcs_py39\\lib\\site-packages\\equilibrator_cache\\reaction.py:616: UserWarning: Cannot calculate Legendre transform for Compound(id=2680, inchi_key=None): Compound(id=2680, inchi_key=None) has not yet been analyzed by ChemAxon.\n",
      "  warnings.warn(\n",
      "C:\\Users\\Tobi\\.conda\\envs\\env_gcs_py39\\lib\\site-packages\\equilibrator_cache\\reaction.py:616: UserWarning: Cannot calculate Legendre transform for Compound(id=74472, inchi_key=None): Compound(id=74472, inchi_key=None) has not yet been analyzed by ChemAxon.\n",
      "  warnings.warn(\n"
     ]
    },
    {
     "name": "stdout",
     "output_type": "stream",
     "text": [
      "Gibbs free energy of PPPGO is not reliable\n",
      "Determination of reaction direction failed\n",
      "-3 1\n",
      "LDH_D2\n",
      "1 1\n",
      "SUCBZL\n",
      "1 1\n",
      "CYSDDS\n",
      "1 1\n",
      "NTP1\n",
      "1 1\n",
      "NTP10\n",
      "1 1\n",
      "GDMANE\n",
      "0 1\n",
      "GPDDA4\n",
      "Gibbs free energy of GPDDA4 is not reliable\n",
      "Determination of reaction direction failed\n",
      "-3 1\n",
      "PLIPA1E140pp\n"
     ]
    },
    {
     "name": "stderr",
     "output_type": "stream",
     "text": [
      "C:\\Users\\Tobi\\.conda\\envs\\env_gcs_py39\\lib\\site-packages\\equilibrator_cache\\reaction.py:616: UserWarning: Cannot calculate Legendre transform for Compound(id=2519, inchi_key=None): Compound(id=2519, inchi_key=None) has not yet been analyzed by ChemAxon.\n",
      "  warnings.warn(\n",
      "C:\\Users\\Tobi\\.conda\\envs\\env_gcs_py39\\lib\\site-packages\\equilibrator_cache\\reaction.py:616: UserWarning: Cannot calculate Legendre transform for Compound(id=131783, inchi_key=None): Compound(id=131783, inchi_key=None) has not yet been analyzed by ChemAxon.\n",
      "  warnings.warn(\n",
      "C:\\Users\\Tobi\\.conda\\envs\\env_gcs_py39\\lib\\site-packages\\equilibrator_cache\\reaction.py:616: UserWarning: Cannot calculate Legendre transform for Compound(id=131783, inchi_key=None): Compound(id=131783, inchi_key=None) has not yet been analyzed by ChemAxon.\n",
      "  warnings.warn(\n"
     ]
    },
    {
     "name": "stdout",
     "output_type": "stream",
     "text": [
      "Gibbs free energy of PLIPA1E140pp is not reliable\n",
      "Determination of reaction direction failed\n",
      "-3 1\n",
      "LPLIPAL2E140\n",
      "Gibbs free energy of LPLIPAL2E140 is not reliable\n",
      "Determination of reaction direction failed\n",
      "-3 1\n",
      "GALKr\n",
      "1 0\n",
      "AACPS8\n"
     ]
    },
    {
     "name": "stderr",
     "output_type": "stream",
     "text": [
      "C:\\Users\\Tobi\\.conda\\envs\\env_gcs_py39\\lib\\site-packages\\equilibrator_cache\\reaction.py:616: UserWarning: Cannot calculate Legendre transform for Compound(id=74471, inchi_key=None): Compound(id=74471, inchi_key=None) has not yet been analyzed by ChemAxon.\n",
      "  warnings.warn(\n",
      "C:\\Users\\Tobi\\.conda\\envs\\env_gcs_py39\\lib\\site-packages\\equilibrator_cache\\reaction.py:616: UserWarning: Cannot calculate Legendre transform for Compound(id=131838, inchi_key=None): Compound(id=131838, inchi_key=None) has not yet been analyzed by ChemAxon.\n",
      "  warnings.warn(\n",
      "C:\\Users\\Tobi\\.conda\\envs\\env_gcs_py39\\lib\\site-packages\\equilibrator_cache\\reaction.py:616: UserWarning: Cannot calculate Legendre transform for Compound(id=858, inchi_key=None): Compound(id=858, inchi_key=None) has not yet been analyzed by ChemAxon.\n",
      "  warnings.warn(\n"
     ]
    },
    {
     "name": "stdout",
     "output_type": "stream",
     "text": [
      "Gibbs free energy of AACPS8 is not reliable\n",
      "Determination of reaction direction failed\n",
      "-3 1\n",
      "AACPS9\n"
     ]
    },
    {
     "name": "stderr",
     "output_type": "stream",
     "text": [
      "C:\\Users\\Tobi\\.conda\\envs\\env_gcs_py39\\lib\\site-packages\\equilibrator_cache\\reaction.py:616: UserWarning: Cannot calculate Legendre transform for Compound(id=74464, inchi_key=None): Compound(id=74464, inchi_key=None) has not yet been analyzed by ChemAxon.\n",
      "  warnings.warn(\n",
      "C:\\Users\\Tobi\\.conda\\envs\\env_gcs_py39\\lib\\site-packages\\equilibrator_cache\\reaction.py:616: UserWarning: Cannot calculate Legendre transform for Compound(id=858, inchi_key=None): Compound(id=858, inchi_key=None) has not yet been analyzed by ChemAxon.\n",
      "  warnings.warn(\n"
     ]
    },
    {
     "name": "stdout",
     "output_type": "stream",
     "text": [
      "Gibbs free energy of AACPS9 is not reliable\n",
      "Determination of reaction direction failed\n",
      "-3 1\n",
      "LPLIPAL2E180\n",
      "1 1\n",
      "LPLIPAL2G161\n"
     ]
    },
    {
     "name": "stderr",
     "output_type": "stream",
     "text": [
      "C:\\Users\\Tobi\\.conda\\envs\\env_gcs_py39\\lib\\site-packages\\equilibrator_cache\\reaction.py:616: UserWarning: Cannot calculate Legendre transform for Compound(id=3002, inchi_key=None): Compound(id=3002, inchi_key=None) has not yet been analyzed by ChemAxon.\n",
      "  warnings.warn(\n",
      "C:\\Users\\Tobi\\.conda\\envs\\env_gcs_py39\\lib\\site-packages\\equilibrator_cache\\reaction.py:616: UserWarning: Cannot calculate Legendre transform for Compound(id=879, inchi_key=None): Compound(id=879, inchi_key=None) has not yet been analyzed by ChemAxon.\n",
      "  warnings.warn(\n"
     ]
    },
    {
     "name": "stdout",
     "output_type": "stream",
     "text": [
      "Gibbs free energy of LPLIPAL2G161 is not reliable\n",
      "Determination of reaction direction failed\n",
      "-3 1\n",
      "LPLIPAL2G181\n"
     ]
    },
    {
     "name": "stderr",
     "output_type": "stream",
     "text": [
      "C:\\Users\\Tobi\\.conda\\envs\\env_gcs_py39\\lib\\site-packages\\equilibrator_cache\\reaction.py:616: UserWarning: Cannot calculate Legendre transform for Compound(id=3003, inchi_key=None): Compound(id=3003, inchi_key=None) has not yet been analyzed by ChemAxon.\n",
      "  warnings.warn(\n"
     ]
    },
    {
     "name": "stdout",
     "output_type": "stream",
     "text": [
      "Gibbs free energy of LPLIPAL2G181 is not reliable\n",
      "Determination of reaction direction failed\n",
      "-3 1\n",
      "HXCT\n"
     ]
    },
    {
     "name": "stderr",
     "output_type": "stream",
     "text": [
      "C:\\Users\\Tobi\\.conda\\envs\\env_gcs_py39\\lib\\site-packages\\equilibrator_cache\\reaction.py:616: UserWarning: Cannot calculate Legendre transform for Compound(id=132041, inchi_key=None): Compound(id=132041, inchi_key=None) has not yet been analyzed by ChemAxon.\n",
      "  warnings.warn(\n"
     ]
    },
    {
     "name": "stdout",
     "output_type": "stream",
     "text": [
      "Gibbs free energy of HXCT is not reliable\n",
      "Determination of reaction direction failed\n",
      "-3 1\n",
      "AACPS6\n"
     ]
    },
    {
     "name": "stderr",
     "output_type": "stream",
     "text": [
      "C:\\Users\\Tobi\\.conda\\envs\\env_gcs_py39\\lib\\site-packages\\equilibrator_cache\\reaction.py:616: UserWarning: Cannot calculate Legendre transform for Compound(id=2695, inchi_key=None): Compound(id=2695, inchi_key=None) has not yet been analyzed by ChemAxon.\n",
      "  warnings.warn(\n",
      "C:\\Users\\Tobi\\.conda\\envs\\env_gcs_py39\\lib\\site-packages\\equilibrator_cache\\reaction.py:616: UserWarning: Cannot calculate Legendre transform for Compound(id=858, inchi_key=None): Compound(id=858, inchi_key=None) has not yet been analyzed by ChemAxon.\n",
      "  warnings.warn(\n"
     ]
    },
    {
     "name": "stdout",
     "output_type": "stream",
     "text": [
      "Gibbs free energy of AACPS6 is not reliable\n",
      "Determination of reaction direction failed\n",
      "-3 1\n",
      "DURADx\n",
      "0 0\n",
      "G1PPpp\n",
      "1 1\n",
      "GALCTND\n",
      "1 1\n",
      "QMO2\n",
      "Gibbs free energy of QMO2 is not reliable\n",
      "Determination of reaction direction failed\n",
      "-3 1\n",
      "QMO3\n",
      "Gibbs free energy of QMO3 is not reliable\n",
      "Determination of reaction direction failed\n",
      "-3 1\n",
      "LPLIPAL2E141\n"
     ]
    },
    {
     "name": "stderr",
     "output_type": "stream",
     "text": [
      "C:\\Users\\Tobi\\.conda\\envs\\env_gcs_py39\\lib\\site-packages\\equilibrator_cache\\reaction.py:616: UserWarning: Cannot calculate Legendre transform for Compound(id=2997, inchi_key=None): Compound(id=2997, inchi_key=None) has not yet been analyzed by ChemAxon.\n",
      "  warnings.warn(\n",
      "C:\\Users\\Tobi\\.conda\\envs\\env_gcs_py39\\lib\\site-packages\\equilibrator_cache\\reaction.py:616: UserWarning: Cannot calculate Legendre transform for Compound(id=609, inchi_key=None): Compound(id=609, inchi_key=None) has not yet been analyzed by ChemAxon.\n",
      "  warnings.warn(\n"
     ]
    },
    {
     "name": "stdout",
     "output_type": "stream",
     "text": [
      "Gibbs free energy of LPLIPAL2E141 is not reliable\n",
      "Determination of reaction direction failed\n",
      "-3 1\n",
      "LPLIPAL2E161\n"
     ]
    },
    {
     "name": "stderr",
     "output_type": "stream",
     "text": [
      "C:\\Users\\Tobi\\.conda\\envs\\env_gcs_py39\\lib\\site-packages\\equilibrator_cache\\reaction.py:616: UserWarning: Cannot calculate Legendre transform for Compound(id=2998, inchi_key=None): Compound(id=2998, inchi_key=None) has not yet been analyzed by ChemAxon.\n",
      "  warnings.warn(\n",
      "C:\\Users\\Tobi\\.conda\\envs\\env_gcs_py39\\lib\\site-packages\\equilibrator_cache\\reaction.py:616: UserWarning: Cannot calculate Legendre transform for Compound(id=879, inchi_key=None): Compound(id=879, inchi_key=None) has not yet been analyzed by ChemAxon.\n",
      "  warnings.warn(\n"
     ]
    },
    {
     "name": "stdout",
     "output_type": "stream",
     "text": [
      "Gibbs free energy of LPLIPAL2E161 is not reliable\n",
      "Determination of reaction direction failed\n",
      "-3 1\n",
      "NTD11\n",
      "1 1\n",
      "LPLIPAL2E181\n"
     ]
    },
    {
     "name": "stderr",
     "output_type": "stream",
     "text": [
      "C:\\Users\\Tobi\\.conda\\envs\\env_gcs_py39\\lib\\site-packages\\equilibrator_cache\\reaction.py:616: UserWarning: Cannot calculate Legendre transform for Compound(id=2999, inchi_key=None): Compound(id=2999, inchi_key=None) has not yet been analyzed by ChemAxon.\n",
      "  warnings.warn(\n"
     ]
    },
    {
     "name": "stdout",
     "output_type": "stream",
     "text": [
      "Gibbs free energy of LPLIPAL2E181 is not reliable\n",
      "Determination of reaction direction failed\n",
      "-3 1\n",
      "YUMPS\n"
     ]
    },
    {
     "name": "stderr",
     "output_type": "stream",
     "text": [
      "C:\\Users\\Tobi\\.conda\\envs\\env_gcs_py39\\lib\\site-packages\\equilibrator_cache\\reaction.py:616: UserWarning: Cannot calculate Legendre transform for Compound(id=119079, inchi_key=None): Compound(id=119079, inchi_key=None) has not yet been analyzed by ChemAxon.\n",
      "  warnings.warn(\n"
     ]
    },
    {
     "name": "stdout",
     "output_type": "stream",
     "text": [
      "Gibbs free energy of YUMPS is not reliable\n",
      "Determination of reaction direction failed\n",
      "-3 0\n",
      "LPLIPAL2G180\n",
      "1 1\n",
      "LPLIPAL2G141\n"
     ]
    },
    {
     "name": "stderr",
     "output_type": "stream",
     "text": [
      "C:\\Users\\Tobi\\.conda\\envs\\env_gcs_py39\\lib\\site-packages\\equilibrator_cache\\reaction.py:616: UserWarning: Cannot calculate Legendre transform for Compound(id=3001, inchi_key=None): Compound(id=3001, inchi_key=None) has not yet been analyzed by ChemAxon.\n",
      "  warnings.warn(\n",
      "C:\\Users\\Tobi\\.conda\\envs\\env_gcs_py39\\lib\\site-packages\\equilibrator_cache\\reaction.py:616: UserWarning: Cannot calculate Legendre transform for Compound(id=609, inchi_key=None): Compound(id=609, inchi_key=None) has not yet been analyzed by ChemAxon.\n",
      "  warnings.warn(\n"
     ]
    },
    {
     "name": "stdout",
     "output_type": "stream",
     "text": [
      "Gibbs free energy of LPLIPAL2G141 is not reliable\n",
      "Determination of reaction direction failed\n",
      "-3 1\n",
      "ORNDC\n",
      "1 1\n",
      "KAS15\n",
      "Gibbs free energy of KAS15 is not reliable\n",
      "Determination of reaction direction failed\n",
      "-3 1\n",
      "T2DECAI\n"
     ]
    },
    {
     "name": "stderr",
     "output_type": "stream",
     "text": [
      "C:\\Users\\Tobi\\.conda\\envs\\env_gcs_py39\\lib\\site-packages\\equilibrator_cache\\reaction.py:616: UserWarning: Cannot calculate Legendre transform for Compound(id=1130, inchi_key=None): Compound(id=1130, inchi_key=None) has not yet been analyzed by ChemAxon.\n",
      "  warnings.warn(\n",
      "C:\\Users\\Tobi\\.conda\\envs\\env_gcs_py39\\lib\\site-packages\\equilibrator_cache\\reaction.py:616: UserWarning: Cannot calculate Legendre transform for Compound(id=174, inchi_key=None): Compound(id=174, inchi_key=None) has not yet been analyzed by ChemAxon.\n",
      "  warnings.warn(\n",
      "C:\\Users\\Tobi\\.conda\\envs\\env_gcs_py39\\lib\\site-packages\\equilibrator_cache\\reaction.py:616: UserWarning: Cannot calculate Legendre transform for Compound(id=6013, inchi_key=None): Compound(id=6013, inchi_key=None) has not yet been analyzed by ChemAxon.\n",
      "  warnings.warn(\n",
      "C:\\Users\\Tobi\\.conda\\envs\\env_gcs_py39\\lib\\site-packages\\equilibrator_cache\\reaction.py:616: UserWarning: Cannot calculate Legendre transform for Compound(id=17777, inchi_key=None): Compound(id=17777, inchi_key=None) has not yet been analyzed by ChemAxon.\n",
      "  warnings.warn(\n"
     ]
    },
    {
     "name": "stdout",
     "output_type": "stream",
     "text": [
      "Gibbs free energy of T2DECAI is not reliable\n",
      "Determination of reaction direction failed\n",
      "-3 0\n",
      "3OAS161\n"
     ]
    },
    {
     "name": "stderr",
     "output_type": "stream",
     "text": [
      "C:\\Users\\Tobi\\.conda\\envs\\env_gcs_py39\\lib\\site-packages\\equilibrator_cache\\reaction.py:616: UserWarning: Cannot calculate Legendre transform for Compound(id=5750, inchi_key=None): Compound(id=5750, inchi_key=None) has not yet been analyzed by ChemAxon.\n",
      "  warnings.warn(\n",
      "C:\\Users\\Tobi\\.conda\\envs\\env_gcs_py39\\lib\\site-packages\\equilibrator_cache\\reaction.py:616: UserWarning: Cannot calculate Legendre transform for Compound(id=858, inchi_key=None): Compound(id=858, inchi_key=None) has not yet been analyzed by ChemAxon.\n",
      "  warnings.warn(\n",
      "C:\\Users\\Tobi\\.conda\\envs\\env_gcs_py39\\lib\\site-packages\\equilibrator_cache\\reaction.py:616: UserWarning: Cannot calculate Legendre transform for Compound(id=174, inchi_key=None): Compound(id=174, inchi_key=None) has not yet been analyzed by ChemAxon.\n",
      "  warnings.warn(\n",
      "C:\\Users\\Tobi\\.conda\\envs\\env_gcs_py39\\lib\\site-packages\\equilibrator_cache\\reaction.py:616: UserWarning: Cannot calculate Legendre transform for Compound(id=131966, inchi_key=None): Compound(id=131966, inchi_key=None) has not yet been analyzed by ChemAxon.\n",
      "  warnings.warn(\n"
     ]
    },
    {
     "name": "stdout",
     "output_type": "stream",
     "text": [
      "Gibbs free energy of 3OAS161 is not reliable\n",
      "Determination of reaction direction failed\n",
      "-3 1\n",
      "EAR141y\n"
     ]
    },
    {
     "name": "stderr",
     "output_type": "stream",
     "text": [
      "C:\\Users\\Tobi\\.conda\\envs\\env_gcs_py39\\lib\\site-packages\\equilibrator_cache\\reaction.py:616: UserWarning: Cannot calculate Legendre transform for Compound(id=5073, inchi_key=None): Compound(id=5073, inchi_key=None) has not yet been analyzed by ChemAxon.\n",
      "  warnings.warn(\n",
      "C:\\Users\\Tobi\\.conda\\envs\\env_gcs_py39\\lib\\site-packages\\equilibrator_cache\\reaction.py:616: UserWarning: Cannot calculate Legendre transform for Compound(id=131966, inchi_key=None): Compound(id=131966, inchi_key=None) has not yet been analyzed by ChemAxon.\n",
      "  warnings.warn(\n"
     ]
    },
    {
     "name": "stdout",
     "output_type": "stream",
     "text": [
      "Gibbs free energy of EAR141y is not reliable\n",
      "Determination of reaction direction failed\n",
      "-3 1\n",
      "EAR161x\n"
     ]
    },
    {
     "name": "stderr",
     "output_type": "stream",
     "text": [
      "C:\\Users\\Tobi\\.conda\\envs\\env_gcs_py39\\lib\\site-packages\\equilibrator_cache\\reaction.py:616: UserWarning: Cannot calculate Legendre transform for Compound(id=74432, inchi_key=None): Compound(id=74432, inchi_key=None) has not yet been analyzed by ChemAxon.\n",
      "  warnings.warn(\n",
      "C:\\Users\\Tobi\\.conda\\envs\\env_gcs_py39\\lib\\site-packages\\equilibrator_cache\\reaction.py:616: UserWarning: Cannot calculate Legendre transform for Compound(id=5074, inchi_key=None): Compound(id=5074, inchi_key=None) has not yet been analyzed by ChemAxon.\n",
      "  warnings.warn(\n",
      "C:\\Users\\Tobi\\.conda\\envs\\env_gcs_py39\\lib\\site-packages\\equilibrator_cache\\reaction.py:616: UserWarning: Cannot calculate Legendre transform for Compound(id=2519, inchi_key=None): Compound(id=2519, inchi_key=None) has not yet been analyzed by ChemAxon.\n",
      "  warnings.warn(\n",
      "C:\\Users\\Tobi\\.conda\\envs\\env_gcs_py39\\lib\\site-packages\\equilibrator_cache\\reaction.py:616: UserWarning: Cannot calculate Legendre transform for Compound(id=131783, inchi_key=None): Compound(id=131783, inchi_key=None) has not yet been analyzed by ChemAxon.\n",
      "  warnings.warn(\n"
     ]
    },
    {
     "name": "stdout",
     "output_type": "stream",
     "text": [
      "Gibbs free energy of EAR161x is not reliable\n",
      "Determination of reaction direction failed\n",
      "-3 1\n",
      "2AGPEAT140\n",
      "Gibbs free energy of 2AGPEAT140 is not reliable\n",
      "Determination of reaction direction failed\n",
      "-3 1\n",
      "2AGPEAT120\n"
     ]
    },
    {
     "name": "stderr",
     "output_type": "stream",
     "text": [
      "C:\\Users\\Tobi\\.conda\\envs\\env_gcs_py39\\lib\\site-packages\\equilibrator_cache\\reaction.py:616: UserWarning: Cannot calculate Legendre transform for Compound(id=131802, inchi_key=None): Compound(id=131802, inchi_key=None) has not yet been analyzed by ChemAxon.\n",
      "  warnings.warn(\n",
      "C:\\Users\\Tobi\\.conda\\envs\\env_gcs_py39\\lib\\site-packages\\equilibrator_cache\\reaction.py:616: UserWarning: Cannot calculate Legendre transform for Compound(id=2518, inchi_key=None): Compound(id=2518, inchi_key=None) has not yet been analyzed by ChemAxon.\n",
      "  warnings.warn(\n"
     ]
    },
    {
     "name": "stdout",
     "output_type": "stream",
     "text": [
      "Gibbs free energy of 2AGPEAT120 is not reliable\n",
      "Determination of reaction direction failed\n",
      "-3 1\n",
      "2AGPEAT141\n"
     ]
    },
    {
     "name": "stderr",
     "output_type": "stream",
     "text": [
      "C:\\Users\\Tobi\\.conda\\envs\\env_gcs_py39\\lib\\site-packages\\equilibrator_cache\\reaction.py:616: UserWarning: Cannot calculate Legendre transform for Compound(id=3201, inchi_key=None): Compound(id=3201, inchi_key=None) has not yet been analyzed by ChemAxon.\n",
      "  warnings.warn(\n",
      "C:\\Users\\Tobi\\.conda\\envs\\env_gcs_py39\\lib\\site-packages\\equilibrator_cache\\reaction.py:616: UserWarning: Cannot calculate Legendre transform for Compound(id=2997, inchi_key=None): Compound(id=2997, inchi_key=None) has not yet been analyzed by ChemAxon.\n",
      "  warnings.warn(\n",
      "C:\\Users\\Tobi\\.conda\\envs\\env_gcs_py39\\lib\\site-packages\\equilibrator_cache\\reaction.py:616: UserWarning: Cannot calculate Legendre transform for Compound(id=609, inchi_key=None): Compound(id=609, inchi_key=None) has not yet been analyzed by ChemAxon.\n",
      "  warnings.warn(\n"
     ]
    },
    {
     "name": "stdout",
     "output_type": "stream",
     "text": [
      "Gibbs free energy of 2AGPEAT141 is not reliable\n",
      "Determination of reaction direction failed\n",
      "-3 1\n",
      "2AGPGAT141\n"
     ]
    },
    {
     "name": "stderr",
     "output_type": "stream",
     "text": [
      "C:\\Users\\Tobi\\.conda\\envs\\env_gcs_py39\\lib\\site-packages\\equilibrator_cache\\reaction.py:616: UserWarning: Cannot calculate Legendre transform for Compound(id=1805, inchi_key=None): Compound(id=1805, inchi_key=None) has not yet been analyzed by ChemAxon.\n",
      "  warnings.warn(\n",
      "C:\\Users\\Tobi\\.conda\\envs\\env_gcs_py39\\lib\\site-packages\\equilibrator_cache\\reaction.py:616: UserWarning: Cannot calculate Legendre transform for Compound(id=3001, inchi_key=None): Compound(id=3001, inchi_key=None) has not yet been analyzed by ChemAxon.\n",
      "  warnings.warn(\n",
      "C:\\Users\\Tobi\\.conda\\envs\\env_gcs_py39\\lib\\site-packages\\equilibrator_cache\\reaction.py:616: UserWarning: Cannot calculate Legendre transform for Compound(id=609, inchi_key=None): Compound(id=609, inchi_key=None) has not yet been analyzed by ChemAxon.\n",
      "  warnings.warn(\n"
     ]
    },
    {
     "name": "stdout",
     "output_type": "stream",
     "text": [
      "Gibbs free energy of 2AGPGAT141 is not reliable\n",
      "Determination of reaction direction failed\n",
      "-3 1\n",
      "FACOAE100\n"
     ]
    },
    {
     "name": "stderr",
     "output_type": "stream",
     "text": [
      "C:\\Users\\Tobi\\.conda\\envs\\env_gcs_py39\\lib\\site-packages\\equilibrator_cache\\reaction.py:616: UserWarning: Cannot calculate Legendre transform for Compound(id=131827, inchi_key=None): Compound(id=131827, inchi_key=None) has not yet been analyzed by ChemAxon.\n",
      "  warnings.warn(\n",
      "C:\\Users\\Tobi\\.conda\\envs\\env_gcs_py39\\lib\\site-packages\\equilibrator_cache\\reaction.py:616: UserWarning: Cannot calculate Legendre transform for Compound(id=131838, inchi_key=None): Compound(id=131838, inchi_key=None) has not yet been analyzed by ChemAxon.\n",
      "  warnings.warn(\n"
     ]
    },
    {
     "name": "stdout",
     "output_type": "stream",
     "text": [
      "Gibbs free energy of FACOAE100 is not reliable\n",
      "Determination of reaction direction failed\n",
      "-3 1\n",
      "FACOAE80\n",
      "1 1\n",
      "FACOAE60\n",
      "Gibbs free energy of FACOAE60 is not reliable\n",
      "Determination of reaction direction failed\n",
      "-3 1\n",
      "PLIPA1E120pp\n",
      "Gibbs free energy of PLIPA1E120pp is not reliable\n",
      "Determination of reaction direction failed\n",
      "-3 1\n",
      "3OAS141\n"
     ]
    },
    {
     "name": "stderr",
     "output_type": "stream",
     "text": [
      "C:\\Users\\Tobi\\.conda\\envs\\env_gcs_py39\\lib\\site-packages\\equilibrator_cache\\reaction.py:616: UserWarning: Cannot calculate Legendre transform for Compound(id=132041, inchi_key=None): Compound(id=132041, inchi_key=None) has not yet been analyzed by ChemAxon.\n",
      "  warnings.warn(\n",
      "C:\\Users\\Tobi\\.conda\\envs\\env_gcs_py39\\lib\\site-packages\\equilibrator_cache\\reaction.py:616: UserWarning: Cannot calculate Legendre transform for Compound(id=131802, inchi_key=None): Compound(id=131802, inchi_key=None) has not yet been analyzed by ChemAxon.\n",
      "  warnings.warn(\n",
      "C:\\Users\\Tobi\\.conda\\envs\\env_gcs_py39\\lib\\site-packages\\equilibrator_cache\\reaction.py:616: UserWarning: Cannot calculate Legendre transform for Compound(id=2518, inchi_key=None): Compound(id=2518, inchi_key=None) has not yet been analyzed by ChemAxon.\n",
      "  warnings.warn(\n",
      "C:\\Users\\Tobi\\.conda\\envs\\env_gcs_py39\\lib\\site-packages\\equilibrator_cache\\reaction.py:616: UserWarning: Cannot calculate Legendre transform for Compound(id=5749, inchi_key=None): Compound(id=5749, inchi_key=None) has not yet been analyzed by ChemAxon.\n",
      "  warnings.warn(\n",
      "C:\\Users\\Tobi\\.conda\\envs\\env_gcs_py39\\lib\\site-packages\\equilibrator_cache\\reaction.py:616: UserWarning: Cannot calculate Legendre transform for Compound(id=133300, inchi_key=None): Compound(id=133300, inchi_key=None) has not yet been analyzed by ChemAxon.\n",
      "  warnings.warn(\n",
      "C:\\Users\\Tobi\\.conda\\envs\\env_gcs_py39\\lib\\site-packages\\equilibrator_cache\\reaction.py:616: UserWarning: Cannot calculate Legendre transform for Compound(id=858, inchi_key=None): Compound(id=858, inchi_key=None) has not yet been analyzed by ChemAxon.\n",
      "  warnings.warn(\n",
      "C:\\Users\\Tobi\\.conda\\envs\\env_gcs_py39\\lib\\site-packages\\equilibrator_cache\\reaction.py:616: UserWarning: Cannot calculate Legendre transform for Compound(id=174, inchi_key=None): Compound(id=174, inchi_key=None) has not yet been analyzed by ChemAxon.\n",
      "  warnings.warn(\n"
     ]
    },
    {
     "name": "stdout",
     "output_type": "stream",
     "text": [
      "Gibbs free energy of 3OAS141 is not reliable\n",
      "Determination of reaction direction failed\n",
      "-3 1\n",
      "3OAR121\n"
     ]
    },
    {
     "name": "stderr",
     "output_type": "stream",
     "text": [
      "C:\\Users\\Tobi\\.conda\\envs\\env_gcs_py39\\lib\\site-packages\\equilibrator_cache\\reaction.py:616: UserWarning: Cannot calculate Legendre transform for Compound(id=4636, inchi_key=None): Compound(id=4636, inchi_key=None) has not yet been analyzed by ChemAxon.\n",
      "  warnings.warn(\n",
      "C:\\Users\\Tobi\\.conda\\envs\\env_gcs_py39\\lib\\site-packages\\equilibrator_cache\\reaction.py:616: UserWarning: Cannot calculate Legendre transform for Compound(id=5748, inchi_key=None): Compound(id=5748, inchi_key=None) has not yet been analyzed by ChemAxon.\n",
      "  warnings.warn(\n"
     ]
    },
    {
     "name": "stdout",
     "output_type": "stream",
     "text": [
      "Gibbs free energy of 3OAR121 is not reliable\n",
      "Determination of reaction direction failed\n",
      "-3 1\n",
      "PLIPA1G120pp\n"
     ]
    },
    {
     "name": "stderr",
     "output_type": "stream",
     "text": [
      "C:\\Users\\Tobi\\.conda\\envs\\env_gcs_py39\\lib\\site-packages\\equilibrator_cache\\reaction.py:616: UserWarning: Cannot calculate Legendre transform for Compound(id=3000, inchi_key=None): Compound(id=3000, inchi_key=None) has not yet been analyzed by ChemAxon.\n",
      "  warnings.warn(\n",
      "C:\\Users\\Tobi\\.conda\\envs\\env_gcs_py39\\lib\\site-packages\\equilibrator_cache\\reaction.py:616: UserWarning: Cannot calculate Legendre transform for Compound(id=1593, inchi_key=None): Compound(id=1593, inchi_key=None) has not yet been analyzed by ChemAxon.\n",
      "  warnings.warn(\n",
      "C:\\Users\\Tobi\\.conda\\envs\\env_gcs_py39\\lib\\site-packages\\equilibrator_cache\\reaction.py:616: UserWarning: Cannot calculate Legendre transform for Compound(id=131802, inchi_key=None): Compound(id=131802, inchi_key=None) has not yet been analyzed by ChemAxon.\n",
      "  warnings.warn(\n"
     ]
    },
    {
     "name": "stdout",
     "output_type": "stream",
     "text": [
      "Gibbs free energy of PLIPA1G120pp is not reliable\n",
      "Determination of reaction direction failed\n",
      "-3 1\n",
      "FACOAE141\n"
     ]
    },
    {
     "name": "stderr",
     "output_type": "stream",
     "text": [
      "C:\\Users\\Tobi\\.conda\\envs\\env_gcs_py39\\lib\\site-packages\\equilibrator_cache\\reaction.py:616: UserWarning: Cannot calculate Legendre transform for Compound(id=2031, inchi_key=None): Compound(id=2031, inchi_key=None) has not yet been analyzed by ChemAxon.\n",
      "  warnings.warn(\n",
      "C:\\Users\\Tobi\\.conda\\envs\\env_gcs_py39\\lib\\site-packages\\equilibrator_cache\\reaction.py:616: UserWarning: Cannot calculate Legendre transform for Compound(id=609, inchi_key=None): Compound(id=609, inchi_key=None) has not yet been analyzed by ChemAxon.\n",
      "  warnings.warn(\n",
      "C:\\Users\\Tobi\\.conda\\envs\\env_gcs_py39\\lib\\site-packages\\equilibrator_cache\\reaction.py:616: UserWarning: Cannot calculate Legendre transform for Compound(id=3000, inchi_key=None): Compound(id=3000, inchi_key=None) has not yet been analyzed by ChemAxon.\n",
      "  warnings.warn(\n",
      "C:\\Users\\Tobi\\.conda\\envs\\env_gcs_py39\\lib\\site-packages\\equilibrator_cache\\reaction.py:616: UserWarning: Cannot calculate Legendre transform for Compound(id=1593, inchi_key=None): Compound(id=1593, inchi_key=None) has not yet been analyzed by ChemAxon.\n",
      "  warnings.warn(\n",
      "C:\\Users\\Tobi\\.conda\\envs\\env_gcs_py39\\lib\\site-packages\\equilibrator_cache\\reaction.py:616: UserWarning: Cannot calculate Legendre transform for Compound(id=131802, inchi_key=None): Compound(id=131802, inchi_key=None) has not yet been analyzed by ChemAxon.\n",
      "  warnings.warn(\n"
     ]
    },
    {
     "name": "stdout",
     "output_type": "stream",
     "text": [
      "Gibbs free energy of FACOAE141 is not reliable\n",
      "Determination of reaction direction failed\n",
      "-3 1\n",
      "2AGPGAT120\n",
      "Gibbs free energy of 2AGPGAT120 is not reliable\n",
      "Determination of reaction direction failed\n",
      "-3 1\n",
      "ALAALAD\n",
      "1 1\n",
      "2AGPGAT140\n"
     ]
    },
    {
     "name": "stderr",
     "output_type": "stream",
     "text": [
      "C:\\Users\\Tobi\\.conda\\envs\\env_gcs_py39\\lib\\site-packages\\equilibrator_cache\\reaction.py:616: UserWarning: Cannot calculate Legendre transform for Compound(id=131783, inchi_key=None): Compound(id=131783, inchi_key=None) has not yet been analyzed by ChemAxon.\n",
      "  warnings.warn(\n"
     ]
    },
    {
     "name": "stdout",
     "output_type": "stream",
     "text": [
      "Gibbs free energy of 2AGPGAT140 is not reliable\n",
      "Determination of reaction direction failed\n",
      "-3 1\n",
      "AMPTASEPG\n",
      "0 1\n",
      "PGPP140pp\n"
     ]
    },
    {
     "name": "stderr",
     "output_type": "stream",
     "text": [
      "C:\\Users\\Tobi\\.conda\\envs\\env_gcs_py39\\lib\\site-packages\\equilibrator_cache\\reaction.py:616: UserWarning: Cannot calculate Legendre transform for Compound(id=4543, inchi_key=None): Compound(id=4543, inchi_key=None) has not yet been analyzed by ChemAxon.\n",
      "  warnings.warn(\n"
     ]
    },
    {
     "name": "stdout",
     "output_type": "stream",
     "text": [
      "Gibbs free energy of PGPP140pp is not reliable\n",
      "Determination of reaction direction failed\n",
      "-3 1\n",
      "PGPP141pp\n"
     ]
    },
    {
     "name": "stderr",
     "output_type": "stream",
     "text": [
      "C:\\Users\\Tobi\\.conda\\envs\\env_gcs_py39\\lib\\site-packages\\equilibrator_cache\\reaction.py:616: UserWarning: Cannot calculate Legendre transform for Compound(id=1805, inchi_key=None): Compound(id=1805, inchi_key=None) has not yet been analyzed by ChemAxon.\n",
      "  warnings.warn(\n",
      "C:\\Users\\Tobi\\.conda\\envs\\env_gcs_py39\\lib\\site-packages\\equilibrator_cache\\reaction.py:616: UserWarning: Cannot calculate Legendre transform for Compound(id=4542, inchi_key=None): Compound(id=4542, inchi_key=None) has not yet been analyzed by ChemAxon.\n",
      "  warnings.warn(\n"
     ]
    },
    {
     "name": "stdout",
     "output_type": "stream",
     "text": [
      "Gibbs free energy of PGPP141pp is not reliable\n",
      "Determination of reaction direction failed\n",
      "-3 1\n",
      "SERD_D\n",
      "1 1\n",
      "FLVRx\n",
      "0 1\n",
      "PLIPA1G140pp\n",
      "Gibbs free energy of PLIPA1G140pp is not reliable\n",
      "Determination of reaction direction failed\n",
      "-3 1\n",
      "PAPA120pp\n"
     ]
    },
    {
     "name": "stderr",
     "output_type": "stream",
     "text": [
      "C:\\Users\\Tobi\\.conda\\envs\\env_gcs_py39\\lib\\site-packages\\equilibrator_cache\\reaction.py:616: UserWarning: Cannot calculate Legendre transform for Compound(id=131783, inchi_key=None): Compound(id=131783, inchi_key=None) has not yet been analyzed by ChemAxon.\n",
      "  warnings.warn(\n",
      "C:\\Users\\Tobi\\.conda\\envs\\env_gcs_py39\\lib\\site-packages\\equilibrator_cache\\reaction.py:616: UserWarning: Cannot calculate Legendre transform for Compound(id=4282, inchi_key=None): Compound(id=4282, inchi_key=None) has not yet been analyzed by ChemAxon.\n",
      "  warnings.warn(\n",
      "C:\\Users\\Tobi\\.conda\\envs\\env_gcs_py39\\lib\\site-packages\\equilibrator_cache\\reaction.py:616: UserWarning: Cannot calculate Legendre transform for Compound(id=74513, inchi_key=None): Compound(id=74513, inchi_key=None) has not yet been analyzed by ChemAxon.\n",
      "  warnings.warn(\n"
     ]
    },
    {
     "name": "stdout",
     "output_type": "stream",
     "text": [
      "Gibbs free energy of PAPA120pp is not reliable\n",
      "Determination of reaction direction failed\n",
      "-3 1\n",
      "PAPA140pp\n"
     ]
    },
    {
     "name": "stderr",
     "output_type": "stream",
     "text": [
      "C:\\Users\\Tobi\\.conda\\envs\\env_gcs_py39\\lib\\site-packages\\equilibrator_cache\\reaction.py:616: UserWarning: Cannot calculate Legendre transform for Compound(id=117236, inchi_key=None): Compound(id=117236, inchi_key=None) has not yet been analyzed by ChemAxon.\n",
      "  warnings.warn(\n"
     ]
    },
    {
     "name": "stdout",
     "output_type": "stream",
     "text": [
      "Gibbs free energy of PAPA140pp is not reliable\n",
      "Determination of reaction direction failed\n",
      "-3 1\n",
      "GGPTRCO\n",
      "1 1\n",
      "PAPA141pp\n"
     ]
    },
    {
     "name": "stderr",
     "output_type": "stream",
     "text": [
      "C:\\Users\\Tobi\\.conda\\envs\\env_gcs_py39\\lib\\site-packages\\equilibrator_cache\\reaction.py:616: UserWarning: Cannot calculate Legendre transform for Compound(id=4283, inchi_key=None): Compound(id=4283, inchi_key=None) has not yet been analyzed by ChemAxon.\n",
      "  warnings.warn(\n",
      "C:\\Users\\Tobi\\.conda\\envs\\env_gcs_py39\\lib\\site-packages\\equilibrator_cache\\reaction.py:616: UserWarning: Cannot calculate Legendre transform for Compound(id=74516, inchi_key=None): Compound(id=74516, inchi_key=None) has not yet been analyzed by ChemAxon.\n",
      "  warnings.warn(\n"
     ]
    },
    {
     "name": "stdout",
     "output_type": "stream",
     "text": [
      "Gibbs free energy of PAPA141pp is not reliable\n",
      "Determination of reaction direction failed\n",
      "-3 1\n",
      "PAPA160pp\n"
     ]
    },
    {
     "name": "stderr",
     "output_type": "stream",
     "text": [
      "C:\\Users\\Tobi\\.conda\\envs\\env_gcs_py39\\lib\\site-packages\\equilibrator_cache\\reaction.py:616: UserWarning: Cannot calculate Legendre transform for Compound(id=2735, inchi_key=None): Compound(id=2735, inchi_key=None) has not yet been analyzed by ChemAxon.\n",
      "  warnings.warn(\n"
     ]
    },
    {
     "name": "stdout",
     "output_type": "stream",
     "text": [
      "Gibbs free energy of PAPA160pp is not reliable\n",
      "Determination of reaction direction failed\n",
      "-3 1\n",
      "PAPA161pp\n"
     ]
    },
    {
     "name": "stderr",
     "output_type": "stream",
     "text": [
      "C:\\Users\\Tobi\\.conda\\envs\\env_gcs_py39\\lib\\site-packages\\equilibrator_cache\\reaction.py:616: UserWarning: Cannot calculate Legendre transform for Compound(id=3260, inchi_key=None): Compound(id=3260, inchi_key=None) has not yet been analyzed by ChemAxon.\n",
      "  warnings.warn(\n",
      "C:\\Users\\Tobi\\.conda\\envs\\env_gcs_py39\\lib\\site-packages\\equilibrator_cache\\reaction.py:616: UserWarning: Cannot calculate Legendre transform for Compound(id=74514, inchi_key=None): Compound(id=74514, inchi_key=None) has not yet been analyzed by ChemAxon.\n",
      "  warnings.warn(\n"
     ]
    },
    {
     "name": "stdout",
     "output_type": "stream",
     "text": [
      "Gibbs free energy of PAPA161pp is not reliable\n",
      "Determination of reaction direction failed\n",
      "-3 1\n",
      "HPYRI\n",
      "0 0\n",
      "TPRDCOAS\n",
      "0 1\n",
      "FMNRx\n",
      "0 1\n",
      "DHBS\n",
      "Gibbs free energy of DHBS is not reliable\n",
      "Determination of reaction direction failed\n",
      "-3 1\n",
      "THIORDXi\n",
      "1 1\n",
      "PDX5POi\n",
      "1 1\n",
      "GUI2\n",
      "0 0\n",
      "LPLIPAL2A141\n"
     ]
    },
    {
     "name": "stderr",
     "output_type": "stream",
     "text": [
      "C:\\Users\\Tobi\\.conda\\envs\\env_gcs_py39\\lib\\site-packages\\equilibrator_cache\\reaction.py:616: UserWarning: Cannot calculate Legendre transform for Compound(id=4718, inchi_key=None): Compound(id=4718, inchi_key=None) has not yet been analyzed by ChemAxon.\n",
      "  warnings.warn(\n",
      "C:\\Users\\Tobi\\.conda\\envs\\env_gcs_py39\\lib\\site-packages\\equilibrator_cache\\reaction.py:616: UserWarning: Cannot calculate Legendre transform for Compound(id=609, inchi_key=None): Compound(id=609, inchi_key=None) has not yet been analyzed by ChemAxon.\n",
      "  warnings.warn(\n",
      "C:\\Users\\Tobi\\.conda\\envs\\env_gcs_py39\\lib\\site-packages\\equilibrator_cache\\reaction.py:616: UserWarning: Cannot calculate Legendre transform for Compound(id=5073, inchi_key=None): Compound(id=5073, inchi_key=None) has not yet been analyzed by ChemAxon.\n",
      "  warnings.warn(\n",
      "C:\\Users\\Tobi\\.conda\\envs\\env_gcs_py39\\lib\\site-packages\\equilibrator_cache\\reaction.py:616: UserWarning: Cannot calculate Legendre transform for Compound(id=131966, inchi_key=None): Compound(id=131966, inchi_key=None) has not yet been analyzed by ChemAxon.\n",
      "  warnings.warn(\n"
     ]
    },
    {
     "name": "stdout",
     "output_type": "stream",
     "text": [
      "Gibbs free energy of LPLIPAL2A141 is not reliable\n",
      "Determination of reaction direction failed\n",
      "-3 1\n",
      "GPDDA3\n",
      "Gibbs free energy of GPDDA3 is not reliable\n",
      "Determination of reaction direction failed\n",
      "-3 1\n",
      "EAR141x\n",
      "Gibbs free energy of EAR141x is not reliable\n",
      "Determination of reaction direction failed\n",
      "-3 1\n",
      "EAR181x\n"
     ]
    },
    {
     "name": "stderr",
     "output_type": "stream",
     "text": [
      "C:\\Users\\Tobi\\.conda\\envs\\env_gcs_py39\\lib\\site-packages\\equilibrator_cache\\reaction.py:616: UserWarning: Cannot calculate Legendre transform for Compound(id=5071, inchi_key=None): Compound(id=5071, inchi_key=None) has not yet been analyzed by ChemAxon.\n",
      "  warnings.warn(\n",
      "C:\\Users\\Tobi\\.conda\\envs\\env_gcs_py39\\lib\\site-packages\\equilibrator_cache\\reaction.py:616: UserWarning: Cannot calculate Legendre transform for Compound(id=74433, inchi_key=None): Compound(id=74433, inchi_key=None) has not yet been analyzed by ChemAxon.\n",
      "  warnings.warn(\n",
      "C:\\Users\\Tobi\\.conda\\envs\\env_gcs_py39\\lib\\site-packages\\equilibrator_cache\\reaction.py:616: UserWarning: Cannot calculate Legendre transform for Compound(id=74433, inchi_key=None): Compound(id=74433, inchi_key=None) has not yet been analyzed by ChemAxon.\n",
      "  warnings.warn(\n",
      "C:\\Users\\Tobi\\.conda\\envs\\env_gcs_py39\\lib\\site-packages\\equilibrator_cache\\reaction.py:616: UserWarning: Cannot calculate Legendre transform for Compound(id=5071, inchi_key=None): Compound(id=5071, inchi_key=None) has not yet been analyzed by ChemAxon.\n",
      "  warnings.warn(\n"
     ]
    },
    {
     "name": "stdout",
     "output_type": "stream",
     "text": [
      "Gibbs free energy of EAR181x is not reliable\n",
      "Determination of reaction direction failed\n",
      "-3 1\n",
      "EAR181y\n",
      "Gibbs free energy of EAR181y is not reliable\n",
      "Determination of reaction direction failed\n",
      "-3 1\n",
      "G3PAT141\n"
     ]
    },
    {
     "name": "stderr",
     "output_type": "stream",
     "text": [
      "C:\\Users\\Tobi\\.conda\\envs\\env_gcs_py39\\lib\\site-packages\\equilibrator_cache\\reaction.py:616: UserWarning: Cannot calculate Legendre transform for Compound(id=74623, inchi_key=None): Compound(id=74623, inchi_key=None) has not yet been analyzed by ChemAxon.\n",
      "  warnings.warn(\n",
      "C:\\Users\\Tobi\\.conda\\envs\\env_gcs_py39\\lib\\site-packages\\equilibrator_cache\\reaction.py:616: UserWarning: Cannot calculate Legendre transform for Compound(id=858, inchi_key=None): Compound(id=858, inchi_key=None) has not yet been analyzed by ChemAxon.\n",
      "  warnings.warn(\n",
      "C:\\Users\\Tobi\\.conda\\envs\\env_gcs_py39\\lib\\site-packages\\equilibrator_cache\\reaction.py:616: UserWarning: Cannot calculate Legendre transform for Compound(id=131966, inchi_key=None): Compound(id=131966, inchi_key=None) has not yet been analyzed by ChemAxon.\n",
      "  warnings.warn(\n"
     ]
    },
    {
     "name": "stdout",
     "output_type": "stream",
     "text": [
      "Gibbs free energy of G3PAT141 is not reliable\n",
      "Determination of reaction direction failed\n",
      "-3 1\n",
      "2DOXG6PP\n",
      "1 1\n",
      "AGMH\n",
      "Gibbs free energy of AGMH is not reliable\n",
      "Determination of reaction direction failed\n",
      "-3 1\n",
      "G3PAT181\n"
     ]
    },
    {
     "name": "stderr",
     "output_type": "stream",
     "text": [
      "C:\\Users\\Tobi\\.conda\\envs\\env_gcs_py39\\lib\\site-packages\\equilibrator_cache\\reaction.py:616: UserWarning: Cannot calculate Legendre transform for Compound(id=2680, inchi_key=None): Compound(id=2680, inchi_key=None) has not yet been analyzed by ChemAxon.\n",
      "  warnings.warn(\n",
      "C:\\Users\\Tobi\\.conda\\envs\\env_gcs_py39\\lib\\site-packages\\equilibrator_cache\\reaction.py:616: UserWarning: Cannot calculate Legendre transform for Compound(id=74529, inchi_key=None): Compound(id=74529, inchi_key=None) has not yet been analyzed by ChemAxon.\n",
      "  warnings.warn(\n",
      "C:\\Users\\Tobi\\.conda\\envs\\env_gcs_py39\\lib\\site-packages\\equilibrator_cache\\reaction.py:616: UserWarning: Cannot calculate Legendre transform for Compound(id=74622, inchi_key=None): Compound(id=74622, inchi_key=None) has not yet been analyzed by ChemAxon.\n",
      "  warnings.warn(\n",
      "C:\\Users\\Tobi\\.conda\\envs\\env_gcs_py39\\lib\\site-packages\\equilibrator_cache\\reaction.py:616: UserWarning: Cannot calculate Legendre transform for Compound(id=858, inchi_key=None): Compound(id=858, inchi_key=None) has not yet been analyzed by ChemAxon.\n",
      "  warnings.warn(\n",
      "C:\\Users\\Tobi\\.conda\\envs\\env_gcs_py39\\lib\\site-packages\\equilibrator_cache\\reaction.py:616: UserWarning: Cannot calculate Legendre transform for Compound(id=74433, inchi_key=None): Compound(id=74433, inchi_key=None) has not yet been analyzed by ChemAxon.\n",
      "  warnings.warn(\n"
     ]
    },
    {
     "name": "stdout",
     "output_type": "stream",
     "text": [
      "Gibbs free energy of G3PAT181 is not reliable\n",
      "Determination of reaction direction failed\n",
      "-3 1\n",
      "SFGTHi\n",
      "1 1\n",
      "PYDAMK\n",
      "1 1\n",
      "3OAR120\n"
     ]
    },
    {
     "name": "stderr",
     "output_type": "stream",
     "text": [
      "C:\\Users\\Tobi\\.conda\\envs\\env_gcs_py39\\lib\\site-packages\\equilibrator_cache\\reaction.py:616: UserWarning: Cannot calculate Legendre transform for Compound(id=16691, inchi_key=None): Compound(id=16691, inchi_key=None) has not yet been analyzed by ChemAxon.\n",
      "  warnings.warn(\n",
      "C:\\Users\\Tobi\\.conda\\envs\\env_gcs_py39\\lib\\site-packages\\equilibrator_cache\\reaction.py:616: UserWarning: Cannot calculate Legendre transform for Compound(id=18451, inchi_key=None): Compound(id=18451, inchi_key=None) has not yet been analyzed by ChemAxon.\n",
      "  warnings.warn(\n"
     ]
    },
    {
     "name": "stdout",
     "output_type": "stream",
     "text": [
      "Gibbs free energy of 3OAR120 is not reliable\n",
      "Determination of reaction direction failed\n",
      "-3 0\n",
      "3HAD80\n"
     ]
    },
    {
     "name": "stderr",
     "output_type": "stream",
     "text": [
      "C:\\Users\\Tobi\\.conda\\envs\\env_gcs_py39\\lib\\site-packages\\equilibrator_cache\\reaction.py:616: UserWarning: Cannot calculate Legendre transform for Compound(id=7997, inchi_key=None): Compound(id=7997, inchi_key=None) has not yet been analyzed by ChemAxon.\n",
      "  warnings.warn(\n",
      "C:\\Users\\Tobi\\.conda\\envs\\env_gcs_py39\\lib\\site-packages\\equilibrator_cache\\reaction.py:616: UserWarning: Cannot calculate Legendre transform for Compound(id=13594, inchi_key=None): Compound(id=13594, inchi_key=None) has not yet been analyzed by ChemAxon.\n",
      "  warnings.warn(\n"
     ]
    },
    {
     "name": "stdout",
     "output_type": "stream",
     "text": [
      "Gibbs free energy of 3HAD80 is not reliable\n",
      "Determination of reaction direction failed\n",
      "-3 1\n",
      "3HAD120\n"
     ]
    },
    {
     "name": "stderr",
     "output_type": "stream",
     "text": [
      "C:\\Users\\Tobi\\.conda\\envs\\env_gcs_py39\\lib\\site-packages\\equilibrator_cache\\reaction.py:616: UserWarning: Cannot calculate Legendre transform for Compound(id=13665, inchi_key=None): Compound(id=13665, inchi_key=None) has not yet been analyzed by ChemAxon.\n",
      "  warnings.warn(\n",
      "C:\\Users\\Tobi\\.conda\\envs\\env_gcs_py39\\lib\\site-packages\\equilibrator_cache\\reaction.py:616: UserWarning: Cannot calculate Legendre transform for Compound(id=16691, inchi_key=None): Compound(id=16691, inchi_key=None) has not yet been analyzed by ChemAxon.\n",
      "  warnings.warn(\n"
     ]
    },
    {
     "name": "stdout",
     "output_type": "stream",
     "text": [
      "Gibbs free energy of 3HAD120 is not reliable\n",
      "Determination of reaction direction failed\n",
      "-3 1\n",
      "DSBCGT\n"
     ]
    },
    {
     "name": "stderr",
     "output_type": "stream",
     "text": [
      "C:\\Users\\Tobi\\.conda\\envs\\env_gcs_py39\\lib\\site-packages\\equilibrator_cache\\reaction.py:616: UserWarning: Cannot calculate Legendre transform for Compound(id=75416, inchi_key=None): Compound(id=75416, inchi_key=None) has not yet been analyzed by ChemAxon.\n",
      "  warnings.warn(\n",
      "C:\\Users\\Tobi\\.conda\\envs\\env_gcs_py39\\lib\\site-packages\\equilibrator_cache\\reaction.py:616: UserWarning: Cannot calculate Legendre transform for Compound(id=9847, inchi_key=None): Compound(id=9847, inchi_key=None) has not yet been analyzed by ChemAxon.\n",
      "  warnings.warn(\n"
     ]
    },
    {
     "name": "stdout",
     "output_type": "stream",
     "text": [
      "Gibbs free energy of DSBCGT is not reliable\n",
      "Determination of reaction direction failed\n",
      "-3 1\n",
      "DSBGGT\n"
     ]
    },
    {
     "name": "stderr",
     "output_type": "stream",
     "text": [
      "C:\\Users\\Tobi\\.conda\\envs\\env_gcs_py39\\lib\\site-packages\\equilibrator_cache\\reaction.py:616: UserWarning: Cannot calculate Legendre transform for Compound(id=75414, inchi_key=None): Compound(id=75414, inchi_key=None) has not yet been analyzed by ChemAxon.\n",
      "  warnings.warn(\n",
      "C:\\Users\\Tobi\\.conda\\envs\\env_gcs_py39\\lib\\site-packages\\equilibrator_cache\\reaction.py:616: UserWarning: Cannot calculate Legendre transform for Compound(id=9767, inchi_key=None): Compound(id=9767, inchi_key=None) has not yet been analyzed by ChemAxon.\n",
      "  warnings.warn(\n"
     ]
    },
    {
     "name": "stdout",
     "output_type": "stream",
     "text": [
      "Gibbs free energy of DSBGGT is not reliable\n",
      "Determination of reaction direction failed\n",
      "-3 1\n",
      "EAR180x\n"
     ]
    },
    {
     "name": "stderr",
     "output_type": "stream",
     "text": [
      "C:\\Users\\Tobi\\.conda\\envs\\env_gcs_py39\\lib\\site-packages\\equilibrator_cache\\reaction.py:616: UserWarning: Cannot calculate Legendre transform for Compound(id=2279, inchi_key=None): Compound(id=2279, inchi_key=None) has not yet been analyzed by ChemAxon.\n",
      "  warnings.warn(\n",
      "C:\\Users\\Tobi\\.conda\\envs\\env_gcs_py39\\lib\\site-packages\\equilibrator_cache\\reaction.py:616: UserWarning: Cannot calculate Legendre transform for Compound(id=2695, inchi_key=None): Compound(id=2695, inchi_key=None) has not yet been analyzed by ChemAxon.\n",
      "  warnings.warn(\n",
      "C:\\Users\\Tobi\\.conda\\envs\\env_gcs_py39\\lib\\site-packages\\equilibrator_cache\\reaction.py:616: UserWarning: Cannot calculate Legendre transform for Compound(id=2695, inchi_key=None): Compound(id=2695, inchi_key=None) has not yet been analyzed by ChemAxon.\n",
      "  warnings.warn(\n",
      "C:\\Users\\Tobi\\.conda\\envs\\env_gcs_py39\\lib\\site-packages\\equilibrator_cache\\reaction.py:616: UserWarning: Cannot calculate Legendre transform for Compound(id=2279, inchi_key=None): Compound(id=2279, inchi_key=None) has not yet been analyzed by ChemAxon.\n",
      "  warnings.warn(\n"
     ]
    },
    {
     "name": "stdout",
     "output_type": "stream",
     "text": [
      "Gibbs free energy of EAR180x is not reliable\n",
      "Determination of reaction direction failed\n",
      "-3 1\n",
      "EAR180y\n",
      "Gibbs free energy of EAR180y is not reliable\n",
      "Determination of reaction direction failed\n",
      "-3 1\n",
      "AGPAT120\n"
     ]
    },
    {
     "name": "stderr",
     "output_type": "stream",
     "text": [
      "C:\\Users\\Tobi\\.conda\\envs\\env_gcs_py39\\lib\\site-packages\\equilibrator_cache\\reaction.py:616: UserWarning: Cannot calculate Legendre transform for Compound(id=74420, inchi_key=None): Compound(id=74420, inchi_key=None) has not yet been analyzed by ChemAxon.\n",
      "  warnings.warn(\n",
      "C:\\Users\\Tobi\\.conda\\envs\\env_gcs_py39\\lib\\site-packages\\equilibrator_cache\\reaction.py:616: UserWarning: Cannot calculate Legendre transform for Compound(id=74513, inchi_key=None): Compound(id=74513, inchi_key=None) has not yet been analyzed by ChemAxon.\n",
      "  warnings.warn(\n",
      "C:\\Users\\Tobi\\.conda\\envs\\env_gcs_py39\\lib\\site-packages\\equilibrator_cache\\reaction.py:616: UserWarning: Cannot calculate Legendre transform for Compound(id=858, inchi_key=None): Compound(id=858, inchi_key=None) has not yet been analyzed by ChemAxon.\n",
      "  warnings.warn(\n"
     ]
    },
    {
     "name": "stdout",
     "output_type": "stream",
     "text": [
      "Gibbs free energy of AGPAT120 is not reliable\n",
      "Determination of reaction direction failed\n",
      "-3 1\n",
      "ALR4x\n",
      "0 1\n",
      "PGPP120\n"
     ]
    },
    {
     "name": "stderr",
     "output_type": "stream",
     "text": [
      "C:\\Users\\Tobi\\.conda\\envs\\env_gcs_py39\\lib\\site-packages\\equilibrator_cache\\reaction.py:616: UserWarning: Cannot calculate Legendre transform for Compound(id=4540, inchi_key=None): Compound(id=4540, inchi_key=None) has not yet been analyzed by ChemAxon.\n",
      "  warnings.warn(\n",
      "C:\\Users\\Tobi\\.conda\\envs\\env_gcs_py39\\lib\\site-packages\\equilibrator_cache\\reaction.py:616: UserWarning: Cannot calculate Legendre transform for Compound(id=1593, inchi_key=None): Compound(id=1593, inchi_key=None) has not yet been analyzed by ChemAxon.\n",
      "  warnings.warn(\n",
      "C:\\Users\\Tobi\\.conda\\envs\\env_gcs_py39\\lib\\site-packages\\equilibrator_cache\\reaction.py:616: UserWarning: Cannot calculate Legendre transform for Compound(id=4282, inchi_key=None): Compound(id=4282, inchi_key=None) has not yet been analyzed by ChemAxon.\n",
      "  warnings.warn(\n",
      "C:\\Users\\Tobi\\.conda\\envs\\env_gcs_py39\\lib\\site-packages\\equilibrator_cache\\reaction.py:616: UserWarning: Cannot calculate Legendre transform for Compound(id=74513, inchi_key=None): Compound(id=74513, inchi_key=None) has not yet been analyzed by ChemAxon.\n",
      "  warnings.warn(\n"
     ]
    },
    {
     "name": "stdout",
     "output_type": "stream",
     "text": [
      "Gibbs free energy of PGPP120 is not reliable\n",
      "Determination of reaction direction failed\n",
      "-3 1\n",
      "DAGK120\n",
      "Gibbs free energy of DAGK120 is not reliable\n",
      "Determination of reaction direction failed\n",
      "-3 1\n",
      "LPLIPAL1G141pp\n"
     ]
    },
    {
     "name": "stderr",
     "output_type": "stream",
     "text": [
      "C:\\Users\\Tobi\\.conda\\envs\\env_gcs_py39\\lib\\site-packages\\equilibrator_cache\\reaction.py:616: UserWarning: Cannot calculate Legendre transform for Compound(id=5555, inchi_key=None): Compound(id=5555, inchi_key=None) has not yet been analyzed by ChemAxon.\n",
      "  warnings.warn(\n",
      "C:\\Users\\Tobi\\.conda\\envs\\env_gcs_py39\\lib\\site-packages\\equilibrator_cache\\reaction.py:616: UserWarning: Cannot calculate Legendre transform for Compound(id=609, inchi_key=None): Compound(id=609, inchi_key=None) has not yet been analyzed by ChemAxon.\n",
      "  warnings.warn(\n"
     ]
    },
    {
     "name": "stdout",
     "output_type": "stream",
     "text": [
      "Gibbs free energy of LPLIPAL1G141pp is not reliable\n",
      "Determination of reaction direction failed\n",
      "-3 1\n",
      "LPLIPAL1G180pp\n",
      "1 1\n",
      "LPLIPAL1G181pp\n",
      "1 1\n",
      "GLCP2\n",
      "Gibbs free energy of GLCP2 is not reliable\n",
      "Determination of reaction direction failed\n",
      "-3 1\n",
      "PLIPA2A140pp\n"
     ]
    },
    {
     "name": "stderr",
     "output_type": "stream",
     "text": [
      "C:\\Users\\Tobi\\.conda\\envs\\env_gcs_py39\\lib\\site-packages\\equilibrator_cache\\reaction.py:616: UserWarning: Cannot calculate Legendre transform for Compound(id=6820, inchi_key=None): Compound(id=6820, inchi_key=None) has not yet been analyzed by ChemAxon.\n",
      "  warnings.warn(\n",
      "C:\\Users\\Tobi\\.conda\\envs\\env_gcs_py39\\lib\\site-packages\\equilibrator_cache\\reaction.py:616: UserWarning: Cannot calculate Legendre transform for Compound(id=131783, inchi_key=None): Compound(id=131783, inchi_key=None) has not yet been analyzed by ChemAxon.\n",
      "  warnings.warn(\n",
      "C:\\Users\\Tobi\\.conda\\envs\\env_gcs_py39\\lib\\site-packages\\equilibrator_cache\\reaction.py:616: UserWarning: Cannot calculate Legendre transform for Compound(id=74623, inchi_key=None): Compound(id=74623, inchi_key=None) has not yet been analyzed by ChemAxon.\n",
      "  warnings.warn(\n",
      "C:\\Users\\Tobi\\.conda\\envs\\env_gcs_py39\\lib\\site-packages\\equilibrator_cache\\reaction.py:616: UserWarning: Cannot calculate Legendre transform for Compound(id=74516, inchi_key=None): Compound(id=74516, inchi_key=None) has not yet been analyzed by ChemAxon.\n",
      "  warnings.warn(\n",
      "C:\\Users\\Tobi\\.conda\\envs\\env_gcs_py39\\lib\\site-packages\\equilibrator_cache\\reaction.py:616: UserWarning: Cannot calculate Legendre transform for Compound(id=609, inchi_key=None): Compound(id=609, inchi_key=None) has not yet been analyzed by ChemAxon.\n",
      "  warnings.warn(\n"
     ]
    },
    {
     "name": "stdout",
     "output_type": "stream",
     "text": [
      "Gibbs free energy of PLIPA2A140pp is not reliable\n",
      "Determination of reaction direction failed\n",
      "-3 1\n",
      "PLIPA2A141pp\n",
      "Gibbs free energy of PLIPA2A141pp is not reliable\n",
      "Determination of reaction direction failed\n",
      "-3 1\n",
      "PLIPA2E141pp\n"
     ]
    },
    {
     "name": "stderr",
     "output_type": "stream",
     "text": [
      "C:\\Users\\Tobi\\.conda\\envs\\env_gcs_py39\\lib\\site-packages\\equilibrator_cache\\reaction.py:616: UserWarning: Cannot calculate Legendre transform for Compound(id=5551, inchi_key=None): Compound(id=5551, inchi_key=None) has not yet been analyzed by ChemAxon.\n",
      "  warnings.warn(\n",
      "C:\\Users\\Tobi\\.conda\\envs\\env_gcs_py39\\lib\\site-packages\\equilibrator_cache\\reaction.py:616: UserWarning: Cannot calculate Legendre transform for Compound(id=3201, inchi_key=None): Compound(id=3201, inchi_key=None) has not yet been analyzed by ChemAxon.\n",
      "  warnings.warn(\n",
      "C:\\Users\\Tobi\\.conda\\envs\\env_gcs_py39\\lib\\site-packages\\equilibrator_cache\\reaction.py:616: UserWarning: Cannot calculate Legendre transform for Compound(id=609, inchi_key=None): Compound(id=609, inchi_key=None) has not yet been analyzed by ChemAxon.\n",
      "  warnings.warn(\n"
     ]
    },
    {
     "name": "stdout",
     "output_type": "stream",
     "text": [
      "Gibbs free energy of PLIPA2E141pp is not reliable\n",
      "Determination of reaction direction failed\n",
      "-3 1\n",
      "PLIPA2G140pp\n"
     ]
    },
    {
     "name": "stderr",
     "output_type": "stream",
     "text": [
      "C:\\Users\\Tobi\\.conda\\envs\\env_gcs_py39\\lib\\site-packages\\equilibrator_cache\\reaction.py:616: UserWarning: Cannot calculate Legendre transform for Compound(id=131783, inchi_key=None): Compound(id=131783, inchi_key=None) has not yet been analyzed by ChemAxon.\n",
      "  warnings.warn(\n"
     ]
    },
    {
     "name": "stdout",
     "output_type": "stream",
     "text": [
      "Gibbs free energy of PLIPA2G140pp is not reliable\n",
      "Determination of reaction direction failed\n",
      "-3 1\n",
      "3HAD161\n"
     ]
    },
    {
     "name": "stderr",
     "output_type": "stream",
     "text": [
      "C:\\Users\\Tobi\\.conda\\envs\\env_gcs_py39\\lib\\site-packages\\equilibrator_cache\\reaction.py:616: UserWarning: Cannot calculate Legendre transform for Compound(id=5514, inchi_key=None): Compound(id=5514, inchi_key=None) has not yet been analyzed by ChemAxon.\n",
      "  warnings.warn(\n",
      "C:\\Users\\Tobi\\.conda\\envs\\env_gcs_py39\\lib\\site-packages\\equilibrator_cache\\reaction.py:616: UserWarning: Cannot calculate Legendre transform for Compound(id=5074, inchi_key=None): Compound(id=5074, inchi_key=None) has not yet been analyzed by ChemAxon.\n",
      "  warnings.warn(\n"
     ]
    },
    {
     "name": "stdout",
     "output_type": "stream",
     "text": [
      "Gibbs free energy of 3HAD161 is not reliable\n",
      "Determination of reaction direction failed\n",
      "-3 1\n",
      "CU1Opp\n",
      "Gibbs free energy of CU1Opp is not reliable\n",
      "Determination of reaction direction failed\n",
      "-3 1\n",
      "FADRx2\n",
      "1 1\n",
      "LPLIPAL1E141pp\n",
      "Gibbs free energy of LPLIPAL1E141pp is not reliable\n",
      "Determination of reaction direction failed\n",
      "-3 1\n",
      "LALDO2x\n",
      "0 1\n",
      "LPLIPAL1E160pp\n"
     ]
    },
    {
     "name": "stderr",
     "output_type": "stream",
     "text": [
      "C:\\Users\\Tobi\\.conda\\envs\\env_gcs_py39\\lib\\site-packages\\equilibrator_cache\\reaction.py:616: UserWarning: Cannot calculate Legendre transform for Compound(id=5551, inchi_key=None): Compound(id=5551, inchi_key=None) has not yet been analyzed by ChemAxon.\n",
      "  warnings.warn(\n",
      "C:\\Users\\Tobi\\.conda\\envs\\env_gcs_py39\\lib\\site-packages\\equilibrator_cache\\reaction.py:616: UserWarning: Cannot calculate Legendre transform for Compound(id=609, inchi_key=None): Compound(id=609, inchi_key=None) has not yet been analyzed by ChemAxon.\n",
      "  warnings.warn(\n"
     ]
    },
    {
     "name": "stdout",
     "output_type": "stream",
     "text": [
      "1 1\n",
      "LPLIPAL1E180pp\n",
      "1 1\n",
      "ASNS1\n",
      "1 1\n",
      "EAR80y\n",
      "Gibbs free energy of EAR80y is not reliable\n",
      "Determination of reaction direction failed\n",
      "-3 1\n",
      "EAR120y\n",
      "Gibbs free energy of EAR120y is not reliable\n",
      "Determination of reaction direction failed\n",
      "-3 1\n",
      "3OAR181\n"
     ]
    },
    {
     "name": "stderr",
     "output_type": "stream",
     "text": [
      "C:\\Users\\Tobi\\.conda\\envs\\env_gcs_py39\\lib\\site-packages\\equilibrator_cache\\reaction.py:616: UserWarning: Cannot calculate Legendre transform for Compound(id=74464, inchi_key=None): Compound(id=74464, inchi_key=None) has not yet been analyzed by ChemAxon.\n",
      "  warnings.warn(\n",
      "C:\\Users\\Tobi\\.conda\\envs\\env_gcs_py39\\lib\\site-packages\\equilibrator_cache\\reaction.py:616: UserWarning: Cannot calculate Legendre transform for Compound(id=13594, inchi_key=None): Compound(id=13594, inchi_key=None) has not yet been analyzed by ChemAxon.\n",
      "  warnings.warn(\n",
      "C:\\Users\\Tobi\\.conda\\envs\\env_gcs_py39\\lib\\site-packages\\equilibrator_cache\\reaction.py:616: UserWarning: Cannot calculate Legendre transform for Compound(id=74420, inchi_key=None): Compound(id=74420, inchi_key=None) has not yet been analyzed by ChemAxon.\n",
      "  warnings.warn(\n",
      "C:\\Users\\Tobi\\.conda\\envs\\env_gcs_py39\\lib\\site-packages\\equilibrator_cache\\reaction.py:616: UserWarning: Cannot calculate Legendre transform for Compound(id=13665, inchi_key=None): Compound(id=13665, inchi_key=None) has not yet been analyzed by ChemAxon.\n",
      "  warnings.warn(\n",
      "C:\\Users\\Tobi\\.conda\\envs\\env_gcs_py39\\lib\\site-packages\\equilibrator_cache\\reaction.py:616: UserWarning: Cannot calculate Legendre transform for Compound(id=5515, inchi_key=None): Compound(id=5515, inchi_key=None) has not yet been analyzed by ChemAxon.\n",
      "  warnings.warn(\n",
      "C:\\Users\\Tobi\\.conda\\envs\\env_gcs_py39\\lib\\site-packages\\equilibrator_cache\\reaction.py:616: UserWarning: Cannot calculate Legendre transform for Compound(id=5751, inchi_key=None): Compound(id=5751, inchi_key=None) has not yet been analyzed by ChemAxon.\n",
      "  warnings.warn(\n"
     ]
    },
    {
     "name": "stdout",
     "output_type": "stream",
     "text": [
      "Gibbs free energy of 3OAR181 is not reliable\n",
      "Determination of reaction direction failed\n",
      "-3 1\n",
      "3HAD121\n"
     ]
    },
    {
     "name": "stderr",
     "output_type": "stream",
     "text": [
      "C:\\Users\\Tobi\\.conda\\envs\\env_gcs_py39\\lib\\site-packages\\equilibrator_cache\\reaction.py:616: UserWarning: Cannot calculate Legendre transform for Compound(id=5072, inchi_key=None): Compound(id=5072, inchi_key=None) has not yet been analyzed by ChemAxon.\n",
      "  warnings.warn(\n",
      "C:\\Users\\Tobi\\.conda\\envs\\env_gcs_py39\\lib\\site-packages\\equilibrator_cache\\reaction.py:616: UserWarning: Cannot calculate Legendre transform for Compound(id=4636, inchi_key=None): Compound(id=4636, inchi_key=None) has not yet been analyzed by ChemAxon.\n",
      "  warnings.warn(\n",
      "C:\\Users\\Tobi\\.conda\\envs\\env_gcs_py39\\lib\\site-packages\\equilibrator_cache\\reaction.py:616: UserWarning: Cannot calculate Legendre transform for Compound(id=133300, inchi_key=None): Compound(id=133300, inchi_key=None) has not yet been analyzed by ChemAxon.\n",
      "  warnings.warn(\n",
      "C:\\Users\\Tobi\\.conda\\envs\\env_gcs_py39\\lib\\site-packages\\equilibrator_cache\\reaction.py:616: UserWarning: Cannot calculate Legendre transform for Compound(id=5072, inchi_key=None): Compound(id=5072, inchi_key=None) has not yet been analyzed by ChemAxon.\n",
      "  warnings.warn(\n"
     ]
    },
    {
     "name": "stdout",
     "output_type": "stream",
     "text": [
      "Gibbs free energy of 3HAD121 is not reliable\n",
      "Determination of reaction direction failed\n",
      "-3 1\n",
      "EAR121y\n",
      "Gibbs free energy of EAR121y is not reliable\n",
      "Determination of reaction direction failed\n",
      "-3 1\n",
      "LPLIPAL1E181pp\n"
     ]
    },
    {
     "name": "stderr",
     "output_type": "stream",
     "text": [
      "C:\\Users\\Tobi\\.conda\\envs\\env_gcs_py39\\lib\\site-packages\\equilibrator_cache\\reaction.py:616: UserWarning: Cannot calculate Legendre transform for Compound(id=7681, inchi_key=None): Compound(id=7681, inchi_key=None) has not yet been analyzed by ChemAxon.\n",
      "  warnings.warn(\n"
     ]
    },
    {
     "name": "stdout",
     "output_type": "stream",
     "text": [
      "Gibbs free energy of LPLIPAL1E181pp is not reliable\n",
      "Determination of reaction direction failed\n",
      "-3 1\n",
      "LPLIPAL1G160pp\n",
      "1 1\n",
      "LPLIPAL1G161pp\n"
     ]
    },
    {
     "name": "stderr",
     "output_type": "stream",
     "text": [
      "C:\\Users\\Tobi\\.conda\\envs\\env_gcs_py39\\lib\\site-packages\\equilibrator_cache\\reaction.py:616: UserWarning: Cannot calculate Legendre transform for Compound(id=5557, inchi_key=None): Compound(id=5557, inchi_key=None) has not yet been analyzed by ChemAxon.\n",
      "  warnings.warn(\n",
      "C:\\Users\\Tobi\\.conda\\envs\\env_gcs_py39\\lib\\site-packages\\equilibrator_cache\\reaction.py:616: UserWarning: Cannot calculate Legendre transform for Compound(id=879, inchi_key=None): Compound(id=879, inchi_key=None) has not yet been analyzed by ChemAxon.\n",
      "  warnings.warn(\n"
     ]
    },
    {
     "name": "stdout",
     "output_type": "stream",
     "text": [
      "Gibbs free energy of LPLIPAL1G161pp is not reliable\n",
      "Determination of reaction direction failed\n",
      "-3 1\n",
      "GTHRDHpp\n",
      "1 1\n",
      "LPLIPAL1G120pp\n"
     ]
    },
    {
     "name": "stderr",
     "output_type": "stream",
     "text": [
      "C:\\Users\\Tobi\\.conda\\envs\\env_gcs_py39\\lib\\site-packages\\equilibrator_cache\\reaction.py:616: UserWarning: Cannot calculate Legendre transform for Compound(id=131802, inchi_key=None): Compound(id=131802, inchi_key=None) has not yet been analyzed by ChemAxon.\n",
      "  warnings.warn(\n"
     ]
    },
    {
     "name": "stdout",
     "output_type": "stream",
     "text": [
      "Gibbs free energy of LPLIPAL1G120pp is not reliable\n",
      "Determination of reaction direction failed\n",
      "-3 1\n",
      "PLIPA2E140pp\n"
     ]
    },
    {
     "name": "stderr",
     "output_type": "stream",
     "text": [
      "C:\\Users\\Tobi\\.conda\\envs\\env_gcs_py39\\lib\\site-packages\\equilibrator_cache\\reaction.py:616: UserWarning: Cannot calculate Legendre transform for Compound(id=2519, inchi_key=None): Compound(id=2519, inchi_key=None) has not yet been analyzed by ChemAxon.\n",
      "  warnings.warn(\n",
      "C:\\Users\\Tobi\\.conda\\envs\\env_gcs_py39\\lib\\site-packages\\equilibrator_cache\\reaction.py:616: UserWarning: Cannot calculate Legendre transform for Compound(id=131783, inchi_key=None): Compound(id=131783, inchi_key=None) has not yet been analyzed by ChemAxon.\n",
      "  warnings.warn(\n"
     ]
    },
    {
     "name": "stdout",
     "output_type": "stream",
     "text": [
      "Gibbs free energy of PLIPA2E140pp is not reliable\n",
      "Determination of reaction direction failed\n",
      "-3 1\n",
      "PLIPA2A161pp\n"
     ]
    },
    {
     "name": "stderr",
     "output_type": "stream",
     "text": [
      "C:\\Users\\Tobi\\.conda\\envs\\env_gcs_py39\\lib\\site-packages\\equilibrator_cache\\reaction.py:616: UserWarning: Cannot calculate Legendre transform for Compound(id=74621, inchi_key=None): Compound(id=74621, inchi_key=None) has not yet been analyzed by ChemAxon.\n",
      "  warnings.warn(\n",
      "C:\\Users\\Tobi\\.conda\\envs\\env_gcs_py39\\lib\\site-packages\\equilibrator_cache\\reaction.py:616: UserWarning: Cannot calculate Legendre transform for Compound(id=879, inchi_key=None): Compound(id=879, inchi_key=None) has not yet been analyzed by ChemAxon.\n",
      "  warnings.warn(\n",
      "C:\\Users\\Tobi\\.conda\\envs\\env_gcs_py39\\lib\\site-packages\\equilibrator_cache\\reaction.py:616: UserWarning: Cannot calculate Legendre transform for Compound(id=74514, inchi_key=None): Compound(id=74514, inchi_key=None) has not yet been analyzed by ChemAxon.\n",
      "  warnings.warn(\n"
     ]
    },
    {
     "name": "stdout",
     "output_type": "stream",
     "text": [
      "Gibbs free energy of PLIPA2A161pp is not reliable\n",
      "Determination of reaction direction failed\n",
      "-3 1\n",
      "EAR140x\n"
     ]
    },
    {
     "name": "stderr",
     "output_type": "stream",
     "text": [
      "C:\\Users\\Tobi\\.conda\\envs\\env_gcs_py39\\lib\\site-packages\\equilibrator_cache\\reaction.py:616: UserWarning: Cannot calculate Legendre transform for Compound(id=14094, inchi_key=None): Compound(id=14094, inchi_key=None) has not yet been analyzed by ChemAxon.\n",
      "  warnings.warn(\n",
      "C:\\Users\\Tobi\\.conda\\envs\\env_gcs_py39\\lib\\site-packages\\equilibrator_cache\\reaction.py:616: UserWarning: Cannot calculate Legendre transform for Compound(id=74406, inchi_key=None): Compound(id=74406, inchi_key=None) has not yet been analyzed by ChemAxon.\n",
      "  warnings.warn(\n"
     ]
    },
    {
     "name": "stdout",
     "output_type": "stream",
     "text": [
      "Gibbs free energy of EAR140x is not reliable\n",
      "Determination of reaction direction failed\n",
      "-3 1\n",
      "EAR40y\n"
     ]
    },
    {
     "name": "stderr",
     "output_type": "stream",
     "text": [
      "C:\\Users\\Tobi\\.conda\\envs\\env_gcs_py39\\lib\\site-packages\\equilibrator_cache\\reaction.py:616: UserWarning: Cannot calculate Legendre transform for Compound(id=2815, inchi_key=None): Compound(id=2815, inchi_key=None) has not yet been analyzed by ChemAxon.\n",
      "  warnings.warn(\n",
      "C:\\Users\\Tobi\\.conda\\envs\\env_gcs_py39\\lib\\site-packages\\equilibrator_cache\\reaction.py:616: UserWarning: Cannot calculate Legendre transform for Compound(id=74508, inchi_key=None): Compound(id=74508, inchi_key=None) has not yet been analyzed by ChemAxon.\n",
      "  warnings.warn(\n",
      "C:\\Users\\Tobi\\.conda\\envs\\env_gcs_py39\\lib\\site-packages\\equilibrator_cache\\reaction.py:616: UserWarning: Cannot calculate Legendre transform for Compound(id=5751, inchi_key=None): Compound(id=5751, inchi_key=None) has not yet been analyzed by ChemAxon.\n",
      "  warnings.warn(\n",
      "C:\\Users\\Tobi\\.conda\\envs\\env_gcs_py39\\lib\\site-packages\\equilibrator_cache\\reaction.py:616: UserWarning: Cannot calculate Legendre transform for Compound(id=858, inchi_key=None): Compound(id=858, inchi_key=None) has not yet been analyzed by ChemAxon.\n",
      "  warnings.warn(\n",
      "C:\\Users\\Tobi\\.conda\\envs\\env_gcs_py39\\lib\\site-packages\\equilibrator_cache\\reaction.py:616: UserWarning: Cannot calculate Legendre transform for Compound(id=74432, inchi_key=None): Compound(id=74432, inchi_key=None) has not yet been analyzed by ChemAxon.\n",
      "  warnings.warn(\n",
      "C:\\Users\\Tobi\\.conda\\envs\\env_gcs_py39\\lib\\site-packages\\equilibrator_cache\\reaction.py:616: UserWarning: Cannot calculate Legendre transform for Compound(id=174, inchi_key=None): Compound(id=174, inchi_key=None) has not yet been analyzed by ChemAxon.\n",
      "  warnings.warn(\n",
      "C:\\Users\\Tobi\\.conda\\envs\\env_gcs_py39\\lib\\site-packages\\equilibrator_cache\\reaction.py:616: UserWarning: Cannot calculate Legendre transform for Compound(id=74432, inchi_key=None): Compound(id=74432, inchi_key=None) has not yet been analyzed by ChemAxon.\n",
      "  warnings.warn(\n",
      "C:\\Users\\Tobi\\.conda\\envs\\env_gcs_py39\\lib\\site-packages\\equilibrator_cache\\reaction.py:616: UserWarning: Cannot calculate Legendre transform for Compound(id=5074, inchi_key=None): Compound(id=5074, inchi_key=None) has not yet been analyzed by ChemAxon.\n",
      "  warnings.warn(\n",
      "C:\\Users\\Tobi\\.conda\\envs\\env_gcs_py39\\lib\\site-packages\\equilibrator_cache\\reaction.py:616: UserWarning: Cannot calculate Legendre transform for Compound(id=858, inchi_key=None): Compound(id=858, inchi_key=None) has not yet been analyzed by ChemAxon.\n",
      "  warnings.warn(\n",
      "C:\\Users\\Tobi\\.conda\\envs\\env_gcs_py39\\lib\\site-packages\\equilibrator_cache\\reaction.py:616: UserWarning: Cannot calculate Legendre transform for Compound(id=74406, inchi_key=None): Compound(id=74406, inchi_key=None) has not yet been analyzed by ChemAxon.\n",
      "  warnings.warn(\n"
     ]
    },
    {
     "name": "stdout",
     "output_type": "stream",
     "text": [
      "Gibbs free energy of EAR40y is not reliable\n",
      "Determination of reaction direction failed\n",
      "-3 1\n",
      "3OAS181\n",
      "Gibbs free energy of 3OAS181 is not reliable\n",
      "Determination of reaction direction failed\n",
      "-3 1\n",
      "EAR161y\n",
      "Gibbs free energy of EAR161y is not reliable\n",
      "Determination of reaction direction failed\n",
      "-3 1\n",
      "G3PAT140\n",
      "Gibbs free energy of G3PAT140 is not reliable\n",
      "Determination of reaction direction failed\n",
      "-3 1\n",
      "G3PAT160\n"
     ]
    },
    {
     "name": "stderr",
     "output_type": "stream",
     "text": [
      "C:\\Users\\Tobi\\.conda\\envs\\env_gcs_py39\\lib\\site-packages\\equilibrator_cache\\reaction.py:616: UserWarning: Cannot calculate Legendre transform for Compound(id=74530, inchi_key=None): Compound(id=74530, inchi_key=None) has not yet been analyzed by ChemAxon.\n",
      "  warnings.warn(\n",
      "C:\\Users\\Tobi\\.conda\\envs\\env_gcs_py39\\lib\\site-packages\\equilibrator_cache\\reaction.py:616: UserWarning: Cannot calculate Legendre transform for Compound(id=1802, inchi_key=None): Compound(id=1802, inchi_key=None) has not yet been analyzed by ChemAxon.\n",
      "  warnings.warn(\n",
      "C:\\Users\\Tobi\\.conda\\envs\\env_gcs_py39\\lib\\site-packages\\equilibrator_cache\\reaction.py:616: UserWarning: Cannot calculate Legendre transform for Compound(id=858, inchi_key=None): Compound(id=858, inchi_key=None) has not yet been analyzed by ChemAxon.\n",
      "  warnings.warn(\n",
      "C:\\Users\\Tobi\\.conda\\envs\\env_gcs_py39\\lib\\site-packages\\equilibrator_cache\\reaction.py:616: UserWarning: Cannot calculate Legendre transform for Compound(id=74621, inchi_key=None): Compound(id=74621, inchi_key=None) has not yet been analyzed by ChemAxon.\n",
      "  warnings.warn(\n",
      "C:\\Users\\Tobi\\.conda\\envs\\env_gcs_py39\\lib\\site-packages\\equilibrator_cache\\reaction.py:616: UserWarning: Cannot calculate Legendre transform for Compound(id=858, inchi_key=None): Compound(id=858, inchi_key=None) has not yet been analyzed by ChemAxon.\n",
      "  warnings.warn(\n",
      "C:\\Users\\Tobi\\.conda\\envs\\env_gcs_py39\\lib\\site-packages\\equilibrator_cache\\reaction.py:616: UserWarning: Cannot calculate Legendre transform for Compound(id=74432, inchi_key=None): Compound(id=74432, inchi_key=None) has not yet been analyzed by ChemAxon.\n",
      "  warnings.warn(\n",
      "C:\\Users\\Tobi\\.conda\\envs\\env_gcs_py39\\lib\\site-packages\\equilibrator_cache\\reaction.py:616: UserWarning: Cannot calculate Legendre transform for Compound(id=858, inchi_key=None): Compound(id=858, inchi_key=None) has not yet been analyzed by ChemAxon.\n",
      "  warnings.warn(\n",
      "C:\\Users\\Tobi\\.conda\\envs\\env_gcs_py39\\lib\\site-packages\\equilibrator_cache\\reaction.py:616: UserWarning: Cannot calculate Legendre transform for Compound(id=74406, inchi_key=None): Compound(id=74406, inchi_key=None) has not yet been analyzed by ChemAxon.\n",
      "  warnings.warn(\n"
     ]
    },
    {
     "name": "stdout",
     "output_type": "stream",
     "text": [
      "Gibbs free energy of G3PAT160 is not reliable\n",
      "Determination of reaction direction failed\n",
      "-3 1\n",
      "G3PAT161\n",
      "Gibbs free energy of G3PAT161 is not reliable\n",
      "Determination of reaction direction failed\n",
      "-3 1\n",
      "AGPAT140\n",
      "Gibbs free energy of AGPAT140 is not reliable\n",
      "Determination of reaction direction failed\n",
      "-3 1\n",
      "EAR160y\n"
     ]
    },
    {
     "name": "stderr",
     "output_type": "stream",
     "text": [
      "C:\\Users\\Tobi\\.conda\\envs\\env_gcs_py39\\lib\\site-packages\\equilibrator_cache\\reaction.py:616: UserWarning: Cannot calculate Legendre transform for Compound(id=18582, inchi_key=None): Compound(id=18582, inchi_key=None) has not yet been analyzed by ChemAxon.\n",
      "  warnings.warn(\n",
      "C:\\Users\\Tobi\\.conda\\envs\\env_gcs_py39\\lib\\site-packages\\equilibrator_cache\\reaction.py:616: UserWarning: Cannot calculate Legendre transform for Compound(id=1802, inchi_key=None): Compound(id=1802, inchi_key=None) has not yet been analyzed by ChemAxon.\n",
      "  warnings.warn(\n"
     ]
    },
    {
     "name": "stdout",
     "output_type": "stream",
     "text": [
      "Gibbs free energy of EAR160y is not reliable\n",
      "Determination of reaction direction failed\n",
      "-3 1\n",
      "3OAR160\n"
     ]
    },
    {
     "name": "stderr",
     "output_type": "stream",
     "text": [
      "C:\\Users\\Tobi\\.conda\\envs\\env_gcs_py39\\lib\\site-packages\\equilibrator_cache\\reaction.py:616: UserWarning: Cannot calculate Legendre transform for Compound(id=2281, inchi_key=None): Compound(id=2281, inchi_key=None) has not yet been analyzed by ChemAxon.\n",
      "  warnings.warn(\n",
      "C:\\Users\\Tobi\\.conda\\envs\\env_gcs_py39\\lib\\site-packages\\equilibrator_cache\\reaction.py:616: UserWarning: Cannot calculate Legendre transform for Compound(id=3763, inchi_key=None): Compound(id=3763, inchi_key=None) has not yet been analyzed by ChemAxon.\n",
      "  warnings.warn(\n"
     ]
    },
    {
     "name": "stdout",
     "output_type": "stream",
     "text": [
      "Gibbs free energy of 3OAR160 is not reliable\n",
      "Determination of reaction direction failed\n",
      "-3 0\n",
      "PDE4\n",
      "1 1\n",
      "3HAD181\n",
      "Gibbs free energy of 3HAD181 is not reliable\n",
      "Determination of reaction direction failed\n",
      "-3 1\n",
      "EAR100y\n",
      "Gibbs free energy of EAR100y is not reliable\n",
      "Determination of reaction direction failed\n",
      "-3 1\n",
      "3OAR141\n"
     ]
    },
    {
     "name": "stderr",
     "output_type": "stream",
     "text": [
      "C:\\Users\\Tobi\\.conda\\envs\\env_gcs_py39\\lib\\site-packages\\equilibrator_cache\\reaction.py:616: UserWarning: Cannot calculate Legendre transform for Compound(id=5515, inchi_key=None): Compound(id=5515, inchi_key=None) has not yet been analyzed by ChemAxon.\n",
      "  warnings.warn(\n",
      "C:\\Users\\Tobi\\.conda\\envs\\env_gcs_py39\\lib\\site-packages\\equilibrator_cache\\reaction.py:616: UserWarning: Cannot calculate Legendre transform for Compound(id=5071, inchi_key=None): Compound(id=5071, inchi_key=None) has not yet been analyzed by ChemAxon.\n",
      "  warnings.warn(\n",
      "C:\\Users\\Tobi\\.conda\\envs\\env_gcs_py39\\lib\\site-packages\\equilibrator_cache\\reaction.py:616: UserWarning: Cannot calculate Legendre transform for Compound(id=74471, inchi_key=None): Compound(id=74471, inchi_key=None) has not yet been analyzed by ChemAxon.\n",
      "  warnings.warn(\n",
      "C:\\Users\\Tobi\\.conda\\envs\\env_gcs_py39\\lib\\site-packages\\equilibrator_cache\\reaction.py:616: UserWarning: Cannot calculate Legendre transform for Compound(id=17777, inchi_key=None): Compound(id=17777, inchi_key=None) has not yet been analyzed by ChemAxon.\n",
      "  warnings.warn(\n",
      "C:\\Users\\Tobi\\.conda\\envs\\env_gcs_py39\\lib\\site-packages\\equilibrator_cache\\reaction.py:616: UserWarning: Cannot calculate Legendre transform for Compound(id=4637, inchi_key=None): Compound(id=4637, inchi_key=None) has not yet been analyzed by ChemAxon.\n",
      "  warnings.warn(\n",
      "C:\\Users\\Tobi\\.conda\\envs\\env_gcs_py39\\lib\\site-packages\\equilibrator_cache\\reaction.py:616: UserWarning: Cannot calculate Legendre transform for Compound(id=5749, inchi_key=None): Compound(id=5749, inchi_key=None) has not yet been analyzed by ChemAxon.\n",
      "  warnings.warn(\n",
      "C:\\Users\\Tobi\\.conda\\envs\\env_gcs_py39\\lib\\site-packages\\equilibrator_cache\\reaction.py:616: UserWarning: Cannot calculate Legendre transform for Compound(id=5514, inchi_key=None): Compound(id=5514, inchi_key=None) has not yet been analyzed by ChemAxon.\n",
      "  warnings.warn(\n",
      "C:\\Users\\Tobi\\.conda\\envs\\env_gcs_py39\\lib\\site-packages\\equilibrator_cache\\reaction.py:616: UserWarning: Cannot calculate Legendre transform for Compound(id=5750, inchi_key=None): Compound(id=5750, inchi_key=None) has not yet been analyzed by ChemAxon.\n",
      "  warnings.warn(\n",
      "C:\\Users\\Tobi\\.conda\\envs\\env_gcs_py39\\lib\\site-packages\\equilibrator_cache\\reaction.py:616: UserWarning: Cannot calculate Legendre transform for Compound(id=4637, inchi_key=None): Compound(id=4637, inchi_key=None) has not yet been analyzed by ChemAxon.\n",
      "  warnings.warn(\n",
      "C:\\Users\\Tobi\\.conda\\envs\\env_gcs_py39\\lib\\site-packages\\equilibrator_cache\\reaction.py:616: UserWarning: Cannot calculate Legendre transform for Compound(id=5073, inchi_key=None): Compound(id=5073, inchi_key=None) has not yet been analyzed by ChemAxon.\n",
      "  warnings.warn(\n",
      "C:\\Users\\Tobi\\.conda\\envs\\env_gcs_py39\\lib\\site-packages\\equilibrator_cache\\reaction.py:616: UserWarning: Cannot calculate Legendre transform for Compound(id=133300, inchi_key=None): Compound(id=133300, inchi_key=None) has not yet been analyzed by ChemAxon.\n",
      "  warnings.warn(\n",
      "C:\\Users\\Tobi\\.conda\\envs\\env_gcs_py39\\lib\\site-packages\\equilibrator_cache\\reaction.py:616: UserWarning: Cannot calculate Legendre transform for Compound(id=5072, inchi_key=None): Compound(id=5072, inchi_key=None) has not yet been analyzed by ChemAxon.\n",
      "  warnings.warn(\n"
     ]
    },
    {
     "name": "stdout",
     "output_type": "stream",
     "text": [
      "Gibbs free energy of 3OAR141 is not reliable\n",
      "Determination of reaction direction failed\n",
      "-3 1\n",
      "3OAR161\n",
      "Gibbs free energy of 3OAR161 is not reliable\n",
      "Determination of reaction direction failed\n",
      "-3 1\n",
      "3HAD141\n",
      "Gibbs free energy of 3HAD141 is not reliable\n",
      "Determination of reaction direction failed\n",
      "-3 1\n",
      "EAR121x\n",
      "Gibbs free energy of EAR121x is not reliable\n",
      "Determination of reaction direction failed\n",
      "-3 1\n",
      "PSD140\n"
     ]
    },
    {
     "name": "stderr",
     "output_type": "stream",
     "text": [
      "C:\\Users\\Tobi\\.conda\\envs\\env_gcs_py39\\lib\\site-packages\\equilibrator_cache\\reaction.py:616: UserWarning: Cannot calculate Legendre transform for Compound(id=6345, inchi_key=None): Compound(id=6345, inchi_key=None) has not yet been analyzed by ChemAxon.\n",
      "  warnings.warn(\n",
      "C:\\Users\\Tobi\\.conda\\envs\\env_gcs_py39\\lib\\site-packages\\equilibrator_cache\\reaction.py:616: UserWarning: Cannot calculate Legendre transform for Compound(id=2519, inchi_key=None): Compound(id=2519, inchi_key=None) has not yet been analyzed by ChemAxon.\n",
      "  warnings.warn(\n",
      "C:\\Users\\Tobi\\.conda\\envs\\env_gcs_py39\\lib\\site-packages\\equilibrator_cache\\reaction.py:616: UserWarning: Cannot calculate Legendre transform for Compound(id=48324, inchi_key=None): Compound(id=48324, inchi_key=None) has not yet been analyzed by ChemAxon.\n",
      "  warnings.warn(\n"
     ]
    },
    {
     "name": "stdout",
     "output_type": "stream",
     "text": [
      "Gibbs free energy of PSD140 is not reliable\n",
      "Determination of reaction direction failed\n",
      "-3 1\n",
      "MICITDr\n",
      "Gibbs free energy of MICITDr is not reliable\n",
      "Determination of reaction direction failed\n",
      "-3 0\n",
      "NTP12\n",
      "1 1\n",
      "LPLIPAL1A141pp\n",
      "Gibbs free energy of LPLIPAL1A141pp is not reliable\n",
      "Determination of reaction direction failed\n",
      "-3 1\n",
      "LPLIPAL1A180pp\n"
     ]
    },
    {
     "name": "stderr",
     "output_type": "stream",
     "text": [
      "C:\\Users\\Tobi\\.conda\\envs\\env_gcs_py39\\lib\\site-packages\\equilibrator_cache\\reaction.py:616: UserWarning: Cannot calculate Legendre transform for Compound(id=74623, inchi_key=None): Compound(id=74623, inchi_key=None) has not yet been analyzed by ChemAxon.\n",
      "  warnings.warn(\n",
      "C:\\Users\\Tobi\\.conda\\envs\\env_gcs_py39\\lib\\site-packages\\equilibrator_cache\\reaction.py:616: UserWarning: Cannot calculate Legendre transform for Compound(id=609, inchi_key=None): Compound(id=609, inchi_key=None) has not yet been analyzed by ChemAxon.\n",
      "  warnings.warn(\n"
     ]
    },
    {
     "name": "stdout",
     "output_type": "stream",
     "text": [
      "1 1\n",
      "LPLIPAL1E140pp\n",
      "Gibbs free energy of LPLIPAL1E140pp is not reliable\n",
      "Determination of reaction direction failed\n",
      "-3 1\n",
      "LPLIPAL1E161pp\n"
     ]
    },
    {
     "name": "stderr",
     "output_type": "stream",
     "text": [
      "C:\\Users\\Tobi\\.conda\\envs\\env_gcs_py39\\lib\\site-packages\\equilibrator_cache\\reaction.py:616: UserWarning: Cannot calculate Legendre transform for Compound(id=131783, inchi_key=None): Compound(id=131783, inchi_key=None) has not yet been analyzed by ChemAxon.\n",
      "  warnings.warn(\n",
      "C:\\Users\\Tobi\\.conda\\envs\\env_gcs_py39\\lib\\site-packages\\equilibrator_cache\\reaction.py:616: UserWarning: Cannot calculate Legendre transform for Compound(id=5553, inchi_key=None): Compound(id=5553, inchi_key=None) has not yet been analyzed by ChemAxon.\n",
      "  warnings.warn(\n",
      "C:\\Users\\Tobi\\.conda\\envs\\env_gcs_py39\\lib\\site-packages\\equilibrator_cache\\reaction.py:616: UserWarning: Cannot calculate Legendre transform for Compound(id=879, inchi_key=None): Compound(id=879, inchi_key=None) has not yet been analyzed by ChemAxon.\n",
      "  warnings.warn(\n",
      "C:\\Users\\Tobi\\.conda\\envs\\env_gcs_py39\\lib\\site-packages\\equilibrator_cache\\reaction.py:616: UserWarning: Cannot calculate Legendre transform for Compound(id=131783, inchi_key=None): Compound(id=131783, inchi_key=None) has not yet been analyzed by ChemAxon.\n",
      "  warnings.warn(\n"
     ]
    },
    {
     "name": "stdout",
     "output_type": "stream",
     "text": [
      "Gibbs free energy of LPLIPAL1E161pp is not reliable\n",
      "Determination of reaction direction failed\n",
      "-3 1\n",
      "LPLIPAL1G140pp\n",
      "Gibbs free energy of LPLIPAL1G140pp is not reliable\n",
      "Determination of reaction direction failed\n",
      "-3 1\n",
      "PSD141\n"
     ]
    },
    {
     "name": "stderr",
     "output_type": "stream",
     "text": [
      "C:\\Users\\Tobi\\.conda\\envs\\env_gcs_py39\\lib\\site-packages\\equilibrator_cache\\reaction.py:616: UserWarning: Cannot calculate Legendre transform for Compound(id=6344, inchi_key=None): Compound(id=6344, inchi_key=None) has not yet been analyzed by ChemAxon.\n",
      "  warnings.warn(\n",
      "C:\\Users\\Tobi\\.conda\\envs\\env_gcs_py39\\lib\\site-packages\\equilibrator_cache\\reaction.py:616: UserWarning: Cannot calculate Legendre transform for Compound(id=3201, inchi_key=None): Compound(id=3201, inchi_key=None) has not yet been analyzed by ChemAxon.\n",
      "  warnings.warn(\n",
      "C:\\Users\\Tobi\\.conda\\envs\\env_gcs_py39\\lib\\site-packages\\equilibrator_cache\\reaction.py:616: UserWarning: Cannot calculate Legendre transform for Compound(id=74529, inchi_key=None): Compound(id=74529, inchi_key=None) has not yet been analyzed by ChemAxon.\n",
      "  warnings.warn(\n",
      "C:\\Users\\Tobi\\.conda\\envs\\env_gcs_py39\\lib\\site-packages\\equilibrator_cache\\reaction.py:616: UserWarning: Cannot calculate Legendre transform for Compound(id=4540, inchi_key=None): Compound(id=4540, inchi_key=None) has not yet been analyzed by ChemAxon.\n",
      "  warnings.warn(\n",
      "C:\\Users\\Tobi\\.conda\\envs\\env_gcs_py39\\lib\\site-packages\\equilibrator_cache\\reaction.py:616: UserWarning: Cannot calculate Legendre transform for Compound(id=1593, inchi_key=None): Compound(id=1593, inchi_key=None) has not yet been analyzed by ChemAxon.\n",
      "  warnings.warn(\n",
      "C:\\Users\\Tobi\\.conda\\envs\\env_gcs_py39\\lib\\site-packages\\equilibrator_cache\\reaction.py:616: UserWarning: Cannot calculate Legendre transform for Compound(id=4543, inchi_key=None): Compound(id=4543, inchi_key=None) has not yet been analyzed by ChemAxon.\n",
      "  warnings.warn(\n",
      "C:\\Users\\Tobi\\.conda\\envs\\env_gcs_py39\\lib\\site-packages\\equilibrator_cache\\reaction.py:616: UserWarning: Cannot calculate Legendre transform for Compound(id=4542, inchi_key=None): Compound(id=4542, inchi_key=None) has not yet been analyzed by ChemAxon.\n",
      "  warnings.warn(\n",
      "C:\\Users\\Tobi\\.conda\\envs\\env_gcs_py39\\lib\\site-packages\\equilibrator_cache\\reaction.py:616: UserWarning: Cannot calculate Legendre transform for Compound(id=1805, inchi_key=None): Compound(id=1805, inchi_key=None) has not yet been analyzed by ChemAxon.\n",
      "  warnings.warn(\n",
      "C:\\Users\\Tobi\\.conda\\envs\\env_gcs_py39\\lib\\site-packages\\equilibrator_cache\\reaction.py:616: UserWarning: Cannot calculate Legendre transform for Compound(id=858, inchi_key=None): Compound(id=858, inchi_key=None) has not yet been analyzed by ChemAxon.\n",
      "  warnings.warn(\n",
      "C:\\Users\\Tobi\\.conda\\envs\\env_gcs_py39\\lib\\site-packages\\equilibrator_cache\\reaction.py:616: UserWarning: Cannot calculate Legendre transform for Compound(id=2695, inchi_key=None): Compound(id=2695, inchi_key=None) has not yet been analyzed by ChemAxon.\n",
      "  warnings.warn(\n",
      "C:\\Users\\Tobi\\.conda\\envs\\env_gcs_py39\\lib\\site-packages\\equilibrator_cache\\reaction.py:616: UserWarning: Cannot calculate Legendre transform for Compound(id=3001, inchi_key=None): Compound(id=3001, inchi_key=None) has not yet been analyzed by ChemAxon.\n",
      "  warnings.warn(\n",
      "C:\\Users\\Tobi\\.conda\\envs\\env_gcs_py39\\lib\\site-packages\\equilibrator_cache\\reaction.py:616: UserWarning: Cannot calculate Legendre transform for Compound(id=1805, inchi_key=None): Compound(id=1805, inchi_key=None) has not yet been analyzed by ChemAxon.\n",
      "  warnings.warn(\n",
      "C:\\Users\\Tobi\\.conda\\envs\\env_gcs_py39\\lib\\site-packages\\equilibrator_cache\\reaction.py:616: UserWarning: Cannot calculate Legendre transform for Compound(id=609, inchi_key=None): Compound(id=609, inchi_key=None) has not yet been analyzed by ChemAxon.\n",
      "  warnings.warn(\n"
     ]
    },
    {
     "name": "stdout",
     "output_type": "stream",
     "text": [
      "Gibbs free energy of PSD141 is not reliable\n",
      "Determination of reaction direction failed\n",
      "-3 1\n",
      "AM4PA\n",
      "Gibbs free energy of AM4PA is not reliable\n",
      "Determination of reaction direction failed\n",
      "-3 1\n",
      "PGPP120pp\n",
      "Gibbs free energy of PGPP120pp is not reliable\n",
      "Determination of reaction direction failed\n",
      "-3 1\n",
      "PGPP140\n",
      "Gibbs free energy of PGPP140 is not reliable\n",
      "Determination of reaction direction failed\n",
      "-3 1\n",
      "PGPP141\n",
      "Gibbs free energy of PGPP141 is not reliable\n",
      "Determination of reaction direction failed\n",
      "-3 1\n",
      "G3PAT180\n",
      "Gibbs free energy of G3PAT180 is not reliable\n",
      "Determination of reaction direction failed\n",
      "-3 1\n",
      "PLIPA1G141pp\n",
      "Gibbs free energy of PLIPA1G141pp is not reliable\n",
      "Determination of reaction direction failed\n",
      "-3 1\n",
      "LPLIPAL2E160\n",
      "1 1\n",
      "LPLIPAL2G140\n",
      "Gibbs free energy of LPLIPAL2G140 is not reliable\n",
      "Determination of reaction direction failed\n",
      "-3 1\n",
      "LPLIPAL2G160\n"
     ]
    },
    {
     "name": "stderr",
     "output_type": "stream",
     "text": [
      "C:\\Users\\Tobi\\.conda\\envs\\env_gcs_py39\\lib\\site-packages\\equilibrator_cache\\reaction.py:616: UserWarning: Cannot calculate Legendre transform for Compound(id=131783, inchi_key=None): Compound(id=131783, inchi_key=None) has not yet been analyzed by ChemAxon.\n",
      "  warnings.warn(\n"
     ]
    },
    {
     "name": "stdout",
     "output_type": "stream",
     "text": [
      "1 1\n",
      "PAPA160\n",
      "Gibbs free energy of PAPA160 is not reliable\n",
      "Determination of reaction direction failed\n",
      "-3 1\n",
      "LPLIPAL2G120\n",
      "Gibbs free energy of LPLIPAL2G120 is not reliable\n",
      "Determination of reaction direction failed\n",
      "-3 1\n",
      "DAGK140\n",
      "Gibbs free energy of DAGK140 is not reliable\n",
      "Determination of reaction direction failed\n",
      "-3 1\n",
      "DAGK160\n",
      "Gibbs free energy of DAGK160 is not reliable\n",
      "Determination of reaction direction failed\n",
      "-3 1\n",
      "DAGK141\n",
      "Gibbs free energy of DAGK141 is not reliable\n",
      "Determination of reaction direction failed\n",
      "-3 1\n",
      "DAGK161\n",
      "Gibbs free energy of DAGK161 is not reliable\n",
      "Determination of reaction direction failed\n",
      "-3 1\n",
      "PAPA140\n",
      "Gibbs free energy of PAPA140 is not reliable\n",
      "Determination of reaction direction failed\n",
      "-3 1\n",
      "3HAD40\n"
     ]
    },
    {
     "name": "stderr",
     "output_type": "stream",
     "text": [
      "C:\\Users\\Tobi\\.conda\\envs\\env_gcs_py39\\lib\\site-packages\\equilibrator_cache\\reaction.py:616: UserWarning: Cannot calculate Legendre transform for Compound(id=2735, inchi_key=None): Compound(id=2735, inchi_key=None) has not yet been analyzed by ChemAxon.\n",
      "  warnings.warn(\n",
      "C:\\Users\\Tobi\\.conda\\envs\\env_gcs_py39\\lib\\site-packages\\equilibrator_cache\\reaction.py:616: UserWarning: Cannot calculate Legendre transform for Compound(id=3000, inchi_key=None): Compound(id=3000, inchi_key=None) has not yet been analyzed by ChemAxon.\n",
      "  warnings.warn(\n",
      "C:\\Users\\Tobi\\.conda\\envs\\env_gcs_py39\\lib\\site-packages\\equilibrator_cache\\reaction.py:616: UserWarning: Cannot calculate Legendre transform for Compound(id=131802, inchi_key=None): Compound(id=131802, inchi_key=None) has not yet been analyzed by ChemAxon.\n",
      "  warnings.warn(\n",
      "C:\\Users\\Tobi\\.conda\\envs\\env_gcs_py39\\lib\\site-packages\\equilibrator_cache\\reaction.py:616: UserWarning: Cannot calculate Legendre transform for Compound(id=117236, inchi_key=None): Compound(id=117236, inchi_key=None) has not yet been analyzed by ChemAxon.\n",
      "  warnings.warn(\n",
      "C:\\Users\\Tobi\\.conda\\envs\\env_gcs_py39\\lib\\site-packages\\equilibrator_cache\\reaction.py:616: UserWarning: Cannot calculate Legendre transform for Compound(id=2735, inchi_key=None): Compound(id=2735, inchi_key=None) has not yet been analyzed by ChemAxon.\n",
      "  warnings.warn(\n",
      "C:\\Users\\Tobi\\.conda\\envs\\env_gcs_py39\\lib\\site-packages\\equilibrator_cache\\reaction.py:616: UserWarning: Cannot calculate Legendre transform for Compound(id=4283, inchi_key=None): Compound(id=4283, inchi_key=None) has not yet been analyzed by ChemAxon.\n",
      "  warnings.warn(\n",
      "C:\\Users\\Tobi\\.conda\\envs\\env_gcs_py39\\lib\\site-packages\\equilibrator_cache\\reaction.py:616: UserWarning: Cannot calculate Legendre transform for Compound(id=74516, inchi_key=None): Compound(id=74516, inchi_key=None) has not yet been analyzed by ChemAxon.\n",
      "  warnings.warn(\n",
      "C:\\Users\\Tobi\\.conda\\envs\\env_gcs_py39\\lib\\site-packages\\equilibrator_cache\\reaction.py:616: UserWarning: Cannot calculate Legendre transform for Compound(id=3260, inchi_key=None): Compound(id=3260, inchi_key=None) has not yet been analyzed by ChemAxon.\n",
      "  warnings.warn(\n",
      "C:\\Users\\Tobi\\.conda\\envs\\env_gcs_py39\\lib\\site-packages\\equilibrator_cache\\reaction.py:616: UserWarning: Cannot calculate Legendre transform for Compound(id=74514, inchi_key=None): Compound(id=74514, inchi_key=None) has not yet been analyzed by ChemAxon.\n",
      "  warnings.warn(\n",
      "C:\\Users\\Tobi\\.conda\\envs\\env_gcs_py39\\lib\\site-packages\\equilibrator_cache\\reaction.py:616: UserWarning: Cannot calculate Legendre transform for Compound(id=117236, inchi_key=None): Compound(id=117236, inchi_key=None) has not yet been analyzed by ChemAxon.\n",
      "  warnings.warn(\n",
      "C:\\Users\\Tobi\\.conda\\envs\\env_gcs_py39\\lib\\site-packages\\equilibrator_cache\\reaction.py:616: UserWarning: Cannot calculate Legendre transform for Compound(id=4999, inchi_key=None): Compound(id=4999, inchi_key=None) has not yet been analyzed by ChemAxon.\n",
      "  warnings.warn(\n",
      "C:\\Users\\Tobi\\.conda\\envs\\env_gcs_py39\\lib\\site-packages\\equilibrator_cache\\reaction.py:616: UserWarning: Cannot calculate Legendre transform for Compound(id=2815, inchi_key=None): Compound(id=2815, inchi_key=None) has not yet been analyzed by ChemAxon.\n",
      "  warnings.warn(\n",
      "C:\\Users\\Tobi\\.conda\\envs\\env_gcs_py39\\lib\\site-packages\\equilibrator_cache\\reaction.py:616: UserWarning: Cannot calculate Legendre transform for Compound(id=2997, inchi_key=None): Compound(id=2997, inchi_key=None) has not yet been analyzed by ChemAxon.\n",
      "  warnings.warn(\n",
      "C:\\Users\\Tobi\\.conda\\envs\\env_gcs_py39\\lib\\site-packages\\equilibrator_cache\\reaction.py:616: UserWarning: Cannot calculate Legendre transform for Compound(id=3201, inchi_key=None): Compound(id=3201, inchi_key=None) has not yet been analyzed by ChemAxon.\n",
      "  warnings.warn(\n",
      "C:\\Users\\Tobi\\.conda\\envs\\env_gcs_py39\\lib\\site-packages\\equilibrator_cache\\reaction.py:616: UserWarning: Cannot calculate Legendre transform for Compound(id=609, inchi_key=None): Compound(id=609, inchi_key=None) has not yet been analyzed by ChemAxon.\n",
      "  warnings.warn(\n"
     ]
    },
    {
     "name": "stdout",
     "output_type": "stream",
     "text": [
      "Gibbs free energy of 3HAD40 is not reliable\n",
      "Determination of reaction direction failed\n",
      "-3 1\n",
      "PLIPA1E141pp\n",
      "Gibbs free energy of PLIPA1E141pp is not reliable\n",
      "Determination of reaction direction failed\n",
      "-3 1\n",
      "3OAS60\n"
     ]
    },
    {
     "name": "stderr",
     "output_type": "stream",
     "text": [
      "C:\\Users\\Tobi\\.conda\\envs\\env_gcs_py39\\lib\\site-packages\\equilibrator_cache\\reaction.py:616: UserWarning: Cannot calculate Legendre transform for Compound(id=15323, inchi_key=None): Compound(id=15323, inchi_key=None) has not yet been analyzed by ChemAxon.\n",
      "  warnings.warn(\n",
      "C:\\Users\\Tobi\\.conda\\envs\\env_gcs_py39\\lib\\site-packages\\equilibrator_cache\\reaction.py:616: UserWarning: Cannot calculate Legendre transform for Compound(id=858, inchi_key=None): Compound(id=858, inchi_key=None) has not yet been analyzed by ChemAxon.\n",
      "  warnings.warn(\n",
      "C:\\Users\\Tobi\\.conda\\envs\\env_gcs_py39\\lib\\site-packages\\equilibrator_cache\\reaction.py:616: UserWarning: Cannot calculate Legendre transform for Compound(id=74508, inchi_key=None): Compound(id=74508, inchi_key=None) has not yet been analyzed by ChemAxon.\n",
      "  warnings.warn(\n",
      "C:\\Users\\Tobi\\.conda\\envs\\env_gcs_py39\\lib\\site-packages\\equilibrator_cache\\reaction.py:616: UserWarning: Cannot calculate Legendre transform for Compound(id=174, inchi_key=None): Compound(id=174, inchi_key=None) has not yet been analyzed by ChemAxon.\n",
      "  warnings.warn(\n",
      "C:\\Users\\Tobi\\.conda\\envs\\env_gcs_py39\\lib\\site-packages\\equilibrator_cache\\reaction.py:616: UserWarning: Cannot calculate Legendre transform for Compound(id=3763, inchi_key=None): Compound(id=3763, inchi_key=None) has not yet been analyzed by ChemAxon.\n",
      "  warnings.warn(\n",
      "C:\\Users\\Tobi\\.conda\\envs\\env_gcs_py39\\lib\\site-packages\\equilibrator_cache\\reaction.py:616: UserWarning: Cannot calculate Legendre transform for Compound(id=858, inchi_key=None): Compound(id=858, inchi_key=None) has not yet been analyzed by ChemAxon.\n",
      "  warnings.warn(\n",
      "C:\\Users\\Tobi\\.conda\\envs\\env_gcs_py39\\lib\\site-packages\\equilibrator_cache\\reaction.py:616: UserWarning: Cannot calculate Legendre transform for Compound(id=174, inchi_key=None): Compound(id=174, inchi_key=None) has not yet been analyzed by ChemAxon.\n",
      "  warnings.warn(\n",
      "C:\\Users\\Tobi\\.conda\\envs\\env_gcs_py39\\lib\\site-packages\\equilibrator_cache\\reaction.py:616: UserWarning: Cannot calculate Legendre transform for Compound(id=74406, inchi_key=None): Compound(id=74406, inchi_key=None) has not yet been analyzed by ChemAxon.\n",
      "  warnings.warn(\n",
      "C:\\Users\\Tobi\\.conda\\envs\\env_gcs_py39\\lib\\site-packages\\equilibrator_cache\\reaction.py:616: UserWarning: Cannot calculate Legendre transform for Compound(id=4283, inchi_key=None): Compound(id=4283, inchi_key=None) has not yet been analyzed by ChemAxon.\n",
      "  warnings.warn(\n",
      "C:\\Users\\Tobi\\.conda\\envs\\env_gcs_py39\\lib\\site-packages\\equilibrator_cache\\reaction.py:616: UserWarning: Cannot calculate Legendre transform for Compound(id=74516, inchi_key=None): Compound(id=74516, inchi_key=None) has not yet been analyzed by ChemAxon.\n",
      "  warnings.warn(\n",
      "C:\\Users\\Tobi\\.conda\\envs\\env_gcs_py39\\lib\\site-packages\\equilibrator_cache\\reaction.py:616: UserWarning: Cannot calculate Legendre transform for Compound(id=3260, inchi_key=None): Compound(id=3260, inchi_key=None) has not yet been analyzed by ChemAxon.\n",
      "  warnings.warn(\n",
      "C:\\Users\\Tobi\\.conda\\envs\\env_gcs_py39\\lib\\site-packages\\equilibrator_cache\\reaction.py:616: UserWarning: Cannot calculate Legendre transform for Compound(id=74514, inchi_key=None): Compound(id=74514, inchi_key=None) has not yet been analyzed by ChemAxon.\n",
      "  warnings.warn(\n"
     ]
    },
    {
     "name": "stdout",
     "output_type": "stream",
     "text": [
      "Gibbs free energy of 3OAS60 is not reliable\n",
      "Determination of reaction direction failed\n",
      "-3 1\n",
      "3OAS160\n",
      "Gibbs free energy of 3OAS160 is not reliable\n",
      "Determination of reaction direction failed\n",
      "-3 1\n",
      "PAPA141\n",
      "Gibbs free energy of PAPA141 is not reliable\n",
      "Determination of reaction direction failed\n",
      "-3 1\n",
      "PAPA161\n",
      "Gibbs free energy of PAPA161 is not reliable\n",
      "Determination of reaction direction failed\n",
      "-3 1\n",
      "DSBDR\n"
     ]
    },
    {
     "name": "stderr",
     "output_type": "stream",
     "text": [
      "C:\\Users\\Tobi\\.conda\\envs\\env_gcs_py39\\lib\\site-packages\\equilibrator_cache\\reaction.py:616: UserWarning: Cannot calculate Legendre transform for Compound(id=75413, inchi_key=None): Compound(id=75413, inchi_key=None) has not yet been analyzed by ChemAxon.\n",
      "  warnings.warn(\n",
      "C:\\Users\\Tobi\\.conda\\envs\\env_gcs_py39\\lib\\site-packages\\equilibrator_cache\\reaction.py:616: UserWarning: Cannot calculate Legendre transform for Compound(id=6996, inchi_key=None): Compound(id=6996, inchi_key=None) has not yet been analyzed by ChemAxon.\n",
      "  warnings.warn(\n",
      "C:\\Users\\Tobi\\.conda\\envs\\env_gcs_py39\\lib\\site-packages\\equilibrator_cache\\reaction.py:616: UserWarning: Cannot calculate Legendre transform for Compound(id=131802, inchi_key=None): Compound(id=131802, inchi_key=None) has not yet been analyzed by ChemAxon.\n",
      "  warnings.warn(\n",
      "C:\\Users\\Tobi\\.conda\\envs\\env_gcs_py39\\lib\\site-packages\\equilibrator_cache\\reaction.py:616: UserWarning: Cannot calculate Legendre transform for Compound(id=74513, inchi_key=None): Compound(id=74513, inchi_key=None) has not yet been analyzed by ChemAxon.\n",
      "  warnings.warn(\n",
      "C:\\Users\\Tobi\\.conda\\envs\\env_gcs_py39\\lib\\site-packages\\equilibrator_cache\\reaction.py:616: UserWarning: Cannot calculate Legendre transform for Compound(id=74530, inchi_key=None): Compound(id=74530, inchi_key=None) has not yet been analyzed by ChemAxon.\n",
      "  warnings.warn(\n"
     ]
    },
    {
     "name": "stdout",
     "output_type": "stream",
     "text": [
      "Gibbs free energy of DSBDR is not reliable\n",
      "Determination of reaction direction failed\n",
      "-3 1\n",
      "PLIPA2A120pp\n",
      "Gibbs free energy of PLIPA2A120pp is not reliable\n",
      "Determination of reaction direction failed\n",
      "-3 1\n",
      "PLIPA2A160pp\n",
      "Gibbs free energy of PLIPA2A160pp is not reliable\n",
      "Determination of reaction direction failed\n",
      "-3 1\n",
      "3OAR60\n"
     ]
    },
    {
     "name": "stderr",
     "output_type": "stream",
     "text": [
      "C:\\Users\\Tobi\\.conda\\envs\\env_gcs_py39\\lib\\site-packages\\equilibrator_cache\\reaction.py:616: UserWarning: Cannot calculate Legendre transform for Compound(id=15102, inchi_key=None): Compound(id=15102, inchi_key=None) has not yet been analyzed by ChemAxon.\n",
      "  warnings.warn(\n",
      "C:\\Users\\Tobi\\.conda\\envs\\env_gcs_py39\\lib\\site-packages\\equilibrator_cache\\reaction.py:616: UserWarning: Cannot calculate Legendre transform for Compound(id=15323, inchi_key=None): Compound(id=15323, inchi_key=None) has not yet been analyzed by ChemAxon.\n",
      "  warnings.warn(\n"
     ]
    },
    {
     "name": "stdout",
     "output_type": "stream",
     "text": [
      "Gibbs free energy of 3OAR60 is not reliable\n",
      "Determination of reaction direction failed\n",
      "-3 0\n",
      "3OAR80\n"
     ]
    },
    {
     "name": "stderr",
     "output_type": "stream",
     "text": [
      "C:\\Users\\Tobi\\.conda\\envs\\env_gcs_py39\\lib\\site-packages\\equilibrator_cache\\reaction.py:616: UserWarning: Cannot calculate Legendre transform for Compound(id=17592, inchi_key=None): Compound(id=17592, inchi_key=None) has not yet been analyzed by ChemAxon.\n",
      "  warnings.warn(\n",
      "C:\\Users\\Tobi\\.conda\\envs\\env_gcs_py39\\lib\\site-packages\\equilibrator_cache\\reaction.py:616: UserWarning: Cannot calculate Legendre transform for Compound(id=7997, inchi_key=None): Compound(id=7997, inchi_key=None) has not yet been analyzed by ChemAxon.\n",
      "  warnings.warn(\n",
      "C:\\Users\\Tobi\\.conda\\envs\\env_gcs_py39\\lib\\site-packages\\equilibrator_cache\\reaction.py:616: UserWarning: Cannot calculate Legendre transform for Compound(id=131802, inchi_key=None): Compound(id=131802, inchi_key=None) has not yet been analyzed by ChemAxon.\n",
      "  warnings.warn(\n",
      "C:\\Users\\Tobi\\.conda\\envs\\env_gcs_py39\\lib\\site-packages\\equilibrator_cache\\reaction.py:616: UserWarning: Cannot calculate Legendre transform for Compound(id=74471, inchi_key=None): Compound(id=74471, inchi_key=None) has not yet been analyzed by ChemAxon.\n",
      "  warnings.warn(\n",
      "C:\\Users\\Tobi\\.conda\\envs\\env_gcs_py39\\lib\\site-packages\\equilibrator_cache\\reaction.py:616: UserWarning: Cannot calculate Legendre transform for Compound(id=17777, inchi_key=None): Compound(id=17777, inchi_key=None) has not yet been analyzed by ChemAxon.\n",
      "  warnings.warn(\n",
      "C:\\Users\\Tobi\\.conda\\envs\\env_gcs_py39\\lib\\site-packages\\equilibrator_cache\\reaction.py:616: UserWarning: Cannot calculate Legendre transform for Compound(id=74420, inchi_key=None): Compound(id=74420, inchi_key=None) has not yet been analyzed by ChemAxon.\n",
      "  warnings.warn(\n",
      "C:\\Users\\Tobi\\.conda\\envs\\env_gcs_py39\\lib\\site-packages\\equilibrator_cache\\reaction.py:616: UserWarning: Cannot calculate Legendre transform for Compound(id=13665, inchi_key=None): Compound(id=13665, inchi_key=None) has not yet been analyzed by ChemAxon.\n",
      "  warnings.warn(\n",
      "C:\\Users\\Tobi\\.conda\\envs\\env_gcs_py39\\lib\\site-packages\\equilibrator_cache\\reaction.py:616: UserWarning: Cannot calculate Legendre transform for Compound(id=1802, inchi_key=None): Compound(id=1802, inchi_key=None) has not yet been analyzed by ChemAxon.\n",
      "  warnings.warn(\n",
      "C:\\Users\\Tobi\\.conda\\envs\\env_gcs_py39\\lib\\site-packages\\equilibrator_cache\\reaction.py:616: UserWarning: Cannot calculate Legendre transform for Compound(id=18582, inchi_key=None): Compound(id=18582, inchi_key=None) has not yet been analyzed by ChemAxon.\n",
      "  warnings.warn(\n",
      "C:\\Users\\Tobi\\.conda\\envs\\env_gcs_py39\\lib\\site-packages\\equilibrator_cache\\reaction.py:616: UserWarning: Cannot calculate Legendre transform for Compound(id=74406, inchi_key=None): Compound(id=74406, inchi_key=None) has not yet been analyzed by ChemAxon.\n",
      "  warnings.warn(\n",
      "C:\\Users\\Tobi\\.conda\\envs\\env_gcs_py39\\lib\\site-packages\\equilibrator_cache\\reaction.py:616: UserWarning: Cannot calculate Legendre transform for Compound(id=14094, inchi_key=None): Compound(id=14094, inchi_key=None) has not yet been analyzed by ChemAxon.\n",
      "  warnings.warn(\n",
      "C:\\Users\\Tobi\\.conda\\envs\\env_gcs_py39\\lib\\site-packages\\equilibrator_cache\\reaction.py:616: UserWarning: Cannot calculate Legendre transform for Compound(id=5748, inchi_key=None): Compound(id=5748, inchi_key=None) has not yet been analyzed by ChemAxon.\n",
      "  warnings.warn(\n",
      "C:\\Users\\Tobi\\.conda\\envs\\env_gcs_py39\\lib\\site-packages\\equilibrator_cache\\reaction.py:616: UserWarning: Cannot calculate Legendre transform for Compound(id=858, inchi_key=None): Compound(id=858, inchi_key=None) has not yet been analyzed by ChemAxon.\n",
      "  warnings.warn(\n",
      "C:\\Users\\Tobi\\.conda\\envs\\env_gcs_py39\\lib\\site-packages\\equilibrator_cache\\reaction.py:616: UserWarning: Cannot calculate Legendre transform for Compound(id=6013, inchi_key=None): Compound(id=6013, inchi_key=None) has not yet been analyzed by ChemAxon.\n",
      "  warnings.warn(\n",
      "C:\\Users\\Tobi\\.conda\\envs\\env_gcs_py39\\lib\\site-packages\\equilibrator_cache\\reaction.py:616: UserWarning: Cannot calculate Legendre transform for Compound(id=174, inchi_key=None): Compound(id=174, inchi_key=None) has not yet been analyzed by ChemAxon.\n",
      "  warnings.warn(\n"
     ]
    },
    {
     "name": "stdout",
     "output_type": "stream",
     "text": [
      "Gibbs free energy of 3OAR80 is not reliable\n",
      "Determination of reaction direction failed\n",
      "-3 0\n",
      "LPLIPAL2E120\n",
      "Gibbs free energy of LPLIPAL2E120 is not reliable\n",
      "Determination of reaction direction failed\n",
      "-3 1\n",
      "EAR100x\n",
      "Gibbs free energy of EAR100x is not reliable\n",
      "Determination of reaction direction failed\n",
      "-3 1\n",
      "EAR120x\n",
      "Gibbs free energy of EAR120x is not reliable\n",
      "Determination of reaction direction failed\n",
      "-3 1\n",
      "EAR160x\n",
      "Gibbs free energy of EAR160x is not reliable\n",
      "Determination of reaction direction failed\n",
      "-3 1\n",
      "ATHRDHr\n",
      "-1 0\n",
      "EAR140y\n",
      "Gibbs free energy of EAR140y is not reliable\n",
      "Determination of reaction direction failed\n",
      "-3 1\n",
      "3OAS121\n",
      "Gibbs free energy of 3OAS121 is not reliable\n",
      "Determination of reaction direction failed\n",
      "-3 1\n",
      "3OAS80\n"
     ]
    },
    {
     "name": "stderr",
     "output_type": "stream",
     "text": [
      "C:\\Users\\Tobi\\.conda\\envs\\env_gcs_py39\\lib\\site-packages\\equilibrator_cache\\reaction.py:616: UserWarning: Cannot calculate Legendre transform for Compound(id=74557, inchi_key=None): Compound(id=74557, inchi_key=None) has not yet been analyzed by ChemAxon.\n",
      "  warnings.warn(\n",
      "C:\\Users\\Tobi\\.conda\\envs\\env_gcs_py39\\lib\\site-packages\\equilibrator_cache\\reaction.py:616: UserWarning: Cannot calculate Legendre transform for Compound(id=17592, inchi_key=None): Compound(id=17592, inchi_key=None) has not yet been analyzed by ChemAxon.\n",
      "  warnings.warn(\n",
      "C:\\Users\\Tobi\\.conda\\envs\\env_gcs_py39\\lib\\site-packages\\equilibrator_cache\\reaction.py:616: UserWarning: Cannot calculate Legendre transform for Compound(id=858, inchi_key=None): Compound(id=858, inchi_key=None) has not yet been analyzed by ChemAxon.\n",
      "  warnings.warn(\n",
      "C:\\Users\\Tobi\\.conda\\envs\\env_gcs_py39\\lib\\site-packages\\equilibrator_cache\\reaction.py:616: UserWarning: Cannot calculate Legendre transform for Compound(id=174, inchi_key=None): Compound(id=174, inchi_key=None) has not yet been analyzed by ChemAxon.\n",
      "  warnings.warn(\n"
     ]
    },
    {
     "name": "stdout",
     "output_type": "stream",
     "text": [
      "Gibbs free energy of 3OAS80 is not reliable\n",
      "Determination of reaction direction failed\n",
      "-3 1\n",
      "3OAS100\n"
     ]
    },
    {
     "name": "stderr",
     "output_type": "stream",
     "text": [
      "C:\\Users\\Tobi\\.conda\\envs\\env_gcs_py39\\lib\\site-packages\\equilibrator_cache\\reaction.py:616: UserWarning: Cannot calculate Legendre transform for Compound(id=16272, inchi_key=None): Compound(id=16272, inchi_key=None) has not yet been analyzed by ChemAxon.\n",
      "  warnings.warn(\n",
      "C:\\Users\\Tobi\\.conda\\envs\\env_gcs_py39\\lib\\site-packages\\equilibrator_cache\\reaction.py:616: UserWarning: Cannot calculate Legendre transform for Compound(id=858, inchi_key=None): Compound(id=858, inchi_key=None) has not yet been analyzed by ChemAxon.\n",
      "  warnings.warn(\n",
      "C:\\Users\\Tobi\\.conda\\envs\\env_gcs_py39\\lib\\site-packages\\equilibrator_cache\\reaction.py:616: UserWarning: Cannot calculate Legendre transform for Compound(id=174, inchi_key=None): Compound(id=174, inchi_key=None) has not yet been analyzed by ChemAxon.\n",
      "  warnings.warn(\n",
      "C:\\Users\\Tobi\\.conda\\envs\\env_gcs_py39\\lib\\site-packages\\equilibrator_cache\\reaction.py:616: UserWarning: Cannot calculate Legendre transform for Compound(id=74464, inchi_key=None): Compound(id=74464, inchi_key=None) has not yet been analyzed by ChemAxon.\n",
      "  warnings.warn(\n",
      "C:\\Users\\Tobi\\.conda\\envs\\env_gcs_py39\\lib\\site-packages\\equilibrator_cache\\reaction.py:616: UserWarning: Cannot calculate Legendre transform for Compound(id=18451, inchi_key=None): Compound(id=18451, inchi_key=None) has not yet been analyzed by ChemAxon.\n",
      "  warnings.warn(\n",
      "C:\\Users\\Tobi\\.conda\\envs\\env_gcs_py39\\lib\\site-packages\\equilibrator_cache\\reaction.py:616: UserWarning: Cannot calculate Legendre transform for Compound(id=858, inchi_key=None): Compound(id=858, inchi_key=None) has not yet been analyzed by ChemAxon.\n",
      "  warnings.warn(\n",
      "C:\\Users\\Tobi\\.conda\\envs\\env_gcs_py39\\lib\\site-packages\\equilibrator_cache\\reaction.py:616: UserWarning: Cannot calculate Legendre transform for Compound(id=74471, inchi_key=None): Compound(id=74471, inchi_key=None) has not yet been analyzed by ChemAxon.\n",
      "  warnings.warn(\n",
      "C:\\Users\\Tobi\\.conda\\envs\\env_gcs_py39\\lib\\site-packages\\equilibrator_cache\\reaction.py:616: UserWarning: Cannot calculate Legendre transform for Compound(id=174, inchi_key=None): Compound(id=174, inchi_key=None) has not yet been analyzed by ChemAxon.\n",
      "  warnings.warn(\n"
     ]
    },
    {
     "name": "stdout",
     "output_type": "stream",
     "text": [
      "Gibbs free energy of 3OAS100 is not reliable\n",
      "Determination of reaction direction failed\n",
      "-3 1\n",
      "3OAS120\n",
      "Gibbs free energy of 3OAS120 is not reliable\n",
      "Determination of reaction direction failed\n",
      "-3 1\n",
      "LSERDHr\n",
      "-1 0\n",
      "3OAR40\n",
      "Gibbs free energy of 3OAR40 is not reliable\n",
      "Determination of reaction direction failed\n",
      "-3 0\n",
      "3OAR100\n"
     ]
    },
    {
     "name": "stderr",
     "output_type": "stream",
     "text": [
      "C:\\Users\\Tobi\\.conda\\envs\\env_gcs_py39\\lib\\site-packages\\equilibrator_cache\\reaction.py:616: UserWarning: Cannot calculate Legendre transform for Compound(id=4999, inchi_key=None): Compound(id=4999, inchi_key=None) has not yet been analyzed by ChemAxon.\n",
      "  warnings.warn(\n",
      "C:\\Users\\Tobi\\.conda\\envs\\env_gcs_py39\\lib\\site-packages\\equilibrator_cache\\reaction.py:616: UserWarning: Cannot calculate Legendre transform for Compound(id=1130, inchi_key=None): Compound(id=1130, inchi_key=None) has not yet been analyzed by ChemAxon.\n",
      "  warnings.warn(\n",
      "C:\\Users\\Tobi\\.conda\\envs\\env_gcs_py39\\lib\\site-packages\\equilibrator_cache\\reaction.py:616: UserWarning: Cannot calculate Legendre transform for Compound(id=5969, inchi_key=None): Compound(id=5969, inchi_key=None) has not yet been analyzed by ChemAxon.\n",
      "  warnings.warn(\n",
      "C:\\Users\\Tobi\\.conda\\envs\\env_gcs_py39\\lib\\site-packages\\equilibrator_cache\\reaction.py:616: UserWarning: Cannot calculate Legendre transform for Compound(id=16272, inchi_key=None): Compound(id=16272, inchi_key=None) has not yet been analyzed by ChemAxon.\n",
      "  warnings.warn(\n"
     ]
    },
    {
     "name": "stdout",
     "output_type": "stream",
     "text": [
      "Gibbs free energy of 3OAR100 is not reliable\n",
      "Determination of reaction direction failed\n",
      "-3 0\n",
      "DSERDHr\n",
      "-1 0\n",
      "3HAD60\n"
     ]
    },
    {
     "name": "stderr",
     "output_type": "stream",
     "text": [
      "C:\\Users\\Tobi\\.conda\\envs\\env_gcs_py39\\lib\\site-packages\\equilibrator_cache\\reaction.py:616: UserWarning: Cannot calculate Legendre transform for Compound(id=14285, inchi_key=None): Compound(id=14285, inchi_key=None) has not yet been analyzed by ChemAxon.\n",
      "  warnings.warn(\n",
      "C:\\Users\\Tobi\\.conda\\envs\\env_gcs_py39\\lib\\site-packages\\equilibrator_cache\\reaction.py:616: UserWarning: Cannot calculate Legendre transform for Compound(id=15102, inchi_key=None): Compound(id=15102, inchi_key=None) has not yet been analyzed by ChemAxon.\n",
      "  warnings.warn(\n",
      "C:\\Users\\Tobi\\.conda\\envs\\env_gcs_py39\\lib\\site-packages\\equilibrator_cache\\reaction.py:616: UserWarning: Cannot calculate Legendre transform for Compound(id=5969, inchi_key=None): Compound(id=5969, inchi_key=None) has not yet been analyzed by ChemAxon.\n",
      "  warnings.warn(\n",
      "C:\\Users\\Tobi\\.conda\\envs\\env_gcs_py39\\lib\\site-packages\\equilibrator_cache\\reaction.py:616: UserWarning: Cannot calculate Legendre transform for Compound(id=17777, inchi_key=None): Compound(id=17777, inchi_key=None) has not yet been analyzed by ChemAxon.\n",
      "  warnings.warn(\n"
     ]
    },
    {
     "name": "stdout",
     "output_type": "stream",
     "text": [
      "Gibbs free energy of 3HAD60 is not reliable\n",
      "Determination of reaction direction failed\n",
      "-3 1\n",
      "3HAD100\n",
      "Gibbs free energy of 3HAD100 is not reliable\n",
      "Determination of reaction direction failed\n",
      "-3 1\n",
      "3HAD140\n"
     ]
    },
    {
     "name": "stderr",
     "output_type": "stream",
     "text": [
      "C:\\Users\\Tobi\\.conda\\envs\\env_gcs_py39\\lib\\site-packages\\equilibrator_cache\\reaction.py:616: UserWarning: Cannot calculate Legendre transform for Compound(id=6385, inchi_key=None): Compound(id=6385, inchi_key=None) has not yet been analyzed by ChemAxon.\n",
      "  warnings.warn(\n",
      "C:\\Users\\Tobi\\.conda\\envs\\env_gcs_py39\\lib\\site-packages\\equilibrator_cache\\reaction.py:616: UserWarning: Cannot calculate Legendre transform for Compound(id=14094, inchi_key=None): Compound(id=14094, inchi_key=None) has not yet been analyzed by ChemAxon.\n",
      "  warnings.warn(\n",
      "C:\\Users\\Tobi\\.conda\\envs\\env_gcs_py39\\lib\\site-packages\\equilibrator_cache\\reaction.py:616: UserWarning: Cannot calculate Legendre transform for Compound(id=2281, inchi_key=None): Compound(id=2281, inchi_key=None) has not yet been analyzed by ChemAxon.\n",
      "  warnings.warn(\n",
      "C:\\Users\\Tobi\\.conda\\envs\\env_gcs_py39\\lib\\site-packages\\equilibrator_cache\\reaction.py:616: UserWarning: Cannot calculate Legendre transform for Compound(id=18582, inchi_key=None): Compound(id=18582, inchi_key=None) has not yet been analyzed by ChemAxon.\n",
      "  warnings.warn(\n"
     ]
    },
    {
     "name": "stdout",
     "output_type": "stream",
     "text": [
      "Gibbs free energy of 3HAD140 is not reliable\n",
      "Determination of reaction direction failed\n",
      "-3 1\n",
      "3HAD160\n",
      "Gibbs free energy of 3HAD160 is not reliable\n",
      "Determination of reaction direction failed\n",
      "-3 1\n",
      "PSD120\n"
     ]
    },
    {
     "name": "stderr",
     "output_type": "stream",
     "text": [
      "C:\\Users\\Tobi\\.conda\\envs\\env_gcs_py39\\lib\\site-packages\\equilibrator_cache\\reaction.py:616: UserWarning: Cannot calculate Legendre transform for Compound(id=6341, inchi_key=None): Compound(id=6341, inchi_key=None) has not yet been analyzed by ChemAxon.\n",
      "  warnings.warn(\n",
      "C:\\Users\\Tobi\\.conda\\envs\\env_gcs_py39\\lib\\site-packages\\equilibrator_cache\\reaction.py:616: UserWarning: Cannot calculate Legendre transform for Compound(id=2518, inchi_key=None): Compound(id=2518, inchi_key=None) has not yet been analyzed by ChemAxon.\n",
      "  warnings.warn(\n",
      "C:\\Users\\Tobi\\.conda\\envs\\env_gcs_py39\\lib\\site-packages\\equilibrator_cache\\reaction.py:616: UserWarning: Cannot calculate Legendre transform for Compound(id=74623, inchi_key=None): Compound(id=74623, inchi_key=None) has not yet been analyzed by ChemAxon.\n",
      "  warnings.warn(\n",
      "C:\\Users\\Tobi\\.conda\\envs\\env_gcs_py39\\lib\\site-packages\\equilibrator_cache\\reaction.py:616: UserWarning: Cannot calculate Legendre transform for Compound(id=858, inchi_key=None): Compound(id=858, inchi_key=None) has not yet been analyzed by ChemAxon.\n",
      "  warnings.warn(\n",
      "C:\\Users\\Tobi\\.conda\\envs\\env_gcs_py39\\lib\\site-packages\\equilibrator_cache\\reaction.py:616: UserWarning: Cannot calculate Legendre transform for Compound(id=74516, inchi_key=None): Compound(id=74516, inchi_key=None) has not yet been analyzed by ChemAxon.\n",
      "  warnings.warn(\n",
      "C:\\Users\\Tobi\\.conda\\envs\\env_gcs_py39\\lib\\site-packages\\equilibrator_cache\\reaction.py:616: UserWarning: Cannot calculate Legendre transform for Compound(id=131966, inchi_key=None): Compound(id=131966, inchi_key=None) has not yet been analyzed by ChemAxon.\n",
      "  warnings.warn(\n",
      "C:\\Users\\Tobi\\.conda\\envs\\env_gcs_py39\\lib\\site-packages\\equilibrator_cache\\reaction.py:616: UserWarning: Cannot calculate Legendre transform for Compound(id=4282, inchi_key=None): Compound(id=4282, inchi_key=None) has not yet been analyzed by ChemAxon.\n",
      "  warnings.warn(\n",
      "C:\\Users\\Tobi\\.conda\\envs\\env_gcs_py39\\lib\\site-packages\\equilibrator_cache\\reaction.py:616: UserWarning: Cannot calculate Legendre transform for Compound(id=74513, inchi_key=None): Compound(id=74513, inchi_key=None) has not yet been analyzed by ChemAxon.\n",
      "  warnings.warn(\n",
      "C:\\Users\\Tobi\\.conda\\envs\\env_gcs_py39\\lib\\site-packages\\equilibrator_cache\\reaction.py:616: UserWarning: Cannot calculate Legendre transform for Compound(id=2815, inchi_key=None): Compound(id=2815, inchi_key=None) has not yet been analyzed by ChemAxon.\n",
      "  warnings.warn(\n",
      "C:\\Users\\Tobi\\.conda\\envs\\env_gcs_py39\\lib\\site-packages\\equilibrator_cache\\reaction.py:616: UserWarning: Cannot calculate Legendre transform for Compound(id=74508, inchi_key=None): Compound(id=74508, inchi_key=None) has not yet been analyzed by ChemAxon.\n",
      "  warnings.warn(\n",
      "C:\\Users\\Tobi\\.conda\\envs\\env_gcs_py39\\lib\\site-packages\\equilibrator_cache\\reaction.py:616: UserWarning: Cannot calculate Legendre transform for Compound(id=74557, inchi_key=None): Compound(id=74557, inchi_key=None) has not yet been analyzed by ChemAxon.\n",
      "  warnings.warn(\n",
      "C:\\Users\\Tobi\\.conda\\envs\\env_gcs_py39\\lib\\site-packages\\equilibrator_cache\\reaction.py:616: UserWarning: Cannot calculate Legendre transform for Compound(id=14285, inchi_key=None): Compound(id=14285, inchi_key=None) has not yet been analyzed by ChemAxon.\n",
      "  warnings.warn(\n"
     ]
    },
    {
     "name": "stdout",
     "output_type": "stream",
     "text": [
      "Gibbs free energy of PSD120 is not reliable\n",
      "Determination of reaction direction failed\n",
      "-3 1\n",
      "AGPAT141\n",
      "Gibbs free energy of AGPAT141 is not reliable\n",
      "Determination of reaction direction failed\n",
      "-3 1\n",
      "PAPA120\n",
      "Gibbs free energy of PAPA120 is not reliable\n",
      "Determination of reaction direction failed\n",
      "-3 1\n",
      "EAR40x\n",
      "Gibbs free energy of EAR40x is not reliable\n",
      "Determination of reaction direction failed\n",
      "-3 1\n",
      "EAR60y\n",
      "Gibbs free energy of EAR60y is not reliable\n",
      "Determination of reaction direction failed\n",
      "-3 1\n",
      "PLIPA2E120pp\n"
     ]
    },
    {
     "name": "stderr",
     "output_type": "stream",
     "text": [
      "C:\\Users\\Tobi\\.conda\\envs\\env_gcs_py39\\lib\\site-packages\\equilibrator_cache\\reaction.py:616: UserWarning: Cannot calculate Legendre transform for Compound(id=131802, inchi_key=None): Compound(id=131802, inchi_key=None) has not yet been analyzed by ChemAxon.\n",
      "  warnings.warn(\n",
      "C:\\Users\\Tobi\\.conda\\envs\\env_gcs_py39\\lib\\site-packages\\equilibrator_cache\\reaction.py:616: UserWarning: Cannot calculate Legendre transform for Compound(id=2518, inchi_key=None): Compound(id=2518, inchi_key=None) has not yet been analyzed by ChemAxon.\n",
      "  warnings.warn(\n",
      "C:\\Users\\Tobi\\.conda\\envs\\env_gcs_py39\\lib\\site-packages\\equilibrator_cache\\reaction.py:616: UserWarning: Cannot calculate Legendre transform for Compound(id=5555, inchi_key=None): Compound(id=5555, inchi_key=None) has not yet been analyzed by ChemAxon.\n",
      "  warnings.warn(\n",
      "C:\\Users\\Tobi\\.conda\\envs\\env_gcs_py39\\lib\\site-packages\\equilibrator_cache\\reaction.py:616: UserWarning: Cannot calculate Legendre transform for Compound(id=1805, inchi_key=None): Compound(id=1805, inchi_key=None) has not yet been analyzed by ChemAxon.\n",
      "  warnings.warn(\n",
      "C:\\Users\\Tobi\\.conda\\envs\\env_gcs_py39\\lib\\site-packages\\equilibrator_cache\\reaction.py:616: UserWarning: Cannot calculate Legendre transform for Compound(id=609, inchi_key=None): Compound(id=609, inchi_key=None) has not yet been analyzed by ChemAxon.\n",
      "  warnings.warn(\n",
      "C:\\Users\\Tobi\\.conda\\envs\\env_gcs_py39\\lib\\site-packages\\equilibrator_cache\\reaction.py:616: UserWarning: Cannot calculate Legendre transform for Compound(id=74557, inchi_key=None): Compound(id=74557, inchi_key=None) has not yet been analyzed by ChemAxon.\n",
      "  warnings.warn(\n",
      "C:\\Users\\Tobi\\.conda\\envs\\env_gcs_py39\\lib\\site-packages\\equilibrator_cache\\reaction.py:616: UserWarning: Cannot calculate Legendre transform for Compound(id=14285, inchi_key=None): Compound(id=14285, inchi_key=None) has not yet been analyzed by ChemAxon.\n",
      "  warnings.warn(\n",
      "C:\\Users\\Tobi\\.conda\\envs\\env_gcs_py39\\lib\\site-packages\\equilibrator_cache\\reaction.py:616: UserWarning: Cannot calculate Legendre transform for Compound(id=131802, inchi_key=None): Compound(id=131802, inchi_key=None) has not yet been analyzed by ChemAxon.\n",
      "  warnings.warn(\n",
      "C:\\Users\\Tobi\\.conda\\envs\\env_gcs_py39\\lib\\site-packages\\equilibrator_cache\\reaction.py:616: UserWarning: Cannot calculate Legendre transform for Compound(id=131783, inchi_key=None): Compound(id=131783, inchi_key=None) has not yet been analyzed by ChemAxon.\n",
      "  warnings.warn(\n",
      "C:\\Users\\Tobi\\.conda\\envs\\env_gcs_py39\\lib\\site-packages\\equilibrator_cache\\reaction.py:616: UserWarning: Cannot calculate Legendre transform for Compound(id=74464, inchi_key=None): Compound(id=74464, inchi_key=None) has not yet been analyzed by ChemAxon.\n",
      "  warnings.warn(\n",
      "C:\\Users\\Tobi\\.conda\\envs\\env_gcs_py39\\lib\\site-packages\\equilibrator_cache\\reaction.py:616: UserWarning: Cannot calculate Legendre transform for Compound(id=13594, inchi_key=None): Compound(id=13594, inchi_key=None) has not yet been analyzed by ChemAxon.\n",
      "  warnings.warn(\n"
     ]
    },
    {
     "name": "stdout",
     "output_type": "stream",
     "text": [
      "Gibbs free energy of PLIPA2E120pp is not reliable\n",
      "Determination of reaction direction failed\n",
      "-3 1\n",
      "PLIPA2G141pp\n",
      "Gibbs free energy of PLIPA2G141pp is not reliable\n",
      "Determination of reaction direction failed\n",
      "-3 1\n",
      "EAR60x\n",
      "Gibbs free energy of EAR60x is not reliable\n",
      "Determination of reaction direction failed\n",
      "-3 1\n",
      "LPLIPAL1A120pp\n",
      "Gibbs free energy of LPLIPAL1A120pp is not reliable\n",
      "Determination of reaction direction failed\n",
      "-3 1\n",
      "LPLIPAL1A140pp\n",
      "Gibbs free energy of LPLIPAL1A140pp is not reliable\n",
      "Determination of reaction direction failed\n",
      "-3 1\n",
      "EAR80x\n",
      "Gibbs free energy of EAR80x is not reliable\n",
      "Determination of reaction direction failed\n",
      "-3 1\n",
      "NTP11\n",
      "1 1\n",
      "LPLIPAL1A181pp\n",
      "Gibbs free energy of LPLIPAL1A181pp is not reliable\n",
      "Determination of reaction direction failed\n",
      "-3 1\n",
      "LPLIPAL1E120pp\n",
      "Gibbs free energy of LPLIPAL1E120pp is not reliable\n",
      "Determination of reaction direction failed\n",
      "-3 1\n",
      "3OAR180\n"
     ]
    },
    {
     "name": "stderr",
     "output_type": "stream",
     "text": [
      "C:\\Users\\Tobi\\.conda\\envs\\env_gcs_py39\\lib\\site-packages\\equilibrator_cache\\reaction.py:616: UserWarning: Cannot calculate Legendre transform for Compound(id=74622, inchi_key=None): Compound(id=74622, inchi_key=None) has not yet been analyzed by ChemAxon.\n",
      "  warnings.warn(\n",
      "C:\\Users\\Tobi\\.conda\\envs\\env_gcs_py39\\lib\\site-packages\\equilibrator_cache\\reaction.py:616: UserWarning: Cannot calculate Legendre transform for Compound(id=131802, inchi_key=None): Compound(id=131802, inchi_key=None) has not yet been analyzed by ChemAxon.\n",
      "  warnings.warn(\n",
      "C:\\Users\\Tobi\\.conda\\envs\\env_gcs_py39\\lib\\site-packages\\equilibrator_cache\\reaction.py:616: UserWarning: Cannot calculate Legendre transform for Compound(id=5416, inchi_key=None): Compound(id=5416, inchi_key=None) has not yet been analyzed by ChemAxon.\n",
      "  warnings.warn(\n",
      "C:\\Users\\Tobi\\.conda\\envs\\env_gcs_py39\\lib\\site-packages\\equilibrator_cache\\reaction.py:616: UserWarning: Cannot calculate Legendre transform for Compound(id=3033, inchi_key=None): Compound(id=3033, inchi_key=None) has not yet been analyzed by ChemAxon.\n",
      "  warnings.warn(\n",
      "C:\\Users\\Tobi\\.conda\\envs\\env_gcs_py39\\lib\\site-packages\\equilibrator_cache\\reaction.py:616: UserWarning: Cannot calculate Legendre transform for Compound(id=858, inchi_key=None): Compound(id=858, inchi_key=None) has not yet been analyzed by ChemAxon.\n",
      "  warnings.warn(\n",
      "C:\\Users\\Tobi\\.conda\\envs\\env_gcs_py39\\lib\\site-packages\\equilibrator_cache\\reaction.py:616: UserWarning: Cannot calculate Legendre transform for Compound(id=74420, inchi_key=None): Compound(id=74420, inchi_key=None) has not yet been analyzed by ChemAxon.\n",
      "  warnings.warn(\n",
      "C:\\Users\\Tobi\\.conda\\envs\\env_gcs_py39\\lib\\site-packages\\equilibrator_cache\\reaction.py:616: UserWarning: Cannot calculate Legendre transform for Compound(id=3033, inchi_key=None): Compound(id=3033, inchi_key=None) has not yet been analyzed by ChemAxon.\n",
      "  warnings.warn(\n",
      "C:\\Users\\Tobi\\.conda\\envs\\env_gcs_py39\\lib\\site-packages\\equilibrator_cache\\reaction.py:616: UserWarning: Cannot calculate Legendre transform for Compound(id=858, inchi_key=None): Compound(id=858, inchi_key=None) has not yet been analyzed by ChemAxon.\n",
      "  warnings.warn(\n",
      "C:\\Users\\Tobi\\.conda\\envs\\env_gcs_py39\\lib\\site-packages\\equilibrator_cache\\reaction.py:616: UserWarning: Cannot calculate Legendre transform for Compound(id=174, inchi_key=None): Compound(id=174, inchi_key=None) has not yet been analyzed by ChemAxon.\n",
      "  warnings.warn(\n",
      "C:\\Users\\Tobi\\.conda\\envs\\env_gcs_py39\\lib\\site-packages\\equilibrator_cache\\reaction.py:616: UserWarning: Cannot calculate Legendre transform for Compound(id=1802, inchi_key=None): Compound(id=1802, inchi_key=None) has not yet been analyzed by ChemAxon.\n",
      "  warnings.warn(\n",
      "C:\\Users\\Tobi\\.conda\\envs\\env_gcs_py39\\lib\\site-packages\\equilibrator_cache\\reaction.py:616: UserWarning: Cannot calculate Legendre transform for Compound(id=5416, inchi_key=None): Compound(id=5416, inchi_key=None) has not yet been analyzed by ChemAxon.\n",
      "  warnings.warn(\n",
      "C:\\Users\\Tobi\\.conda\\envs\\env_gcs_py39\\lib\\site-packages\\equilibrator_cache\\reaction.py:616: UserWarning: Cannot calculate Legendre transform for Compound(id=2279, inchi_key=None): Compound(id=2279, inchi_key=None) has not yet been analyzed by ChemAxon.\n",
      "  warnings.warn(\n"
     ]
    },
    {
     "name": "stdout",
     "output_type": "stream",
     "text": [
      "Gibbs free energy of 3OAR180 is not reliable\n",
      "Determination of reaction direction failed\n",
      "-3 0\n",
      "G3PAT120\n",
      "Gibbs free energy of G3PAT120 is not reliable\n",
      "Determination of reaction direction failed\n",
      "-3 1\n",
      "3OAS180\n",
      "Gibbs free energy of 3OAS180 is not reliable\n",
      "Determination of reaction direction failed\n",
      "-3 1\n",
      "3HAD180\n",
      "Gibbs free energy of 3HAD180 is not reliable\n",
      "Determination of reaction direction failed\n",
      "-3 1\n",
      "2MAHMP\n",
      "1 1\n",
      "NADHPO\n",
      "1 1\n",
      "PLIPA1A120pp\n"
     ]
    },
    {
     "name": "stderr",
     "output_type": "stream",
     "text": [
      "C:\\Users\\Tobi\\.conda\\envs\\env_gcs_py39\\lib\\site-packages\\equilibrator_cache\\reaction.py:616: UserWarning: Cannot calculate Legendre transform for Compound(id=4694, inchi_key=None): Compound(id=4694, inchi_key=None) has not yet been analyzed by ChemAxon.\n",
      "  warnings.warn(\n",
      "C:\\Users\\Tobi\\.conda\\envs\\env_gcs_py39\\lib\\site-packages\\equilibrator_cache\\reaction.py:616: UserWarning: Cannot calculate Legendre transform for Compound(id=131802, inchi_key=None): Compound(id=131802, inchi_key=None) has not yet been analyzed by ChemAxon.\n",
      "  warnings.warn(\n",
      "C:\\Users\\Tobi\\.conda\\envs\\env_gcs_py39\\lib\\site-packages\\equilibrator_cache\\reaction.py:616: UserWarning: Cannot calculate Legendre transform for Compound(id=74513, inchi_key=None): Compound(id=74513, inchi_key=None) has not yet been analyzed by ChemAxon.\n",
      "  warnings.warn(\n"
     ]
    },
    {
     "name": "stdout",
     "output_type": "stream",
     "text": [
      "Gibbs free energy of PLIPA1A120pp is not reliable\n",
      "Determination of reaction direction failed\n",
      "-3 1\n",
      "PLIPA1A140pp\n"
     ]
    },
    {
     "name": "stderr",
     "output_type": "stream",
     "text": [
      "C:\\Users\\Tobi\\.conda\\envs\\env_gcs_py39\\lib\\site-packages\\equilibrator_cache\\reaction.py:616: UserWarning: Cannot calculate Legendre transform for Compound(id=4719, inchi_key=None): Compound(id=4719, inchi_key=None) has not yet been analyzed by ChemAxon.\n",
      "  warnings.warn(\n",
      "C:\\Users\\Tobi\\.conda\\envs\\env_gcs_py39\\lib\\site-packages\\equilibrator_cache\\reaction.py:616: UserWarning: Cannot calculate Legendre transform for Compound(id=131783, inchi_key=None): Compound(id=131783, inchi_key=None) has not yet been analyzed by ChemAxon.\n",
      "  warnings.warn(\n",
      "C:\\Users\\Tobi\\.conda\\envs\\env_gcs_py39\\lib\\site-packages\\equilibrator_cache\\reaction.py:616: UserWarning: Cannot calculate Legendre transform for Compound(id=4718, inchi_key=None): Compound(id=4718, inchi_key=None) has not yet been analyzed by ChemAxon.\n",
      "  warnings.warn(\n",
      "C:\\Users\\Tobi\\.conda\\envs\\env_gcs_py39\\lib\\site-packages\\equilibrator_cache\\reaction.py:616: UserWarning: Cannot calculate Legendre transform for Compound(id=74516, inchi_key=None): Compound(id=74516, inchi_key=None) has not yet been analyzed by ChemAxon.\n",
      "  warnings.warn(\n",
      "C:\\Users\\Tobi\\.conda\\envs\\env_gcs_py39\\lib\\site-packages\\equilibrator_cache\\reaction.py:616: UserWarning: Cannot calculate Legendre transform for Compound(id=609, inchi_key=None): Compound(id=609, inchi_key=None) has not yet been analyzed by ChemAxon.\n",
      "  warnings.warn(\n"
     ]
    },
    {
     "name": "stdout",
     "output_type": "stream",
     "text": [
      "Gibbs free energy of PLIPA1A140pp is not reliable\n",
      "Determination of reaction direction failed\n",
      "-3 1\n",
      "PLIPA1A141pp\n",
      "Gibbs free energy of PLIPA1A141pp is not reliable\n",
      "Determination of reaction direction failed\n",
      "-3 1\n",
      "PLIPA1A160pp\n"
     ]
    },
    {
     "name": "stderr",
     "output_type": "stream",
     "text": [
      "C:\\Users\\Tobi\\.conda\\envs\\env_gcs_py39\\lib\\site-packages\\equilibrator_cache\\reaction.py:616: UserWarning: Cannot calculate Legendre transform for Compound(id=4698, inchi_key=None): Compound(id=4698, inchi_key=None) has not yet been analyzed by ChemAxon.\n",
      "  warnings.warn(\n"
     ]
    },
    {
     "name": "stdout",
     "output_type": "stream",
     "text": [
      "Gibbs free energy of PLIPA1A160pp is not reliable\n",
      "Determination of reaction direction failed\n",
      "-3 1\n",
      "PLIPA1A161pp\n"
     ]
    },
    {
     "name": "stderr",
     "output_type": "stream",
     "text": [
      "C:\\Users\\Tobi\\.conda\\envs\\env_gcs_py39\\lib\\site-packages\\equilibrator_cache\\reaction.py:616: UserWarning: Cannot calculate Legendre transform for Compound(id=4697, inchi_key=None): Compound(id=4697, inchi_key=None) has not yet been analyzed by ChemAxon.\n",
      "  warnings.warn(\n",
      "C:\\Users\\Tobi\\.conda\\envs\\env_gcs_py39\\lib\\site-packages\\equilibrator_cache\\reaction.py:616: UserWarning: Cannot calculate Legendre transform for Compound(id=879, inchi_key=None): Compound(id=879, inchi_key=None) has not yet been analyzed by ChemAxon.\n",
      "  warnings.warn(\n",
      "C:\\Users\\Tobi\\.conda\\envs\\env_gcs_py39\\lib\\site-packages\\equilibrator_cache\\reaction.py:616: UserWarning: Cannot calculate Legendre transform for Compound(id=74514, inchi_key=None): Compound(id=74514, inchi_key=None) has not yet been analyzed by ChemAxon.\n",
      "  warnings.warn(\n",
      "C:\\Users\\Tobi\\.conda\\envs\\env_gcs_py39\\lib\\site-packages\\equilibrator_cache\\reaction.py:616: UserWarning: Cannot calculate Legendre transform for Compound(id=4694, inchi_key=None): Compound(id=4694, inchi_key=None) has not yet been analyzed by ChemAxon.\n",
      "  warnings.warn(\n",
      "C:\\Users\\Tobi\\.conda\\envs\\env_gcs_py39\\lib\\site-packages\\equilibrator_cache\\reaction.py:616: UserWarning: Cannot calculate Legendre transform for Compound(id=131802, inchi_key=None): Compound(id=131802, inchi_key=None) has not yet been analyzed by ChemAxon.\n",
      "  warnings.warn(\n"
     ]
    },
    {
     "name": "stdout",
     "output_type": "stream",
     "text": [
      "Gibbs free energy of PLIPA1A161pp is not reliable\n",
      "Determination of reaction direction failed\n",
      "-3 1\n",
      "LPLIPAL2A120\n",
      "Gibbs free energy of LPLIPAL2A120 is not reliable\n",
      "Determination of reaction direction failed\n",
      "-3 1\n",
      "KDUI\n",
      "\tMetabolite dkdglcn_c not known in BIGG namespace\n",
      "\tdkdglcn_c found in KEGG namespace\n",
      "\tMetabolite dt5hsu_c not known in BIGG namespace\n",
      "\tdt5hsu_c found in KEGG namespace\n",
      "0 1\n",
      "CTBTCAL2\n",
      "1 1\n",
      "OBTFL\n",
      "0 1\n",
      "FA161ACPHi\n",
      "Gibbs free energy of FA161ACPHi is not reliable\n",
      "Determination of reaction direction failed\n",
      "-3 1\n",
      "BGLA1\n"
     ]
    },
    {
     "name": "stderr",
     "output_type": "stream",
     "text": [
      "C:\\Users\\Tobi\\.conda\\envs\\env_gcs_py39\\lib\\site-packages\\equilibrator_cache\\reaction.py:616: UserWarning: Cannot calculate Legendre transform for Compound(id=858, inchi_key=None): Compound(id=858, inchi_key=None) has not yet been analyzed by ChemAxon.\n",
      "  warnings.warn(\n",
      "C:\\Users\\Tobi\\.conda\\envs\\env_gcs_py39\\lib\\site-packages\\equilibrator_cache\\reaction.py:616: UserWarning: Cannot calculate Legendre transform for Compound(id=879, inchi_key=None): Compound(id=879, inchi_key=None) has not yet been analyzed by ChemAxon.\n",
      "  warnings.warn(\n",
      "C:\\Users\\Tobi\\.conda\\envs\\env_gcs_py39\\lib\\site-packages\\equilibrator_cache\\reaction.py:616: UserWarning: Cannot calculate Legendre transform for Compound(id=74432, inchi_key=None): Compound(id=74432, inchi_key=None) has not yet been analyzed by ChemAxon.\n",
      "  warnings.warn(\n",
      "C:\\Users\\Tobi\\.conda\\envs\\env_gcs_py39\\lib\\site-packages\\equilibrator_cache\\reaction.py:616: UserWarning: Cannot calculate Legendre transform for Compound(id=118066, inchi_key=None): Compound(id=118066, inchi_key=None) has not yet been analyzed by ChemAxon.\n",
      "  warnings.warn(\n",
      "C:\\Users\\Tobi\\.conda\\envs\\env_gcs_py39\\lib\\site-packages\\equilibrator_cache\\reaction.py:616: UserWarning: Cannot calculate Legendre transform for Compound(id=858, inchi_key=None): Compound(id=858, inchi_key=None) has not yet been analyzed by ChemAxon.\n",
      "  warnings.warn(\n",
      "C:\\Users\\Tobi\\.conda\\envs\\env_gcs_py39\\lib\\site-packages\\equilibrator_cache\\reaction.py:616: UserWarning: Cannot calculate Legendre transform for Compound(id=131966, inchi_key=None): Compound(id=131966, inchi_key=None) has not yet been analyzed by ChemAxon.\n",
      "  warnings.warn(\n",
      "C:\\Users\\Tobi\\.conda\\envs\\env_gcs_py39\\lib\\site-packages\\equilibrator_cache\\reaction.py:616: UserWarning: Cannot calculate Legendre transform for Compound(id=609, inchi_key=None): Compound(id=609, inchi_key=None) has not yet been analyzed by ChemAxon.\n",
      "  warnings.warn(\n",
      "C:\\Users\\Tobi\\.conda\\envs\\env_gcs_py39\\lib\\site-packages\\equilibrator_cache\\reaction.py:616: UserWarning: Cannot calculate Legendre transform for Compound(id=858, inchi_key=None): Compound(id=858, inchi_key=None) has not yet been analyzed by ChemAxon.\n",
      "  warnings.warn(\n",
      "C:\\Users\\Tobi\\.conda\\envs\\env_gcs_py39\\lib\\site-packages\\equilibrator_cache\\reaction.py:616: UserWarning: Cannot calculate Legendre transform for Compound(id=1802, inchi_key=None): Compound(id=1802, inchi_key=None) has not yet been analyzed by ChemAxon.\n",
      "  warnings.warn(\n",
      "C:\\Users\\Tobi\\.conda\\envs\\env_gcs_py39\\lib\\site-packages\\equilibrator_cache\\reaction.py:616: UserWarning: Cannot calculate Legendre transform for Compound(id=858, inchi_key=None): Compound(id=858, inchi_key=None) has not yet been analyzed by ChemAxon.\n",
      "  warnings.warn(\n",
      "C:\\Users\\Tobi\\.conda\\envs\\env_gcs_py39\\lib\\site-packages\\equilibrator_cache\\reaction.py:616: UserWarning: Cannot calculate Legendre transform for Compound(id=74420, inchi_key=None): Compound(id=74420, inchi_key=None) has not yet been analyzed by ChemAxon.\n",
      "  warnings.warn(\n",
      "C:\\Users\\Tobi\\.conda\\envs\\env_gcs_py39\\lib\\site-packages\\equilibrator_cache\\reaction.py:616: UserWarning: Cannot calculate Legendre transform for Compound(id=131802, inchi_key=None): Compound(id=131802, inchi_key=None) has not yet been analyzed by ChemAxon.\n",
      "  warnings.warn(\n",
      "C:\\Users\\Tobi\\.conda\\envs\\env_gcs_py39\\lib\\site-packages\\equilibrator_cache\\reaction.py:616: UserWarning: Cannot calculate Legendre transform for Compound(id=858, inchi_key=None): Compound(id=858, inchi_key=None) has not yet been analyzed by ChemAxon.\n",
      "  warnings.warn(\n",
      "C:\\Users\\Tobi\\.conda\\envs\\env_gcs_py39\\lib\\site-packages\\equilibrator_cache\\reaction.py:616: UserWarning: Cannot calculate Legendre transform for Compound(id=74464, inchi_key=None): Compound(id=74464, inchi_key=None) has not yet been analyzed by ChemAxon.\n",
      "  warnings.warn(\n",
      "C:\\Users\\Tobi\\.conda\\envs\\env_gcs_py39\\lib\\site-packages\\equilibrator_cache\\reaction.py:616: UserWarning: Cannot calculate Legendre transform for Compound(id=858, inchi_key=None): Compound(id=858, inchi_key=None) has not yet been analyzed by ChemAxon.\n",
      "  warnings.warn(\n",
      "C:\\Users\\Tobi\\.conda\\envs\\env_gcs_py39\\lib\\site-packages\\equilibrator_cache\\reaction.py:616: UserWarning: Cannot calculate Legendre transform for Compound(id=74406, inchi_key=None): Compound(id=74406, inchi_key=None) has not yet been analyzed by ChemAxon.\n",
      "  warnings.warn(\n",
      "C:\\Users\\Tobi\\.conda\\envs\\env_gcs_py39\\lib\\site-packages\\equilibrator_cache\\reaction.py:616: UserWarning: Cannot calculate Legendre transform for Compound(id=131783, inchi_key=None): Compound(id=131783, inchi_key=None) has not yet been analyzed by ChemAxon.\n",
      "  warnings.warn(\n",
      "C:\\Users\\Tobi\\.conda\\envs\\env_gcs_py39\\lib\\site-packages\\equilibrator_cache\\reaction.py:616: UserWarning: Cannot calculate Legendre transform for Compound(id=858, inchi_key=None): Compound(id=858, inchi_key=None) has not yet been analyzed by ChemAxon.\n",
      "  warnings.warn(\n",
      "C:\\Users\\Tobi\\.conda\\envs\\env_gcs_py39\\lib\\site-packages\\equilibrator_cache\\reaction.py:616: UserWarning: Cannot calculate Legendre transform for Compound(id=74471, inchi_key=None): Compound(id=74471, inchi_key=None) has not yet been analyzed by ChemAxon.\n",
      "  warnings.warn(\n",
      "C:\\Users\\Tobi\\.conda\\envs\\env_gcs_py39\\lib\\site-packages\\equilibrator_cache\\reaction.py:616: UserWarning: Cannot calculate Legendre transform for Compound(id=131838, inchi_key=None): Compound(id=131838, inchi_key=None) has not yet been analyzed by ChemAxon.\n",
      "  warnings.warn(\n"
     ]
    },
    {
     "name": "stdout",
     "output_type": "stream",
     "text": [
      "Gibbs free energy of BGLA1 is not reliable\n",
      "Determination of reaction direction failed\n",
      "-3 1\n",
      "FA141ACPHi\n",
      "Gibbs free energy of FA141ACPHi is not reliable\n",
      "Determination of reaction direction failed\n",
      "-3 1\n",
      "FA160ACPHi\n",
      "Gibbs free energy of FA160ACPHi is not reliable\n",
      "Determination of reaction direction failed\n",
      "-3 1\n",
      "GDPMNP\n",
      "1 1\n",
      "AMMQLT8\n",
      "Gibbs free energy of AMMQLT8 is not reliable\n",
      "Determination of reaction direction failed\n",
      "-3 1\n",
      "FA120ACPHi\n",
      "Gibbs free energy of FA120ACPHi is not reliable\n",
      "Determination of reaction direction failed\n",
      "-3 1\n",
      "FA80ACPHi\n",
      "Gibbs free energy of FA80ACPHi is not reliable\n",
      "Determination of reaction direction failed\n",
      "-3 1\n",
      "FA140ACPHi\n",
      "Gibbs free energy of FA140ACPHi is not reliable\n",
      "Determination of reaction direction failed\n",
      "-3 1\n",
      "FA100ACPHi\n",
      "Gibbs free energy of FA100ACPHi is not reliable\n",
      "Determination of reaction direction failed\n",
      "-3 1\n",
      "CRNDCAL2\n",
      "0 1\n",
      "DTARTD\n",
      "1 1\n",
      "CRNCAL2\n",
      "0 1\n",
      "FRULYSE\n",
      "0 0\n",
      "PLIPA2G120pp\n",
      "Gibbs free energy of PLIPA2G120pp is not reliable\n",
      "Determination of reaction direction failed\n",
      "-3 1\n",
      "LPLIPAL1A161pp\n",
      "Gibbs free energy of LPLIPAL1A161pp is not reliable\n",
      "Determination of reaction direction failed\n",
      "-3 1\n",
      "LPLIPAL1A160pp\n",
      "Gibbs free energy of LPLIPAL1A160pp is not reliable\n",
      "Determination of reaction direction failed\n",
      "-3 1\n",
      "OXCDC\n"
     ]
    },
    {
     "name": "stderr",
     "output_type": "stream",
     "text": [
      "C:\\Users\\Tobi\\.conda\\envs\\env_gcs_py39\\lib\\site-packages\\equilibrator_cache\\reaction.py:616: UserWarning: Cannot calculate Legendre transform for Compound(id=131802, inchi_key=None): Compound(id=131802, inchi_key=None) has not yet been analyzed by ChemAxon.\n",
      "  warnings.warn(\n",
      "C:\\Users\\Tobi\\.conda\\envs\\env_gcs_py39\\lib\\site-packages\\equilibrator_cache\\reaction.py:616: UserWarning: Cannot calculate Legendre transform for Compound(id=1593, inchi_key=None): Compound(id=1593, inchi_key=None) has not yet been analyzed by ChemAxon.\n",
      "  warnings.warn(\n",
      "C:\\Users\\Tobi\\.conda\\envs\\env_gcs_py39\\lib\\site-packages\\equilibrator_cache\\reaction.py:616: UserWarning: Cannot calculate Legendre transform for Compound(id=74621, inchi_key=None): Compound(id=74621, inchi_key=None) has not yet been analyzed by ChemAxon.\n",
      "  warnings.warn(\n",
      "C:\\Users\\Tobi\\.conda\\envs\\env_gcs_py39\\lib\\site-packages\\equilibrator_cache\\reaction.py:616: UserWarning: Cannot calculate Legendre transform for Compound(id=879, inchi_key=None): Compound(id=879, inchi_key=None) has not yet been analyzed by ChemAxon.\n",
      "  warnings.warn(\n",
      "C:\\Users\\Tobi\\.conda\\envs\\env_gcs_py39\\lib\\site-packages\\equilibrator_cache\\reaction.py:616: UserWarning: Cannot calculate Legendre transform for Compound(id=74530, inchi_key=None): Compound(id=74530, inchi_key=None) has not yet been analyzed by ChemAxon.\n",
      "  warnings.warn(\n"
     ]
    },
    {
     "name": "stdout",
     "output_type": "stream",
     "text": [
      "1 1\n",
      "LPLIPAL2A140\n",
      "Gibbs free energy of LPLIPAL2A140 is not reliable\n",
      "Determination of reaction direction failed\n",
      "-3 1\n",
      "LPLIPAL2A160\n",
      "Gibbs free energy of LPLIPAL2A160 is not reliable\n",
      "Determination of reaction direction failed\n",
      "-3 1\n",
      "LPLIPAL2A161\n",
      "Gibbs free energy of LPLIPAL2A161 is not reliable\n",
      "Determination of reaction direction failed\n",
      "-3 1\n",
      "LPLIPAL2A180\n"
     ]
    },
    {
     "name": "stderr",
     "output_type": "stream",
     "text": [
      "C:\\Users\\Tobi\\.conda\\envs\\env_gcs_py39\\lib\\site-packages\\equilibrator_cache\\reaction.py:616: UserWarning: Cannot calculate Legendre transform for Compound(id=4719, inchi_key=None): Compound(id=4719, inchi_key=None) has not yet been analyzed by ChemAxon.\n",
      "  warnings.warn(\n",
      "C:\\Users\\Tobi\\.conda\\envs\\env_gcs_py39\\lib\\site-packages\\equilibrator_cache\\reaction.py:616: UserWarning: Cannot calculate Legendre transform for Compound(id=131783, inchi_key=None): Compound(id=131783, inchi_key=None) has not yet been analyzed by ChemAxon.\n",
      "  warnings.warn(\n",
      "C:\\Users\\Tobi\\.conda\\envs\\env_gcs_py39\\lib\\site-packages\\equilibrator_cache\\reaction.py:616: UserWarning: Cannot calculate Legendre transform for Compound(id=4698, inchi_key=None): Compound(id=4698, inchi_key=None) has not yet been analyzed by ChemAxon.\n",
      "  warnings.warn(\n",
      "C:\\Users\\Tobi\\.conda\\envs\\env_gcs_py39\\lib\\site-packages\\equilibrator_cache\\reaction.py:616: UserWarning: Cannot calculate Legendre transform for Compound(id=4697, inchi_key=None): Compound(id=4697, inchi_key=None) has not yet been analyzed by ChemAxon.\n",
      "  warnings.warn(\n",
      "C:\\Users\\Tobi\\.conda\\envs\\env_gcs_py39\\lib\\site-packages\\equilibrator_cache\\reaction.py:616: UserWarning: Cannot calculate Legendre transform for Compound(id=879, inchi_key=None): Compound(id=879, inchi_key=None) has not yet been analyzed by ChemAxon.\n",
      "  warnings.warn(\n",
      "C:\\Users\\Tobi\\.conda\\envs\\env_gcs_py39\\lib\\site-packages\\equilibrator_cache\\reaction.py:616: UserWarning: Cannot calculate Legendre transform for Compound(id=4711, inchi_key=None): Compound(id=4711, inchi_key=None) has not yet been analyzed by ChemAxon.\n",
      "  warnings.warn(\n"
     ]
    },
    {
     "name": "stdout",
     "output_type": "stream",
     "text": [
      "Gibbs free energy of LPLIPAL2A180 is not reliable\n",
      "Determination of reaction direction failed\n",
      "-3 1\n",
      "LPLIPAL2A181\n"
     ]
    },
    {
     "name": "stderr",
     "output_type": "stream",
     "text": [
      "C:\\Users\\Tobi\\.conda\\envs\\env_gcs_py39\\lib\\site-packages\\equilibrator_cache\\reaction.py:616: UserWarning: Cannot calculate Legendre transform for Compound(id=4710, inchi_key=None): Compound(id=4710, inchi_key=None) has not yet been analyzed by ChemAxon.\n",
      "  warnings.warn(\n"
     ]
    },
    {
     "name": "stdout",
     "output_type": "stream",
     "text": [
      "Gibbs free energy of LPLIPAL2A181 is not reliable\n",
      "Determination of reaction direction failed\n",
      "-3 1\n",
      "UM3PL\n"
     ]
    },
    {
     "name": "stderr",
     "output_type": "stream",
     "text": [
      "C:\\Users\\Tobi\\.conda\\envs\\env_gcs_py39\\lib\\site-packages\\equilibrator_cache\\reaction.py:616: UserWarning: Cannot calculate Legendre transform for Compound(id=74472, inchi_key=None): Compound(id=74472, inchi_key=None) has not yet been analyzed by ChemAxon.\n",
      "  warnings.warn(\n"
     ]
    },
    {
     "name": "stdout",
     "output_type": "stream",
     "text": [
      "Gibbs free energy of UM3PL is not reliable\n",
      "Determination of reaction direction failed\n",
      "-3 1\n",
      "GALCTLO\n",
      "0 1\n",
      "POR5\n"
     ]
    },
    {
     "name": "stderr",
     "output_type": "stream",
     "text": [
      "C:\\Users\\Tobi\\.conda\\envs\\env_gcs_py39\\lib\\site-packages\\equilibrator_cache\\reaction.py:616: UserWarning: Cannot calculate Legendre transform for Compound(id=5301, inchi_key=None): Compound(id=5301, inchi_key=None) has not yet been analyzed by ChemAxon.\n",
      "  warnings.warn(\n",
      "C:\\Users\\Tobi\\.conda\\envs\\env_gcs_py39\\lib\\site-packages\\equilibrator_cache\\reaction.py:616: UserWarning: Cannot calculate Legendre transform for Compound(id=116676, inchi_key=None): Compound(id=116676, inchi_key=None) has not yet been analyzed by ChemAxon.\n",
      "  warnings.warn(\n"
     ]
    },
    {
     "name": "stdout",
     "output_type": "stream",
     "text": [
      "Gibbs free energy of POR5 is not reliable\n",
      "Determination of reaction direction failed\n",
      "-3 0\n",
      "CTECOAI6\n"
     ]
    },
    {
     "name": "stderr",
     "output_type": "stream",
     "text": [
      "C:\\Users\\Tobi\\.conda\\envs\\env_gcs_py39\\lib\\site-packages\\equilibrator_cache\\reaction.py:616: UserWarning: Cannot calculate Legendre transform for Compound(id=2031, inchi_key=None): Compound(id=2031, inchi_key=None) has not yet been analyzed by ChemAxon.\n",
      "  warnings.warn(\n"
     ]
    },
    {
     "name": "stdout",
     "output_type": "stream",
     "text": [
      "Gibbs free energy of CTECOAI6 is not reliable\n",
      "Determination of reaction direction failed\n",
      "-3 0\n",
      "THRA\n",
      "0 1\n",
      "DGUNC\n"
     ]
    },
    {
     "name": "stderr",
     "output_type": "stream",
     "text": [
      "C:\\Users\\Tobi\\.conda\\envs\\env_gcs_py39\\lib\\site-packages\\equilibrator_cache\\reaction.py:616: UserWarning: Cannot calculate Legendre transform for Compound(id=118795, inchi_key=None): Compound(id=118795, inchi_key=None) has not yet been analyzed by ChemAxon.\n",
      "  warnings.warn(\n",
      "C:\\Users\\Tobi\\.conda\\envs\\env_gcs_py39\\lib\\site-packages\\equilibrator_cache\\reaction.py:616: UserWarning: Cannot calculate Legendre transform for Compound(id=6820, inchi_key=None): Compound(id=6820, inchi_key=None) has not yet been analyzed by ChemAxon.\n",
      "  warnings.warn(\n"
     ]
    },
    {
     "name": "stdout",
     "output_type": "stream",
     "text": [
      "Gibbs free energy of DGUNC is not reliable\n",
      "Determination of reaction direction failed\n",
      "-3 1\n",
      "XYLK2\n",
      "1 1\n",
      "GLDBRAN2\n",
      "Gibbs free energy of GLDBRAN2 is not reliable\n",
      "Determination of reaction direction failed\n",
      "-3 1\n",
      "S2FE2SR\n"
     ]
    },
    {
     "name": "stderr",
     "output_type": "stream",
     "text": [
      "C:\\Users\\Tobi\\.conda\\envs\\env_gcs_py39\\lib\\site-packages\\equilibrator_cache\\reaction.py:616: UserWarning: Cannot calculate Legendre transform for Compound(id=118072, inchi_key=None): Compound(id=118072, inchi_key=None) has not yet been analyzed by ChemAxon.\n",
      "  warnings.warn(\n",
      "C:\\Users\\Tobi\\.conda\\envs\\env_gcs_py39\\lib\\site-packages\\equilibrator_cache\\reaction.py:616: UserWarning: Cannot calculate Legendre transform for Compound(id=117988, inchi_key=None): Compound(id=117988, inchi_key=None) has not yet been analyzed by ChemAxon.\n",
      "  warnings.warn(\n",
      "C:\\Users\\Tobi\\.conda\\envs\\env_gcs_py39\\lib\\site-packages\\equilibrator_cache\\reaction.py:616: UserWarning: Cannot calculate Legendre transform for Compound(id=117987, inchi_key=None): Compound(id=117987, inchi_key=None) has not yet been analyzed by ChemAxon.\n",
      "  warnings.warn(\n",
      "C:\\Users\\Tobi\\.conda\\envs\\env_gcs_py39\\lib\\site-packages\\equilibrator_cache\\reaction.py:616: UserWarning: Cannot calculate Legendre transform for Compound(id=117989, inchi_key=None): Compound(id=117989, inchi_key=None) has not yet been analyzed by ChemAxon.\n",
      "  warnings.warn(\n",
      "C:\\Users\\Tobi\\.conda\\envs\\env_gcs_py39\\lib\\site-packages\\equilibrator_cache\\reaction.py:616: UserWarning: Cannot calculate Legendre transform for Compound(id=117990, inchi_key=None): Compound(id=117990, inchi_key=None) has not yet been analyzed by ChemAxon.\n",
      "  warnings.warn(\n"
     ]
    },
    {
     "name": "stdout",
     "output_type": "stream",
     "text": [
      "Gibbs free energy of S2FE2SR is not reliable\n",
      "Determination of reaction direction failed\n",
      "-3 1\n",
      "CDGUNPD\n"
     ]
    },
    {
     "name": "stderr",
     "output_type": "stream",
     "text": [
      "C:\\Users\\Tobi\\.conda\\envs\\env_gcs_py39\\lib\\site-packages\\equilibrator_cache\\reaction.py:616: UserWarning: Cannot calculate Legendre transform for Compound(id=118795, inchi_key=None): Compound(id=118795, inchi_key=None) has not yet been analyzed by ChemAxon.\n",
      "  warnings.warn(\n"
     ]
    },
    {
     "name": "stdout",
     "output_type": "stream",
     "text": [
      "Gibbs free energy of CDGUNPD is not reliable\n",
      "Determination of reaction direction failed\n",
      "-3 1\n",
      "3AMACHYD\n",
      "1 1\n",
      "ACPPAT140\n"
     ]
    },
    {
     "name": "stderr",
     "output_type": "stream",
     "text": [
      "C:\\Users\\Tobi\\.conda\\envs\\env_gcs_py39\\lib\\site-packages\\equilibrator_cache\\reaction.py:616: UserWarning: Cannot calculate Legendre transform for Compound(id=118265, inchi_key=None): Compound(id=118265, inchi_key=None) has not yet been analyzed by ChemAxon.\n",
      "  warnings.warn(\n",
      "C:\\Users\\Tobi\\.conda\\envs\\env_gcs_py39\\lib\\site-packages\\equilibrator_cache\\reaction.py:616: UserWarning: Cannot calculate Legendre transform for Compound(id=858, inchi_key=None): Compound(id=858, inchi_key=None) has not yet been analyzed by ChemAxon.\n",
      "  warnings.warn(\n",
      "C:\\Users\\Tobi\\.conda\\envs\\env_gcs_py39\\lib\\site-packages\\equilibrator_cache\\reaction.py:616: UserWarning: Cannot calculate Legendre transform for Compound(id=74406, inchi_key=None): Compound(id=74406, inchi_key=None) has not yet been analyzed by ChemAxon.\n",
      "  warnings.warn(\n",
      "C:\\Users\\Tobi\\.conda\\envs\\env_gcs_py39\\lib\\site-packages\\equilibrator_cache\\reaction.py:616: UserWarning: Cannot calculate Legendre transform for Compound(id=118265, inchi_key=None): Compound(id=118265, inchi_key=None) has not yet been analyzed by ChemAxon.\n",
      "  warnings.warn(\n"
     ]
    },
    {
     "name": "stdout",
     "output_type": "stream",
     "text": [
      "Gibbs free energy of ACPPAT140 is not reliable\n",
      "Determination of reaction direction failed\n",
      "-3 1\n",
      "APG3PAT140\n",
      "Gibbs free energy of APG3PAT140 is not reliable\n",
      "Determination of reaction direction failed\n",
      "-3 1\n",
      "LDGUNPD\n",
      "Gibbs free energy of LDGUNPD is not reliable\n",
      "Determination of reaction direction failed\n",
      "-3 1\n",
      "APG3PAT141\n"
     ]
    },
    {
     "name": "stderr",
     "output_type": "stream",
     "text": [
      "C:\\Users\\Tobi\\.conda\\envs\\env_gcs_py39\\lib\\site-packages\\equilibrator_cache\\reaction.py:616: UserWarning: Cannot calculate Legendre transform for Compound(id=118266, inchi_key=None): Compound(id=118266, inchi_key=None) has not yet been analyzed by ChemAxon.\n",
      "  warnings.warn(\n",
      "C:\\Users\\Tobi\\.conda\\envs\\env_gcs_py39\\lib\\site-packages\\equilibrator_cache\\reaction.py:616: UserWarning: Cannot calculate Legendre transform for Compound(id=74623, inchi_key=None): Compound(id=74623, inchi_key=None) has not yet been analyzed by ChemAxon.\n",
      "  warnings.warn(\n"
     ]
    },
    {
     "name": "stdout",
     "output_type": "stream",
     "text": [
      "Gibbs free energy of APG3PAT141 is not reliable\n",
      "Determination of reaction direction failed\n",
      "-3 1\n",
      "APG3PAT181\n"
     ]
    },
    {
     "name": "stderr",
     "output_type": "stream",
     "text": [
      "C:\\Users\\Tobi\\.conda\\envs\\env_gcs_py39\\lib\\site-packages\\equilibrator_cache\\reaction.py:616: UserWarning: Cannot calculate Legendre transform for Compound(id=118186, inchi_key=None): Compound(id=118186, inchi_key=None) has not yet been analyzed by ChemAxon.\n",
      "  warnings.warn(\n",
      "C:\\Users\\Tobi\\.conda\\envs\\env_gcs_py39\\lib\\site-packages\\equilibrator_cache\\reaction.py:616: UserWarning: Cannot calculate Legendre transform for Compound(id=74622, inchi_key=None): Compound(id=74622, inchi_key=None) has not yet been analyzed by ChemAxon.\n",
      "  warnings.warn(\n",
      "C:\\Users\\Tobi\\.conda\\envs\\env_gcs_py39\\lib\\site-packages\\equilibrator_cache\\reaction.py:616: UserWarning: Cannot calculate Legendre transform for Compound(id=131783, inchi_key=None): Compound(id=131783, inchi_key=None) has not yet been analyzed by ChemAxon.\n",
      "  warnings.warn(\n",
      "C:\\Users\\Tobi\\.conda\\envs\\env_gcs_py39\\lib\\site-packages\\equilibrator_cache\\reaction.py:616: UserWarning: Cannot calculate Legendre transform for Compound(id=118265, inchi_key=None): Compound(id=118265, inchi_key=None) has not yet been analyzed by ChemAxon.\n",
      "  warnings.warn(\n"
     ]
    },
    {
     "name": "stdout",
     "output_type": "stream",
     "text": [
      "Gibbs free energy of APG3PAT181 is not reliable\n",
      "Determination of reaction direction failed\n",
      "-3 1\n",
      "APH140\n",
      "Gibbs free energy of APH140 is not reliable\n",
      "Determination of reaction direction failed\n",
      "-3 1\n",
      "APH160\n"
     ]
    },
    {
     "name": "stderr",
     "output_type": "stream",
     "text": [
      "C:\\Users\\Tobi\\.conda\\envs\\env_gcs_py39\\lib\\site-packages\\equilibrator_cache\\reaction.py:616: UserWarning: Cannot calculate Legendre transform for Compound(id=118147, inchi_key=None): Compound(id=118147, inchi_key=None) has not yet been analyzed by ChemAxon.\n",
      "  warnings.warn(\n",
      "C:\\Users\\Tobi\\.conda\\envs\\env_gcs_py39\\lib\\site-packages\\equilibrator_cache\\reaction.py:616: UserWarning: Cannot calculate Legendre transform for Compound(id=117989, inchi_key=None): Compound(id=117989, inchi_key=None) has not yet been analyzed by ChemAxon.\n",
      "  warnings.warn(\n",
      "C:\\Users\\Tobi\\.conda\\envs\\env_gcs_py39\\lib\\site-packages\\equilibrator_cache\\reaction.py:616: UserWarning: Cannot calculate Legendre transform for Compound(id=117990, inchi_key=None): Compound(id=117990, inchi_key=None) has not yet been analyzed by ChemAxon.\n",
      "  warnings.warn(\n",
      "C:\\Users\\Tobi\\.conda\\envs\\env_gcs_py39\\lib\\site-packages\\equilibrator_cache\\reaction.py:616: UserWarning: Cannot calculate Legendre transform for Compound(id=117988, inchi_key=None): Compound(id=117988, inchi_key=None) has not yet been analyzed by ChemAxon.\n",
      "  warnings.warn(\n",
      "C:\\Users\\Tobi\\.conda\\envs\\env_gcs_py39\\lib\\site-packages\\equilibrator_cache\\reaction.py:616: UserWarning: Cannot calculate Legendre transform for Compound(id=117987, inchi_key=None): Compound(id=117987, inchi_key=None) has not yet been analyzed by ChemAxon.\n",
      "  warnings.warn(\n",
      "C:\\Users\\Tobi\\.conda\\envs\\env_gcs_py39\\lib\\site-packages\\equilibrator_cache\\reaction.py:616: UserWarning: Cannot calculate Legendre transform for Compound(id=117989, inchi_key=None): Compound(id=117989, inchi_key=None) has not yet been analyzed by ChemAxon.\n",
      "  warnings.warn(\n",
      "C:\\Users\\Tobi\\.conda\\envs\\env_gcs_py39\\lib\\site-packages\\equilibrator_cache\\reaction.py:616: UserWarning: Cannot calculate Legendre transform for Compound(id=117990, inchi_key=None): Compound(id=117990, inchi_key=None) has not yet been analyzed by ChemAxon.\n",
      "  warnings.warn(\n"
     ]
    },
    {
     "name": "stdout",
     "output_type": "stream",
     "text": [
      "Gibbs free energy of APH160 is not reliable\n",
      "Determination of reaction direction failed\n",
      "-3 1\n",
      "SCYSDS\n",
      "Gibbs free energy of SCYSDS is not reliable\n",
      "Determination of reaction direction failed\n",
      "-3 1\n",
      "S2FE2SS\n",
      "Gibbs free energy of S2FE2SS is not reliable\n",
      "Determination of reaction direction failed\n",
      "-3 1\n",
      "S4FE4SR\n"
     ]
    },
    {
     "name": "stderr",
     "output_type": "stream",
     "text": [
      "C:\\Users\\Tobi\\.conda\\envs\\env_gcs_py39\\lib\\site-packages\\equilibrator_cache\\reaction.py:616: UserWarning: Cannot calculate Legendre transform for Compound(id=119097, inchi_key=None): Compound(id=119097, inchi_key=None) has not yet been analyzed by ChemAxon.\n",
      "  warnings.warn(\n",
      "C:\\Users\\Tobi\\.conda\\envs\\env_gcs_py39\\lib\\site-packages\\equilibrator_cache\\reaction.py:616: UserWarning: Cannot calculate Legendre transform for Compound(id=119096, inchi_key=None): Compound(id=119096, inchi_key=None) has not yet been analyzed by ChemAxon.\n",
      "  warnings.warn(\n"
     ]
    },
    {
     "name": "stdout",
     "output_type": "stream",
     "text": [
      "Gibbs free energy of S4FE4SR is not reliable\n",
      "Determination of reaction direction failed\n",
      "-3 1\n",
      "CCGS\n",
      "Gibbs free energy of CCGS is not reliable\n",
      "Determination of reaction direction failed\n",
      "-3 1\n",
      "SELR\n",
      "Gibbs free energy of SELR is not reliable\n",
      "Determination of reaction direction failed\n",
      "-3 1\n",
      "REPHACCOAI\n"
     ]
    },
    {
     "name": "stderr",
     "output_type": "stream",
     "text": [
      "C:\\Users\\Tobi\\.conda\\envs\\env_gcs_py39\\lib\\site-packages\\equilibrator_cache\\reaction.py:616: UserWarning: Cannot calculate Legendre transform for Compound(id=119087, inchi_key=None): Compound(id=119087, inchi_key=None) has not yet been analyzed by ChemAxon.\n",
      "  warnings.warn(\n",
      "C:\\Users\\Tobi\\.conda\\envs\\env_gcs_py39\\lib\\site-packages\\equilibrator_cache\\reaction.py:616: UserWarning: Cannot calculate Legendre transform for Compound(id=858, inchi_key=None): Compound(id=858, inchi_key=None) has not yet been analyzed by ChemAxon.\n",
      "  warnings.warn(\n",
      "C:\\Users\\Tobi\\.conda\\envs\\env_gcs_py39\\lib\\site-packages\\equilibrator_cache\\reaction.py:616: UserWarning: Cannot calculate Legendre transform for Compound(id=131966, inchi_key=None): Compound(id=131966, inchi_key=None) has not yet been analyzed by ChemAxon.\n",
      "  warnings.warn(\n",
      "C:\\Users\\Tobi\\.conda\\envs\\env_gcs_py39\\lib\\site-packages\\equilibrator_cache\\reaction.py:616: UserWarning: Cannot calculate Legendre transform for Compound(id=118266, inchi_key=None): Compound(id=118266, inchi_key=None) has not yet been analyzed by ChemAxon.\n",
      "  warnings.warn(\n"
     ]
    },
    {
     "name": "stdout",
     "output_type": "stream",
     "text": [
      "Gibbs free energy of REPHACCOAI is not reliable\n",
      "Determination of reaction direction failed\n",
      "-3 0\n",
      "ACPPAT141\n",
      "Gibbs free energy of ACPPAT141 is not reliable\n",
      "Determination of reaction direction failed\n",
      "-3 1\n",
      "ACPPAT180\n"
     ]
    },
    {
     "name": "stderr",
     "output_type": "stream",
     "text": [
      "C:\\Users\\Tobi\\.conda\\envs\\env_gcs_py39\\lib\\site-packages\\equilibrator_cache\\reaction.py:616: UserWarning: Cannot calculate Legendre transform for Compound(id=118185, inchi_key=None): Compound(id=118185, inchi_key=None) has not yet been analyzed by ChemAxon.\n",
      "  warnings.warn(\n",
      "C:\\Users\\Tobi\\.conda\\envs\\env_gcs_py39\\lib\\site-packages\\equilibrator_cache\\reaction.py:616: UserWarning: Cannot calculate Legendre transform for Compound(id=858, inchi_key=None): Compound(id=858, inchi_key=None) has not yet been analyzed by ChemAxon.\n",
      "  warnings.warn(\n",
      "C:\\Users\\Tobi\\.conda\\envs\\env_gcs_py39\\lib\\site-packages\\equilibrator_cache\\reaction.py:616: UserWarning: Cannot calculate Legendre transform for Compound(id=2695, inchi_key=None): Compound(id=2695, inchi_key=None) has not yet been analyzed by ChemAxon.\n",
      "  warnings.warn(\n",
      "C:\\Users\\Tobi\\.conda\\envs\\env_gcs_py39\\lib\\site-packages\\equilibrator_cache\\reaction.py:616: UserWarning: Cannot calculate Legendre transform for Compound(id=118185, inchi_key=None): Compound(id=118185, inchi_key=None) has not yet been analyzed by ChemAxon.\n",
      "  warnings.warn(\n"
     ]
    },
    {
     "name": "stdout",
     "output_type": "stream",
     "text": [
      "Gibbs free energy of ACPPAT180 is not reliable\n",
      "Determination of reaction direction failed\n",
      "-3 1\n",
      "APG3PAT180\n",
      "Gibbs free energy of APG3PAT180 is not reliable\n",
      "Determination of reaction direction failed\n",
      "-3 1\n",
      "CDGR\n",
      "Gibbs free energy of CDGR is not reliable\n",
      "Determination of reaction direction failed\n",
      "-3 1\n",
      "S2FE2ST\n"
     ]
    },
    {
     "name": "stderr",
     "output_type": "stream",
     "text": [
      "C:\\Users\\Tobi\\.conda\\envs\\env_gcs_py39\\lib\\site-packages\\equilibrator_cache\\reaction.py:616: UserWarning: Cannot calculate Legendre transform for Compound(id=121952, inchi_key=None): Compound(id=121952, inchi_key=None) has not yet been analyzed by ChemAxon.\n",
      "  warnings.warn(\n",
      "C:\\Users\\Tobi\\.conda\\envs\\env_gcs_py39\\lib\\site-packages\\equilibrator_cache\\reaction.py:616: UserWarning: Cannot calculate Legendre transform for Compound(id=117988, inchi_key=None): Compound(id=117988, inchi_key=None) has not yet been analyzed by ChemAxon.\n",
      "  warnings.warn(\n",
      "C:\\Users\\Tobi\\.conda\\envs\\env_gcs_py39\\lib\\site-packages\\equilibrator_cache\\reaction.py:616: UserWarning: Cannot calculate Legendre transform for Compound(id=117987, inchi_key=None): Compound(id=117987, inchi_key=None) has not yet been analyzed by ChemAxon.\n",
      "  warnings.warn(\n"
     ]
    },
    {
     "name": "stdout",
     "output_type": "stream",
     "text": [
      "Gibbs free energy of S2FE2ST is not reliable\n",
      "Determination of reaction direction failed\n",
      "-3 1\n",
      "BWCOS\n"
     ]
    },
    {
     "name": "stderr",
     "output_type": "stream",
     "text": [
      "C:\\Users\\Tobi\\.conda\\envs\\env_gcs_py39\\lib\\site-packages\\equilibrator_cache\\reaction.py:616: UserWarning: Cannot calculate Legendre transform for Compound(id=119112, inchi_key=None): Compound(id=119112, inchi_key=None) has not yet been analyzed by ChemAxon.\n",
      "  warnings.warn(\n",
      "C:\\Users\\Tobi\\.conda\\envs\\env_gcs_py39\\lib\\site-packages\\equilibrator_cache\\reaction.py:616: UserWarning: Cannot calculate Legendre transform for Compound(id=119111, inchi_key=None): Compound(id=119111, inchi_key=None) has not yet been analyzed by ChemAxon.\n",
      "  warnings.warn(\n",
      "C:\\Users\\Tobi\\.conda\\envs\\env_gcs_py39\\lib\\site-packages\\equilibrator_cache\\reaction.py:616: UserWarning: Cannot calculate Legendre transform for Compound(id=5301, inchi_key=None): Compound(id=5301, inchi_key=None) has not yet been analyzed by ChemAxon.\n",
      "  warnings.warn(\n",
      "C:\\Users\\Tobi\\.conda\\envs\\env_gcs_py39\\lib\\site-packages\\equilibrator_cache\\reaction.py:616: UserWarning: Cannot calculate Legendre transform for Compound(id=116676, inchi_key=None): Compound(id=116676, inchi_key=None) has not yet been analyzed by ChemAxon.\n",
      "  warnings.warn(\n"
     ]
    },
    {
     "name": "stdout",
     "output_type": "stream",
     "text": [
      "Gibbs free energy of BWCOS is not reliable\n",
      "Determination of reaction direction failed\n",
      "-3 1\n",
      "RNTR4c2\n",
      "Gibbs free energy of RNTR4c2 is not reliable\n",
      "Determination of reaction direction failed\n",
      "-3 1\n",
      "BWCOGDS1\n"
     ]
    },
    {
     "name": "stderr",
     "output_type": "stream",
     "text": [
      "C:\\Users\\Tobi\\.conda\\envs\\env_gcs_py39\\lib\\site-packages\\equilibrator_cache\\reaction.py:616: UserWarning: Cannot calculate Legendre transform for Compound(id=119113, inchi_key=None): Compound(id=119113, inchi_key=None) has not yet been analyzed by ChemAxon.\n",
      "  warnings.warn(\n",
      "C:\\Users\\Tobi\\.conda\\envs\\env_gcs_py39\\lib\\site-packages\\equilibrator_cache\\reaction.py:616: UserWarning: Cannot calculate Legendre transform for Compound(id=119112, inchi_key=None): Compound(id=119112, inchi_key=None) has not yet been analyzed by ChemAxon.\n",
      "  warnings.warn(\n"
     ]
    },
    {
     "name": "stdout",
     "output_type": "stream",
     "text": [
      "Gibbs free energy of BWCOGDS1 is not reliable\n",
      "Determination of reaction direction failed\n",
      "-3 1\n",
      "DHNPTE\n"
     ]
    },
    {
     "name": "stderr",
     "output_type": "stream",
     "text": [
      "C:\\Users\\Tobi\\.conda\\envs\\env_gcs_py39\\lib\\site-packages\\equilibrator_cache\\reaction.py:616: UserWarning: Cannot calculate Legendre transform for Compound(id=118842, inchi_key=None): Compound(id=118842, inchi_key=None) has not yet been analyzed by ChemAxon.\n",
      "  warnings.warn(\n"
     ]
    },
    {
     "name": "stdout",
     "output_type": "stream",
     "text": [
      "Gibbs free energy of DHNPTE is not reliable\n",
      "Determination of reaction direction failed\n",
      "-3 0\n",
      "DHMPTR\n"
     ]
    },
    {
     "name": "stderr",
     "output_type": "stream",
     "text": [
      "C:\\Users\\Tobi\\.conda\\envs\\env_gcs_py39\\lib\\site-packages\\equilibrator_cache\\reaction.py:616: UserWarning: Cannot calculate Legendre transform for Compound(id=118842, inchi_key=None): Compound(id=118842, inchi_key=None) has not yet been analyzed by ChemAxon.\n",
      "  warnings.warn(\n"
     ]
    },
    {
     "name": "stdout",
     "output_type": "stream",
     "text": [
      "Gibbs free energy of DHMPTR is not reliable\n",
      "Determination of reaction direction failed\n",
      "-3 1\n",
      "FESR\n"
     ]
    },
    {
     "name": "stderr",
     "output_type": "stream",
     "text": [
      "C:\\Users\\Tobi\\.conda\\envs\\env_gcs_py39\\lib\\site-packages\\equilibrator_cache\\reaction.py:616: UserWarning: Cannot calculate Legendre transform for Compound(id=118073, inchi_key=None): Compound(id=118073, inchi_key=None) has not yet been analyzed by ChemAxon.\n",
      "  warnings.warn(\n"
     ]
    },
    {
     "name": "stdout",
     "output_type": "stream",
     "text": [
      "Gibbs free energy of FESR is not reliable\n",
      "Determination of reaction direction failed\n",
      "-3 1\n",
      "OXCOAHDH\n",
      "0 1\n",
      "DHACOAH\n",
      "0 0\n",
      "MSAR\n",
      "1 1\n",
      "S4FE4ST\n",
      "Gibbs free energy of S4FE4ST is not reliable\n",
      "Determination of reaction direction failed\n",
      "-3 1\n",
      "THFAT\n"
     ]
    },
    {
     "name": "stderr",
     "output_type": "stream",
     "text": [
      "C:\\Users\\Tobi\\.conda\\envs\\env_gcs_py39\\lib\\site-packages\\equilibrator_cache\\reaction.py:616: UserWarning: Cannot calculate Legendre transform for Compound(id=119096, inchi_key=None): Compound(id=119096, inchi_key=None) has not yet been analyzed by ChemAxon.\n",
      "  warnings.warn(\n",
      "C:\\Users\\Tobi\\.conda\\envs\\env_gcs_py39\\lib\\site-packages\\equilibrator_cache\\reaction.py:616: UserWarning: Cannot calculate Legendre transform for Compound(id=117987, inchi_key=None): Compound(id=117987, inchi_key=None) has not yet been analyzed by ChemAxon.\n",
      "  warnings.warn(\n"
     ]
    },
    {
     "name": "stdout",
     "output_type": "stream",
     "text": [
      "-1 1\n",
      "FOMETRi\n",
      "1 1\n",
      "S2FE2SS2\n",
      "Gibbs free energy of S2FE2SS2 is not reliable\n",
      "Determination of reaction direction failed\n",
      "-3 1\n",
      "GDPTPDP\n",
      "1 1\n",
      "LIPOS\n"
     ]
    },
    {
     "name": "stderr",
     "output_type": "stream",
     "text": [
      "C:\\Users\\Tobi\\.conda\\envs\\env_gcs_py39\\lib\\site-packages\\equilibrator_cache\\reaction.py:616: UserWarning: Cannot calculate Legendre transform for Compound(id=119097, inchi_key=None): Compound(id=119097, inchi_key=None) has not yet been analyzed by ChemAxon.\n",
      "  warnings.warn(\n",
      "C:\\Users\\Tobi\\.conda\\envs\\env_gcs_py39\\lib\\site-packages\\equilibrator_cache\\reaction.py:616: UserWarning: Cannot calculate Legendre transform for Compound(id=117988, inchi_key=None): Compound(id=117988, inchi_key=None) has not yet been analyzed by ChemAxon.\n",
      "  warnings.warn(\n",
      "C:\\Users\\Tobi\\.conda\\envs\\env_gcs_py39\\lib\\site-packages\\equilibrator_cache\\reaction.py:616: UserWarning: Cannot calculate Legendre transform for Compound(id=117989, inchi_key=None): Compound(id=117989, inchi_key=None) has not yet been analyzed by ChemAxon.\n",
      "  warnings.warn(\n",
      "C:\\Users\\Tobi\\.conda\\envs\\env_gcs_py39\\lib\\site-packages\\equilibrator_cache\\reaction.py:616: UserWarning: Cannot calculate Legendre transform for Compound(id=117990, inchi_key=None): Compound(id=117990, inchi_key=None) has not yet been analyzed by ChemAxon.\n",
      "  warnings.warn(\n",
      "C:\\Users\\Tobi\\.conda\\envs\\env_gcs_py39\\lib\\site-packages\\equilibrator_cache\\reaction.py:616: UserWarning: Cannot calculate Legendre transform for Compound(id=118161, inchi_key=None): Compound(id=118161, inchi_key=None) has not yet been analyzed by ChemAxon.\n",
      "  warnings.warn(\n",
      "C:\\Users\\Tobi\\.conda\\envs\\env_gcs_py39\\lib\\site-packages\\equilibrator_cache\\reaction.py:616: UserWarning: Cannot calculate Legendre transform for Compound(id=118188, inchi_key=None): Compound(id=118188, inchi_key=None) has not yet been analyzed by ChemAxon.\n",
      "  warnings.warn(\n",
      "C:\\Users\\Tobi\\.conda\\envs\\env_gcs_py39\\lib\\site-packages\\equilibrator_cache\\reaction.py:616: UserWarning: Cannot calculate Legendre transform for Compound(id=121952, inchi_key=None): Compound(id=121952, inchi_key=None) has not yet been analyzed by ChemAxon.\n",
      "  warnings.warn(\n"
     ]
    },
    {
     "name": "stdout",
     "output_type": "stream",
     "text": [
      "Gibbs free energy of LIPOS is not reliable\n",
      "Determination of reaction direction failed\n",
      "-3 1\n",
      "ACPPAT120\n"
     ]
    },
    {
     "name": "stderr",
     "output_type": "stream",
     "text": [
      "C:\\Users\\Tobi\\.conda\\envs\\env_gcs_py39\\lib\\site-packages\\equilibrator_cache\\reaction.py:616: UserWarning: Cannot calculate Legendre transform for Compound(id=118136, inchi_key=None): Compound(id=118136, inchi_key=None) has not yet been analyzed by ChemAxon.\n",
      "  warnings.warn(\n",
      "C:\\Users\\Tobi\\.conda\\envs\\env_gcs_py39\\lib\\site-packages\\equilibrator_cache\\reaction.py:616: UserWarning: Cannot calculate Legendre transform for Compound(id=858, inchi_key=None): Compound(id=858, inchi_key=None) has not yet been analyzed by ChemAxon.\n",
      "  warnings.warn(\n",
      "C:\\Users\\Tobi\\.conda\\envs\\env_gcs_py39\\lib\\site-packages\\equilibrator_cache\\reaction.py:616: UserWarning: Cannot calculate Legendre transform for Compound(id=74420, inchi_key=None): Compound(id=74420, inchi_key=None) has not yet been analyzed by ChemAxon.\n",
      "  warnings.warn(\n",
      "C:\\Users\\Tobi\\.conda\\envs\\env_gcs_py39\\lib\\site-packages\\equilibrator_cache\\reaction.py:616: UserWarning: Cannot calculate Legendre transform for Compound(id=858, inchi_key=None): Compound(id=858, inchi_key=None) has not yet been analyzed by ChemAxon.\n",
      "  warnings.warn(\n",
      "C:\\Users\\Tobi\\.conda\\envs\\env_gcs_py39\\lib\\site-packages\\equilibrator_cache\\reaction.py:616: UserWarning: Cannot calculate Legendre transform for Compound(id=74464, inchi_key=None): Compound(id=74464, inchi_key=None) has not yet been analyzed by ChemAxon.\n",
      "  warnings.warn(\n",
      "C:\\Users\\Tobi\\.conda\\envs\\env_gcs_py39\\lib\\site-packages\\equilibrator_cache\\reaction.py:616: UserWarning: Cannot calculate Legendre transform for Compound(id=118188, inchi_key=None): Compound(id=118188, inchi_key=None) has not yet been analyzed by ChemAxon.\n",
      "  warnings.warn(\n"
     ]
    },
    {
     "name": "stdout",
     "output_type": "stream",
     "text": [
      "Gibbs free energy of ACPPAT120 is not reliable\n",
      "Determination of reaction direction failed\n",
      "-3 1\n",
      "LIPOCT\n",
      "Gibbs free energy of LIPOCT is not reliable\n",
      "Determination of reaction direction failed\n",
      "-3 1\n",
      "LIPATPT\n",
      "Gibbs free energy of LIPATPT is not reliable\n",
      "Determination of reaction direction failed\n",
      "-3 1\n",
      "LIPAMPL\n",
      "Gibbs free energy of LIPAMPL is not reliable\n",
      "Determination of reaction direction failed\n",
      "-3 1\n",
      "ALDD19xr\n",
      "1 0\n",
      "MMM\n",
      "0 1\n",
      "MOGDS\n"
     ]
    },
    {
     "name": "stderr",
     "output_type": "stream",
     "text": [
      "C:\\Users\\Tobi\\.conda\\envs\\env_gcs_py39\\lib\\site-packages\\equilibrator_cache\\reaction.py:616: UserWarning: Cannot calculate Legendre transform for Compound(id=118161, inchi_key=None): Compound(id=118161, inchi_key=None) has not yet been analyzed by ChemAxon.\n",
      "  warnings.warn(\n",
      "C:\\Users\\Tobi\\.conda\\envs\\env_gcs_py39\\lib\\site-packages\\equilibrator_cache\\reaction.py:616: UserWarning: Cannot calculate Legendre transform for Compound(id=48703, inchi_key=None): Compound(id=48703, inchi_key=None) has not yet been analyzed by ChemAxon.\n",
      "  warnings.warn(\n"
     ]
    },
    {
     "name": "stdout",
     "output_type": "stream",
     "text": [
      "Gibbs free energy of MOGDS is not reliable\n",
      "Determination of reaction direction failed\n",
      "-3 1\n",
      "CPH4S\n",
      "Gibbs free energy of CPH4S is not reliable\n",
      "Determination of reaction direction failed\n",
      "-3 1\n",
      "WCOS\n"
     ]
    },
    {
     "name": "stderr",
     "output_type": "stream",
     "text": [
      "C:\\Users\\Tobi\\.conda\\envs\\env_gcs_py39\\lib\\site-packages\\equilibrator_cache\\reaction.py:616: UserWarning: Cannot calculate Legendre transform for Compound(id=119111, inchi_key=None): Compound(id=119111, inchi_key=None) has not yet been analyzed by ChemAxon.\n",
      "  warnings.warn(\n"
     ]
    },
    {
     "name": "stdout",
     "output_type": "stream",
     "text": [
      "Gibbs free energy of WCOS is not reliable\n",
      "Determination of reaction direction failed\n",
      "-3 1\n",
      "SHCHCS3\n",
      "1 1\n",
      "PYK4\n",
      "0 1\n",
      "NADPHXD\n",
      "\tMetabolite nadphx__S_c not known in BIGG namespace\n",
      "\tnadphx__S_c found in KEGG namespace\n",
      "1 1\n",
      "NADPHXE\n",
      "\tMetabolite nadphx__R_c not known in BIGG namespace\n",
      "\tnadphx__R_c found in KEGG namespace\n",
      "\tMetabolite nadphx__S_c not known in BIGG namespace\n",
      "\tnadphx__S_c found in KEGG namespace\n",
      "0 0\n",
      "3OXCOAT\n",
      "1 1\n",
      "URACPAH\n",
      "Gibbs free energy of URACPAH is not reliable\n",
      "Determination of reaction direction failed\n",
      "-3 1\n",
      "FE3DHBZS3R\n"
     ]
    },
    {
     "name": "stderr",
     "output_type": "stream",
     "text": [
      "C:\\Users\\Tobi\\.conda\\envs\\env_gcs_py39\\lib\\site-packages\\equilibrator_cache\\reaction.py:616: UserWarning: Cannot calculate Legendre transform for Compound(id=116735, inchi_key=None): Compound(id=116735, inchi_key=None) has not yet been analyzed by ChemAxon.\n",
      "  warnings.warn(\n",
      "C:\\Users\\Tobi\\.conda\\envs\\env_gcs_py39\\lib\\site-packages\\equilibrator_cache\\reaction.py:616: UserWarning: Cannot calculate Legendre transform for Compound(id=117053, inchi_key=None): Compound(id=117053, inchi_key=None) has not yet been analyzed by ChemAxon.\n",
      "  warnings.warn(\n"
     ]
    },
    {
     "name": "stdout",
     "output_type": "stream",
     "text": [
      "Gibbs free energy of FE3DHBZS3R is not reliable\n",
      "Determination of reaction direction failed\n",
      "-3 1\n",
      "DXYLTD\n",
      "\tMetabolite 2ddara_c not known in BIGG namespace\n",
      "\t2ddara_c found in KEGG namespace\n",
      "\tMetabolite dxylnt_c not known in BIGG namespace\n",
      "\tdxylnt_c found in KEGG namespace\n",
      "1 0\n",
      "2DDARAA\n",
      "\tMetabolite 2ddara_c not known in BIGG namespace\n",
      "\t2ddara_c found in KEGG namespace\n",
      "0 0\n",
      "2DGULRGx\n",
      "Gibbs free energy of 2DGULRGx is not reliable\n",
      "Determination of reaction direction failed\n",
      "-3 1\n",
      "2DGULRGy\n",
      "Gibbs free energy of 2DGULRGy is not reliable\n",
      "Determination of reaction direction failed\n",
      "-3 1\n",
      "AP4AS\n",
      "1 1\n",
      "GNP\n",
      "1 1\n",
      "ALLTAMH2\n",
      "\tMetabolite urdgci_c not known in BIGG namespace\n"
     ]
    },
    {
     "name": "stderr",
     "output_type": "stream",
     "text": [
      "C:\\Users\\Tobi\\.conda\\envs\\env_gcs_py39\\lib\\site-packages\\equilibrator_cache\\reaction.py:616: UserWarning: Cannot calculate Legendre transform for Compound(id=88419, inchi_key=None): Compound(id=88419, inchi_key=None) has not yet been analyzed by ChemAxon.\n",
      "  warnings.warn(\n",
      "C:\\Users\\Tobi\\.conda\\envs\\env_gcs_py39\\lib\\site-packages\\equilibrator_cache\\reaction.py:616: UserWarning: Cannot calculate Legendre transform for Compound(id=88419, inchi_key=None): Compound(id=88419, inchi_key=None) has not yet been analyzed by ChemAxon.\n",
      "  warnings.warn(\n"
     ]
    },
    {
     "name": "stdout",
     "output_type": "stream",
     "text": [
      "Determination of reaction direction failed\n",
      "-3 1\n",
      "UGCIAMH\n",
      "\tMetabolite urdgci_c not known in BIGG namespace\n",
      "Determination of reaction direction failed\n",
      "-3 1\n",
      "POAACR\n",
      "Gibbs free energy of POAACR is not reliable\n",
      "Determination of reaction direction failed\n",
      "-3 1\n",
      "METGLCUR\n",
      "\tMetabolite metglcur_c not known in BIGG namespace\n",
      "Determination of reaction direction failed\n",
      "-3 1\n",
      "ACOAD1fr\n",
      "1 1\n",
      "FEENTERES\n"
     ]
    },
    {
     "name": "stderr",
     "output_type": "stream",
     "text": [
      "C:\\Users\\Tobi\\.conda\\envs\\env_gcs_py39\\lib\\site-packages\\equilibrator_cache\\reaction.py:616: UserWarning: Cannot calculate Legendre transform for Compound(id=117053, inchi_key=None): Compound(id=117053, inchi_key=None) has not yet been analyzed by ChemAxon.\n",
      "  warnings.warn(\n"
     ]
    },
    {
     "name": "stdout",
     "output_type": "stream",
     "text": [
      "Gibbs free energy of FEENTERES is not reliable\n",
      "Determination of reaction direction failed\n",
      "-3 1\n",
      "FEENTERR4\n",
      "1 1\n",
      "ALR2x\n",
      "0 1\n",
      "13PPDH2\n",
      "1 0\n",
      "APCS\n",
      "Gibbs free energy of APCS is not reliable\n",
      "Determination of reaction direction failed\n",
      "-3 1\n",
      "ACPPAT181\n",
      "Gibbs free energy of ACPPAT181 is not reliable\n",
      "Determination of reaction direction failed\n",
      "-3 1\n",
      "SQVOSI\n",
      "\tMetabolite sf_c not known in BIGG namespace\n"
     ]
    },
    {
     "name": "stderr",
     "output_type": "stream",
     "text": [
      "C:\\Users\\Tobi\\.conda\\envs\\env_gcs_py39\\lib\\site-packages\\equilibrator_cache\\reaction.py:616: UserWarning: Cannot calculate Legendre transform for Compound(id=858, inchi_key=None): Compound(id=858, inchi_key=None) has not yet been analyzed by ChemAxon.\n",
      "  warnings.warn(\n",
      "C:\\Users\\Tobi\\.conda\\envs\\env_gcs_py39\\lib\\site-packages\\equilibrator_cache\\reaction.py:616: UserWarning: Cannot calculate Legendre transform for Compound(id=118186, inchi_key=None): Compound(id=118186, inchi_key=None) has not yet been analyzed by ChemAxon.\n",
      "  warnings.warn(\n",
      "C:\\Users\\Tobi\\.conda\\envs\\env_gcs_py39\\lib\\site-packages\\equilibrator_cache\\reaction.py:616: UserWarning: Cannot calculate Legendre transform for Compound(id=74433, inchi_key=None): Compound(id=74433, inchi_key=None) has not yet been analyzed by ChemAxon.\n",
      "  warnings.warn(\n"
     ]
    },
    {
     "name": "stdout",
     "output_type": "stream",
     "text": [
      "Determination of reaction direction failed\n",
      "-3 1\n",
      "6D6SPA\n",
      "\tMetabolite sfp_c not known in BIGG namespace\n",
      "Determination of reaction direction failed\n",
      "-3 1\n",
      "GHBDHx\n",
      "0 0\n",
      "APPLDHr\n",
      "0 0\n",
      "APH141\n",
      "Gibbs free energy of APH141 is not reliable\n",
      "Determination of reaction direction failed\n",
      "-3 1\n",
      "AI2K\n",
      "\tMetabolite dhptdp_c not known in BIGG namespace\n"
     ]
    },
    {
     "name": "stderr",
     "output_type": "stream",
     "text": [
      "C:\\Users\\Tobi\\.conda\\envs\\env_gcs_py39\\lib\\site-packages\\equilibrator_cache\\reaction.py:616: UserWarning: Cannot calculate Legendre transform for Compound(id=609, inchi_key=None): Compound(id=609, inchi_key=None) has not yet been analyzed by ChemAxon.\n",
      "  warnings.warn(\n",
      "C:\\Users\\Tobi\\.conda\\envs\\env_gcs_py39\\lib\\site-packages\\equilibrator_cache\\reaction.py:616: UserWarning: Cannot calculate Legendre transform for Compound(id=118266, inchi_key=None): Compound(id=118266, inchi_key=None) has not yet been analyzed by ChemAxon.\n",
      "  warnings.warn(\n"
     ]
    },
    {
     "name": "stdout",
     "output_type": "stream",
     "text": [
      "\tdhptdp_c found in KEGG namespace\n",
      "1 1\n",
      "G2PP\n",
      "1 1\n",
      "APH161\n"
     ]
    },
    {
     "name": "stderr",
     "output_type": "stream",
     "text": [
      "C:\\Users\\Tobi\\.conda\\envs\\env_gcs_py39\\lib\\site-packages\\equilibrator_cache\\reaction.py:616: UserWarning: Cannot calculate Legendre transform for Compound(id=118148, inchi_key=None): Compound(id=118148, inchi_key=None) has not yet been analyzed by ChemAxon.\n",
      "  warnings.warn(\n",
      "C:\\Users\\Tobi\\.conda\\envs\\env_gcs_py39\\lib\\site-packages\\equilibrator_cache\\reaction.py:616: UserWarning: Cannot calculate Legendre transform for Compound(id=879, inchi_key=None): Compound(id=879, inchi_key=None) has not yet been analyzed by ChemAxon.\n",
      "  warnings.warn(\n"
     ]
    },
    {
     "name": "stdout",
     "output_type": "stream",
     "text": [
      "Gibbs free energy of APH161 is not reliable\n",
      "Determination of reaction direction failed\n",
      "-3 1\n",
      "SHGO\n",
      "1 1\n",
      "ACOXT\n",
      "1 0\n",
      "2HESR\n",
      "\tMetabolite dtgcl_c not known in BIGG namespace\n",
      "Determination of reaction direction failed\n",
      "-3 1\n",
      "CHOLID\n",
      "\tMetabolite dhcholn_c not known in BIGG namespace\n",
      "KEGG query result could not be saved.\n",
      "\tdhcholn_c found in KEGG namespace\n",
      "Determination of reaction direction failed\n",
      "-3 1\n",
      "NADHXD\n",
      "\tMetabolite nadhx__S_c not known in BIGG namespace\n",
      "KEGG query result could not be saved.\n",
      "KEGG query result could not be saved.\n",
      "KEGG query result could not be saved.\n",
      "KEGG query result could not be saved.\n",
      "KEGG query result could not be saved.\n",
      "KEGG query result could not be saved.\n",
      "KEGG query result could not be saved.\n",
      "KEGG query result could not be saved.\n",
      "\tUnkown compound encountered: nadhx__S_c (Adenosine 5'-(3-{5-[(2S)-5-carbamoyl-2-hydroxy-3,4-dihydropyridin-1-yl]-5-deoxy-?-D-ribofuranosyl} dihydrogen diphosphate))\n",
      "Determination of reaction direction failed\n",
      "-3 1\n",
      "4ABZGLUH\n",
      "\tMetabolite 4abzglu_c not known in BIGG namespace\n",
      "Determination of reaction direction failed\n",
      "-3 0\n",
      "APH180\n",
      "Gibbs free energy of APH180 is not reliable\n",
      "Determination of reaction direction failed\n",
      "-3 1\n",
      "NADHXE\n",
      "\tMetabolite nadhx__R_c not known in BIGG namespace\n"
     ]
    },
    {
     "name": "stderr",
     "output_type": "stream",
     "text": [
      "C:\\Users\\Tobi\\.conda\\envs\\env_gcs_py39\\lib\\site-packages\\equilibrator_cache\\reaction.py:616: UserWarning: Cannot calculate Legendre transform for Compound(id=118185, inchi_key=None): Compound(id=118185, inchi_key=None) has not yet been analyzed by ChemAxon.\n",
      "  warnings.warn(\n"
     ]
    },
    {
     "name": "stdout",
     "output_type": "stream",
     "text": [
      "\tnadhx__R_c found in KEGG namespace\n",
      "\tMetabolite nadhx__S_c not known in BIGG namespace\n",
      "\tUnkown compound encountered: nadhx__S_c (Adenosine 5'-(3-{5-[(2S)-5-carbamoyl-2-hydroxy-3,4-dihydropyridin-1-yl]-5-deoxy-?-D-ribofuranosyl} dihydrogen diphosphate))\n",
      "Determination of reaction direction failed\n",
      "-3 0\n",
      "PHDA\n",
      "\tMetabolite 5phdt_c not known in BIGG namespace\n",
      "\t5phdt_c found in KEGG namespace\n",
      "\tMetabolite 5phua_c not known in BIGG namespace\n",
      "\tUnkown compound encountered: 5phua_c (Phenylureidoacetic acid)\n",
      "Determination of reaction direction failed\n",
      "-3 1\n",
      "TEO2M\n",
      "\tMetabolite mteo2_c not known in BIGG namespace\n",
      "\tUnkown compound encountered: mteo2_c (Methanetelluronate)\n",
      "Determination of reaction direction failed\n",
      "-3 1\n",
      "PACOAT\n",
      "1 1\n",
      "PYK2\n",
      "0 1\n",
      "PYK3\n",
      "0 1\n",
      "APH181\n",
      "Gibbs free energy of APH181 is not reliable\n",
      "Determination of reaction direction failed\n",
      "-3 1\n",
      "DHPTDNR\n"
     ]
    },
    {
     "name": "stderr",
     "output_type": "stream",
     "text": [
      "C:\\Users\\Tobi\\.conda\\envs\\env_gcs_py39\\lib\\site-packages\\equilibrator_cache\\reaction.py:616: UserWarning: Cannot calculate Legendre transform for Compound(id=118186, inchi_key=None): Compound(id=118186, inchi_key=None) has not yet been analyzed by ChemAxon.\n",
      "  warnings.warn(\n"
     ]
    },
    {
     "name": "stdout",
     "output_type": "stream",
     "text": [
      "Gibbs free energy of DHPTDNR is not reliable\n",
      "Determination of reaction direction failed\n",
      "-3 1\n",
      "DHPTDNRN\n",
      "Gibbs free energy of DHPTDNRN is not reliable\n",
      "Determination of reaction direction failed\n",
      "-3 1\n",
      "GTHPi\n",
      "1 1\n",
      "SEPHCHCS\n",
      "1 1\n",
      "DHNCOAS\n"
     ]
    },
    {
     "name": "stderr",
     "output_type": "stream",
     "text": [
      "C:\\Users\\Tobi\\.conda\\envs\\env_gcs_py39\\lib\\site-packages\\equilibrator_cache\\reaction.py:616: UserWarning: Cannot calculate Legendre transform for Compound(id=118312, inchi_key=None): Compound(id=118312, inchi_key=None) has not yet been analyzed by ChemAxon.\n",
      "  warnings.warn(\n"
     ]
    },
    {
     "name": "stdout",
     "output_type": "stream",
     "text": [
      "Gibbs free energy of DHNCOAS is not reliable\n",
      "Determination of reaction direction failed\n",
      "-3 1\n",
      "PCNO\n",
      "-1 0\n",
      "PYK6\n",
      "1 1\n",
      "DHNCOAT\n"
     ]
    },
    {
     "name": "stderr",
     "output_type": "stream",
     "text": [
      "C:\\Users\\Tobi\\.conda\\envs\\env_gcs_py39\\lib\\site-packages\\equilibrator_cache\\reaction.py:616: UserWarning: Cannot calculate Legendre transform for Compound(id=118312, inchi_key=None): Compound(id=118312, inchi_key=None) has not yet been analyzed by ChemAxon.\n",
      "  warnings.warn(\n"
     ]
    },
    {
     "name": "stdout",
     "output_type": "stream",
     "text": [
      "Gibbs free energy of DHNCOAT is not reliable\n",
      "Determination of reaction direction failed\n",
      "-3 1\n",
      "HPACOAT\n",
      "\tMetabolite 34dphacoa_c not known in BIGG namespace\n",
      "Determination of reaction direction failed\n",
      "-3 1\n",
      "DC6PDA\n",
      "\tMetabolite mchtbs6p_c not known in BIGG namespace\n",
      "Determination of reaction direction failed\n",
      "-3 1\n",
      "5DGLCNR\n",
      "1 1\n",
      "PAI2I\n",
      "\tMetabolite dhptdd_c not known in BIGG namespace\n",
      "\tdhptdd_c found in KEGG namespace\n",
      "\tMetabolite dhptdp_c not known in BIGG namespace\n",
      "\tdhptdp_c found in KEGG namespace\n",
      "0 1\n",
      "CURR\n",
      "\tMetabolite cur_c not known in BIGG namespace\n",
      "\tcur_c found in KEGG namespace\n",
      "\tMetabolite dhcur_c not known in BIGG namespace\n",
      "\tdhcur_c found in KEGG namespace\n",
      "0 1\n",
      "LKDRA\n",
      "\tMetabolite lkdr_c not known in BIGG namespace\n",
      "\tlkdr_c found in KEGG namespace\n",
      "0 0\n",
      "METNA\n",
      "\tMetabolite acmet_c not known in BIGG namespace\n",
      "\tacmet_c found in KEGG namespace\n",
      "1 0\n",
      "5DKGR\n",
      "0 0\n",
      "XYHDL\n",
      "\tMetabolite iprimv_c not known in BIGG namespace\n",
      "\tiprimv_c found in KEGG namespace\n",
      "0 1\n",
      "E4PP\n",
      "\tMetabolite erthrs_c not known in BIGG namespace\n",
      "\terthrs_c found in KEGG namespace\n",
      "1 1\n",
      "RU5PP\n",
      "1 1\n",
      "6D6SFK\n",
      "\tMetabolite sf_c not known in BIGG namespace\n",
      "Determination of reaction direction failed\n",
      "-3 1\n",
      "3SLAR\n",
      "\tMetabolite dhps_c not known in BIGG namespace\n",
      "\tdhps_c found in KEGG namespace\n",
      "\tMetabolite sla_c not known in BIGG namespace\n",
      "\tsla_c found in KEGG namespace\n",
      "0 1\n",
      "ARHGDx\n",
      "\tMetabolite r2hglut_c not known in BIGG namespace\n",
      "\tr2hglut_c found in KEGG namespace\n",
      "0 0\n",
      "CPL\n",
      "\tMetabolite prcp_c not known in BIGG namespace\n",
      "KEGG query result could not be saved.\n",
      "\tprcp_c found in KEGG namespace\n",
      "Determination of reaction direction failed\n",
      "-3 1\n",
      "CYSTA\n",
      "0 1\n",
      "FE3DCITR5\n"
     ]
    },
    {
     "name": "stderr",
     "output_type": "stream",
     "text": [
      "C:\\Users\\Tobi\\.conda\\envs\\env_gcs_py39\\lib\\site-packages\\equilibrator_cache\\reaction.py:616: UserWarning: Cannot calculate Legendre transform for Compound(id=117161, inchi_key=None): Compound(id=117161, inchi_key=None) has not yet been analyzed by ChemAxon.\n",
      "  warnings.warn(\n"
     ]
    },
    {
     "name": "stdout",
     "output_type": "stream",
     "text": [
      "Gibbs free energy of FE3DCITR5 is not reliable\n",
      "Determination of reaction direction failed\n",
      "-3 1\n",
      "4HTHRA\n",
      "0 0\n",
      "GAPP\n",
      "1 1\n",
      "INOSTO\n",
      "1 0\n",
      "HPYRP\n",
      "1 1\n",
      "PSURIK\n",
      "\tMetabolite psuri_c not known in BIGG namespace\n",
      "\tpsuri_c found in KEGG namespace\n"
     ]
    },
    {
     "name": "stderr",
     "output_type": "stream",
     "text": [
      "C:\\Users\\Tobi\\.conda\\envs\\env_gcs_py39\\lib\\site-packages\\equilibrator_cache\\reaction.py:616: UserWarning: Cannot calculate Legendre transform for Compound(id=119079, inchi_key=None): Compound(id=119079, inchi_key=None) has not yet been analyzed by ChemAxon.\n",
      "  warnings.warn(\n",
      "C:\\Users\\Tobi\\.conda\\envs\\env_gcs_py39\\lib\\site-packages\\equilibrator_cache\\reaction.py:616: UserWarning: Cannot calculate Legendre transform for Compound(id=118136, inchi_key=None): Compound(id=118136, inchi_key=None) has not yet been analyzed by ChemAxon.\n",
      "  warnings.warn(\n"
     ]
    },
    {
     "name": "stdout",
     "output_type": "stream",
     "text": [
      "Gibbs free energy of PSURIK is not reliable\n",
      "Determination of reaction direction failed\n",
      "-3 1\n",
      "PAI2T\n",
      "\tMetabolite dhptdd_c not known in BIGG namespace\n",
      "\tdhptdd_c found in KEGG namespace\n",
      "1 1\n",
      "APG3PAT120\n",
      "Gibbs free energy of APG3PAT120 is not reliable\n",
      "Determination of reaction direction failed\n",
      "-3 1\n",
      "QUINDHyi\n",
      "-1 1\n",
      "DHCURR\n",
      "\tMetabolite thcur_c not known in BIGG namespace\n",
      "\tthcur_c found in KEGG namespace\n",
      "\tMetabolite dhcur_c not known in BIGG namespace\n",
      "\tdhcur_c found in KEGG namespace\n",
      "1 1\n",
      "RHMND\n",
      "\tMetabolite rhmn_c not known in BIGG namespace\n",
      "\trhmn_c found in KEGG namespace\n",
      "\tMetabolite lkdr_c not known in BIGG namespace\n",
      "\tlkdr_c found in KEGG namespace\n",
      "1 0\n",
      "3HBZCT\n",
      "\tMetabolite 3hbz_c not known in BIGG namespace\n",
      "\t3hbz_c found in KEGG namespace\n",
      "\tMetabolite 3hbzcoa_c not known in BIGG namespace\n",
      "\t3hbzcoa_c found in KEGG namespace\n",
      "1 1\n",
      "CXSAMS\n",
      "\tMetabolite cxsam_c not known in BIGG namespace\n",
      "Determination of reaction direction failed\n",
      "-3 1\n",
      "PNSPA\n",
      "\tMetabolite gmplys_c not known in BIGG namespace\n",
      "KEGG query result could not be saved.\n",
      "KEGG query result could not be saved.\n",
      "\tgmplys_c found in KEGG namespace\n",
      "Determination of reaction direction failed\n",
      "-3 1\n",
      "4HTHRK\n",
      "1 1\n",
      "AMPNTAT\n",
      "\tMetabolite acampnt_c not known in BIGG namespace\n",
      "Determination of reaction direction failed\n",
      "-3 1\n",
      "APH120\n",
      "Gibbs free energy of APH120 is not reliable\n",
      "Determination of reaction direction failed\n",
      "-3 1\n",
      "SQGH\n",
      "\tMetabolite sqg_c not known in BIGG namespace\n"
     ]
    },
    {
     "name": "stderr",
     "output_type": "stream",
     "text": [
      "C:\\Users\\Tobi\\.conda\\envs\\env_gcs_py39\\lib\\site-packages\\equilibrator_cache\\reaction.py:616: UserWarning: Cannot calculate Legendre transform for Compound(id=131802, inchi_key=None): Compound(id=131802, inchi_key=None) has not yet been analyzed by ChemAxon.\n",
      "  warnings.warn(\n",
      "C:\\Users\\Tobi\\.conda\\envs\\env_gcs_py39\\lib\\site-packages\\equilibrator_cache\\reaction.py:616: UserWarning: Cannot calculate Legendre transform for Compound(id=118136, inchi_key=None): Compound(id=118136, inchi_key=None) has not yet been analyzed by ChemAxon.\n",
      "  warnings.warn(\n"
     ]
    },
    {
     "name": "stdout",
     "output_type": "stream",
     "text": [
      "KEGG query result could not be saved.\n",
      "\tsqg_c found in KEGG namespace\n",
      "Determination of reaction direction failed\n",
      "-3 1\n",
      "QUINDH\n",
      "0 1\n",
      "ARMEPNS\n",
      "\tMetabolite mepn_c not known in BIGG namespace\n",
      "\tmepn_c found in KEGG namespace\n",
      "\tMetabolite rpntp_c not known in BIGG namespace\n",
      "KEGG query result could not be saved.\n",
      "Determination of reaction direction failed\n",
      "-3 1\n",
      "LCARSyi\n",
      "1 1\n",
      "MOCDS\n"
     ]
    },
    {
     "name": "stderr",
     "output_type": "stream",
     "text": [
      "C:\\Users\\Tobi\\.conda\\envs\\env_gcs_py39\\lib\\site-packages\\equilibrator_cache\\reaction.py:616: UserWarning: Cannot calculate Legendre transform for Compound(id=48703, inchi_key=None): Compound(id=48703, inchi_key=None) has not yet been analyzed by ChemAxon.\n",
      "  warnings.warn(\n"
     ]
    },
    {
     "name": "stdout",
     "output_type": "stream",
     "text": [
      "Gibbs free energy of MOCDS is not reliable\n",
      "Determination of reaction direction failed\n",
      "-3 1\n",
      "RPNTPH\n",
      "\tMetabolite prpmn_c not known in BIGG namespace\n",
      "KEGG query result could not be saved.\n",
      "Determination of reaction direction failed\n",
      "-3 1\n",
      "PRCPD\n",
      "\tMetabolite prcp_c not known in BIGG namespace\n",
      "\tprcp_c found in KEGG namespace\n",
      "Determination of reaction direction failed\n",
      "-3 1\n",
      "PROD3\n",
      "1 1\n",
      "F1PP\n",
      "1 1\n",
      "ACP1p\n",
      "1 1\n",
      "3HPADHi\n",
      "1 1\n",
      "2HPTCOAT\n",
      "\tMetabolite 2hptcl_c not known in BIGG namespace\n",
      "Determination of reaction direction failed\n",
      "-3 1\n",
      "MC6PH\n",
      "\tMetabolite mchtbs6p_c not known in BIGG namespace\n",
      "Determination of reaction direction failed\n",
      "-3 1\n",
      "FORCT\n",
      "0 0\n",
      "PACCOAE\n",
      "Gibbs free energy of PACCOAE is not reliable\n",
      "Determination of reaction direction failed\n",
      "-3 1\n",
      "OXDHCOAT\n",
      "1 1\n",
      "HADPCOADH3\n",
      "0 0\n",
      "PYROX\n",
      "Gibbs free energy of PYROX is not reliable\n",
      "Determination of reaction direction failed\n",
      "-3 1\n",
      "OCTNLL\n",
      "Gibbs free energy of OCTNLL is not reliable\n",
      "Determination of reaction direction failed\n",
      "-3 1\n"
     ]
    },
    {
     "name": "stderr",
     "output_type": "stream",
     "text": [
      "C:\\Users\\Tobi\\.conda\\envs\\env_gcs_py39\\lib\\site-packages\\equilibrator_cache\\reaction.py:616: UserWarning: Cannot calculate Legendre transform for Compound(id=119087, inchi_key=None): Compound(id=119087, inchi_key=None) has not yet been analyzed by ChemAxon.\n",
      "  warnings.warn(\n",
      "C:\\Users\\Tobi\\.conda\\envs\\env_gcs_py39\\lib\\site-packages\\equilibrator_cache\\reaction.py:616: UserWarning: Cannot calculate Legendre transform for Compound(id=118188, inchi_key=None): Compound(id=118188, inchi_key=None) has not yet been analyzed by ChemAxon.\n",
      "  warnings.warn(\n"
     ]
    },
    {
     "name": "stdout",
     "output_type": "stream",
     "text": [
      "\tNumber of heterologous reactions: 529\n"
     ]
    }
   ],
   "source": [
    "config.directionality_assessment = True\n",
    "model_hr_dir, model_hr = get_heterologous_reactions(\n",
    "    model,\n",
    "    config=config,\n",
    "    reprocess=True,\n",
    "    save_models=True,\n",
    "    model_path=\"Results\",\n",
    "    heterologous_models_id=['iML1515']\n",
    ")"
   ]
  }
 ],
 "metadata": {
  "kernelspec": {
   "display_name": "Python 3 (ipykernel)",
   "language": "python",
   "name": "python3"
  },
  "language_info": {
   "codemirror_mode": {
    "name": "ipython",
    "version": 3
   },
   "file_extension": ".py",
   "mimetype": "text/x-python",
   "name": "python",
   "nbconvert_exporter": "python",
   "pygments_lexer": "ipython3",
   "version": "3.9.12"
  },
  "toc-autonumbering": true
 },
 "nbformat": 4,
 "nbformat_minor": 5
}
