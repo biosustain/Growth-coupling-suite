{
 "cells": [
  {
   "cell_type": "markdown",
   "id": "ae7bb26d",
   "metadata": {},
   "source": [
    "# Growth Coupling Suite - Example use case\n",
    "Find strain designs that couple the succinate exchange reaction to growth in a reduced E. coli model"
   ]
  },
  {
   "cell_type": "code",
   "execution_count": 1,
   "id": "5cdee584",
   "metadata": {},
   "outputs": [
    {
     "name": "stdout",
     "output_type": "stream",
     "text": [
      "Set parameter Username\n",
      "Academic license - for non-commercial use only - expires 2023-08-05\n"
     ]
    }
   ],
   "source": [
    "from growth_coupling_suite.gcOpt_algorithm import gcOpt\n",
    "from growth_coupling_suite.strain_analysis.strain_design_analysis import StrainDesignAnalyzer\n",
    "import cobra"
   ]
  },
  {
   "cell_type": "markdown",
   "id": "0eabc3ba",
   "metadata": {},
   "source": [
    "# Load and check the config file"
   ]
  },
  {
   "cell_type": "code",
   "execution_count": 2,
   "id": "6d1b855b",
   "metadata": {},
   "outputs": [],
   "source": [
    "import gcOpt_config_file_single as config"
   ]
  },
  {
   "cell_type": "markdown",
   "id": "d0bab4b9",
   "metadata": {},
   "source": [
    "## Load and prepare the model"
   ]
  },
  {
   "cell_type": "code",
   "execution_count": 3,
   "id": "182a952e",
   "metadata": {},
   "outputs": [],
   "source": [
    "# load \"mid-scale\" metabolic model of E. coli (https://doi.org/10.1038/srep39647)\n",
    "model_name = \"ECC2.json\"\n",
    "model = cobra.io.load_json_model(\"Models/\" + model_name)\n",
    "\n",
    "# prepare model\n",
    "# set glucose uptake rate\n",
    "model.exchanges.EX_glc__D_e.lower_bound = -10\n",
    "# set oxygen uptake rate\n",
    "model.exchanges.EX_o2_e.lower_bound = -20\n",
    "# disable co2 uptake\n",
    "model.exchanges.EX_co2_e.lower_bound = 0"
   ]
  },
  {
   "cell_type": "markdown",
   "id": "84aca4bb",
   "metadata": {},
   "source": [
    "## Define the target reaction"
   ]
  },
  {
   "cell_type": "code",
   "execution_count": 4,
   "id": "623b2e1c",
   "metadata": {},
   "outputs": [],
   "source": [
    "#  define target reaction -> succinate exchange\n",
    "target_reaction = \"EX_succ_e\"\n",
    "\n",
    "# preapre gcOpt config\n",
    "config.exchanges_not_to_add.append(target_reaction)  "
   ]
  },
  {
   "cell_type": "markdown",
   "id": "f8c0ff52-bacd-4e92-bfef-09f8745db905",
   "metadata": {},
   "source": [
    "## Load heterologous reaction database model"
   ]
  },
  {
   "cell_type": "code",
   "execution_count": 5,
   "id": "2abbd08d-4ce0-4ed1-ac24-6615528132bf",
   "metadata": {},
   "outputs": [],
   "source": [
    "hr_database_model = cobra.io.load_json_model(\"Models/ECC2_hr_database_dir_assessed.json\")"
   ]
  },
  {
   "cell_type": "markdown",
   "id": "12167c8e",
   "metadata": {},
   "source": [
    "# Run a single gcOpt instance\n",
    "- The solver will still use multiple threads\n",
    "- A heterologous reaction database model is built from various BIGG models, if non is manually provided "
   ]
  },
  {
   "cell_type": "code",
   "execution_count": 6,
   "id": "475b6271",
   "metadata": {
    "scrolled": true,
    "tags": []
   },
   "outputs": [
    {
     "name": "stdout",
     "output_type": "stream",
     "text": [
      "Remove blocked reactions...\n",
      "Identify essential reactions...\n",
      "Remove metabolites from biomass equation:\n",
      "\t 2fe2s_c  coefficient:  -2.6e-05\n",
      "\t btn_c  coefficient:  -2e-06\n",
      "\t cobalt2_c  coefficient:  -2.5e-05\n",
      "\t mobd_c  coefficient:  -7e-06\n",
      "\t udcpdp_c  coefficient:  -5.5e-05\n",
      "Output directory: C:\\Users\\Tobi\\Github\\biosustain\\Growth-coupling-suite\\example/results_single/callback_solutions\n",
      "Dualize primal problem ...\n",
      "\tInner objective function minimizes EX_succ_e\n",
      "Add decision variables ...\n",
      "\tLink deletion decision variables ...\n",
      "Add inner optimality constraint (strong duality) ...\n",
      "Add intervention number constraints ...\n",
      "\tMaximum number of interventions: 5 out of 282\n",
      "\tRange of addin targets: 0-4 out of 223\n",
      "\tRange of cofeed targets: 0-1 out of 3\n",
      "\tRange of source targets: 1-1 out of 6\n",
      "\tRange of deletion targets: 0-4 out of 50\n",
      "Add outer objective function ...\n",
      "\tOuter objective function maximizes EX_succ_e\n"
     ]
    }
   ],
   "source": [
    "# load gcOpt class\n",
    "GCS = gcOpt.GCOpt(\n",
    "    model,\n",
    "    target_reaction,\n",
    "    hr_database_model=hr_database_model,\n",
    "    config=config,\n",
    "    build_gcopt_problem=True\n",
    ")"
   ]
  },
  {
   "cell_type": "code",
   "execution_count": null,
   "id": "fd27039d-c54b-4520-9705-d642d36ab1b3",
   "metadata": {
    "scrolled": true,
    "tags": []
   },
   "outputs": [
    {
     "name": "stdout",
     "output_type": "stream",
     "text": [
      "Set parameter OutputFlag to value 1\n",
      "Set parameter TimeLimit to value 60\n",
      "Set parameter Presolve to value 2\n",
      "Set parameter LogFile to value \"Gurobi log files/EX_succ_e_log\"\n",
      "Set parameter Threads to value 4\n",
      "Start solving MILP ...\n",
      "Gurobi Optimizer version 9.5.2 build v9.5.2rc0 (win64)\n",
      "Thread count: 12 physical cores, 24 logical processors, using up to 4 threads\n",
      "\n",
      "Warning: excessive time spent in model updates.\n",
      "Consider calling update less frequently.\n",
      "\n",
      "Optimize a model with 3306 rows, 4366 columns and 23940 nonzeros\n",
      "Model fingerprint: 0x9e608847\n",
      "Variable types: 4082 continuous, 284 integer (284 binary)\n",
      "Coefficient statistics:\n",
      "  Matrix range     [1e-03, 1e+03]\n",
      "  Objective range  [1e+00, 1e+00]\n",
      "  Bounds range     [3e-02, 1e+02]\n",
      "  RHS range        [3e-02, 1e+03]\n",
      "Presolve removed 977 rows and 865 columns\n",
      "Presolve time: 0.02s\n",
      "Presolved: 2329 rows, 3501 columns, 18503 nonzeros\n",
      "Variable types: 3217 continuous, 284 integer (283 binary)\n",
      "> Solution dismissed. Minimum objective function constraint violated.\n",
      "... saving callback solution []\n",
      "Found heuristic solution: objective -0.0000000\n",
      "Root relaxation presolve removed 3 rows and 3 columns\n",
      "Root relaxation presolved: 2326 rows, 3498 columns, 18483 nonzeros\n",
      "\n",
      "\n",
      "Root relaxation: objective 1.192160e+01, 658 iterations, 0.02 seconds (0.02 work units)\n",
      "\n",
      "    Nodes    |    Current Node    |     Objective Bounds      |     Work\n",
      " Expl Unexpl |  Obj  Depth IntInf | Incumbent    BestBd   Gap | It/Node Time\n",
      "\n",
      "     0     0   11.92160    0    3   -0.00000   11.92160      -     -    0s\n",
      "     0     0   11.92160    0    3   -0.00000   11.92160      -     -    0s\n",
      "     0     0   11.92160    0    3   -0.00000   11.92160      -     -    0s\n",
      "     0     2   11.92160    0    3   -0.00000   11.92160      -     -    0s\n",
      "\n",
      "> Evaluate callback solution ...\n",
      "... saving callback solution [G6PDH2r,FUM,F6PA,PAI2I__hr,source_glyc_e]\n",
      "*   92    40              14       0.3128520   11.92160  3711%   305    1s\n",
      "   624    80   11.92144   13    9    0.31285   11.92160  3711%   370    5s\n",
      "  1207   224   11.92144   19    4    0.31285   11.92160  3711%   367   10s\n",
      "\n",
      "> Evaluate callback solution ...\n",
      "... saving callback solution [MALS,TPI,FUM,SUCOAS,source_glc__D_e]\n",
      "H 1777   358                       0.4703094   11.92160  2435%   371   14s\n",
      "  1839   398     cutoff   40         0.47031   11.92160  2435%   373   16s\n",
      "\n",
      "> Evaluate callback solution ...\n",
      "... saving callback solution [FUM,PGK,ENO,TRDR__hr,source_glyc_e]\n",
      "* 2062   398              34       1.3107573   11.92160   810%   378   16s\n",
      "  2405   489   11.92144   36    5    1.31076   11.92160   810%   381   21s\n",
      "\n",
      "> Evaluate callback solution ...\n",
      "... saving callback solution [FUM,PGK,ENO,TRE6PP__hr,source_glyc_e]\n",
      "H 3503   512                       1.3107573   11.92155   810%   365   24s\n",
      "  3571   539   11.92144   33   14    1.31076   11.92155   810%   366   26s\n",
      "\n",
      "> Evaluate callback solution ...\n",
      "... saving callback solution [FUM,PGK,PGM,SUCOAS,source_glyc_e]\n",
      "H 3669   539                       1.4682147   11.92155   712%   365   26s\n",
      "\n",
      "> Evaluate callback solution ...\n",
      "... saving callback solution [FUM,PGK,PGM,SUCOAS,source_glyc_e]\n",
      "H 4147   552                       1.4682147   11.92149   712%   363   28s\n",
      "  4568   586   11.92144   23    4    1.46821   11.92144   712%   374   32s\n",
      "  5178   592   11.92144   22   14    1.46821   11.92144   712%   386   35s\n",
      "\n",
      "> Evaluate callback solution ...\n",
      "... saving callback solution [TPI,FUM,PGM,SUCOAS,source_glyc_e]\n",
      "H 5656   584                       2.3052303   11.92144   417%   398   39s\n",
      "  5795   591     cutoff   30         2.30523   11.92144   417%   402   42s\n"
     ]
    }
   ],
   "source": [
    "# solve gcOpt MILP problem\n",
    "GCS.optimize(init_DesignAnalyzer=False)"
   ]
  },
  {
   "cell_type": "markdown",
   "id": "e23562a1",
   "metadata": {},
   "source": [
    "# Analyze, save, and plot all results\n",
    "- duplicate solutions are dismissed\n",
    "- significant subset of interventions is determined for each design solution\n",
    "- key parameters are computed for each design (coupling strength, growth rate)\n",
    "- Flux spaces are plotted and saved for each design"
   ]
  },
  {
   "cell_type": "code",
   "execution_count": null,
   "id": "b09de6f4",
   "metadata": {
    "scrolled": true,
    "tags": []
   },
   "outputs": [],
   "source": [
    "sda = StrainDesignAnalyzer()\n",
    "\n",
    "# load all strain design solution files in a directory\n",
    "sda.load_strain_design_files_from_dir(\n",
    "    config.output_dir,\n",
    "    eval_gpr=True\n",
    "    )\n",
    "\n",
    "# summarize growth-coupling results\n",
    "gc_summary = sda.growth_coupling_summary(\n",
    "    results_filename=\"gcOpt_summary_result\",\n",
    "    results_dir=config.output_dir,\n",
    "    determine_significant_designs=True, # duplicate solutions are disregarded,\n",
    "                                        # design objects (deletions, add-ins, etc.) that do not contribute to the coupling are stripped from solution\n",
    "    save_results=True,\n",
    "    save_flux_space_plots=True,\n",
    "    eval_gpr=True\n",
    ")"
   ]
  },
  {
   "cell_type": "code",
   "execution_count": null,
   "id": "fd4a1152-fc38-4f87-b601-969f49c9c9ea",
   "metadata": {},
   "outputs": [],
   "source": [
    "gc_summary"
   ]
  }
 ],
 "metadata": {
  "kernelspec": {
   "display_name": "Python 3 (ipykernel)",
   "language": "python",
   "name": "python3"
  },
  "language_info": {
   "codemirror_mode": {
    "name": "ipython",
    "version": 3
   },
   "file_extension": ".py",
   "mimetype": "text/x-python",
   "name": "python",
   "nbconvert_exporter": "python",
   "pygments_lexer": "ipython3",
   "version": "3.9.12"
  },
  "widgets": {
   "application/vnd.jupyter.widget-state+json": {
    "state": {},
    "version_major": 2,
    "version_minor": 0
   }
  }
 },
 "nbformat": 4,
 "nbformat_minor": 5
}
