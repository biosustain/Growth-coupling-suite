{
 "cells": [
  {
   "cell_type": "markdown",
   "id": "ae7bb26d",
   "metadata": {},
   "source": [
    "# Growth Coupling Suite - Example use case\n",
    "Find strain designs that couple the succinate exchange reaction to growth in a reduced E. coli model"
   ]
  },
  {
   "cell_type": "code",
   "execution_count": 1,
   "id": "5cdee584",
   "metadata": {},
   "outputs": [
    {
     "name": "stdout",
     "output_type": "stream",
     "text": [
      "Set parameter Username\n",
      "Academic license - for non-commercial use only - expires 2025-10-30\n"
     ]
    }
   ],
   "source": [
    "from growth_coupling_suite.gcOpt_algorithm import gcOpt\n",
    "from growth_coupling_suite.strain_analysis.strain_design_analysis import StrainDesignAnalyzer\n",
    "import cobra"
   ]
  },
  {
   "cell_type": "markdown",
   "id": "0eabc3ba",
   "metadata": {},
   "source": [
    "# Load and check the config file"
   ]
  },
  {
   "cell_type": "code",
   "execution_count": 2,
   "id": "6d1b855b",
   "metadata": {},
   "outputs": [],
   "source": [
    "import gcOpt_config_file_single as config"
   ]
  },
  {
   "cell_type": "markdown",
   "id": "d0bab4b9",
   "metadata": {},
   "source": [
    "## Load and prepare the model"
   ]
  },
  {
   "cell_type": "code",
   "execution_count": 3,
   "id": "182a952e",
   "metadata": {},
   "outputs": [],
   "source": [
    "# load \"mid-scale\" metabolic model of E. coli (https://doi.org/10.1038/srep39647)\n",
    "model_name = \"ECC2.json\"\n",
    "model = cobra.io.load_json_model(\"Models/\" + model_name)\n",
    "\n",
    "# prepare model\n",
    "# set glucose uptake rate\n",
    "model.exchanges.EX_glc__D_e.lower_bound = -10\n",
    "# set oxygen uptake rate\n",
    "model.exchanges.EX_o2_e.lower_bound = -20\n",
    "# disable co2 uptake\n",
    "model.exchanges.EX_co2_e.lower_bound = 0"
   ]
  },
  {
   "cell_type": "markdown",
   "id": "84aca4bb",
   "metadata": {},
   "source": [
    "## Define the target reaction"
   ]
  },
  {
   "cell_type": "code",
   "execution_count": 4,
   "id": "623b2e1c",
   "metadata": {},
   "outputs": [],
   "source": [
    "#  define target reaction -> succinate exchange\n",
    "target_reaction = \"EX_succ_e\"\n",
    "\n",
    "# preapre gcOpt config\n",
    "config.exchanges_not_to_add.append(target_reaction)  "
   ]
  },
  {
   "cell_type": "markdown",
   "id": "f8c0ff52-bacd-4e92-bfef-09f8745db905",
   "metadata": {},
   "source": [
    "## Load heterologous reaction database model"
   ]
  },
  {
   "cell_type": "code",
   "execution_count": 5,
   "id": "2abbd08d-4ce0-4ed1-ac24-6615528132bf",
   "metadata": {},
   "outputs": [],
   "source": [
    "hr_database_model = cobra.io.load_json_model(\"Models/ECC2_hr_database_dir_assessed.json\")"
   ]
  },
  {
   "cell_type": "markdown",
   "id": "12167c8e",
   "metadata": {},
   "source": [
    "# Run a single gcOpt instance\n",
    "- The solver will still use multiple threads\n",
    "- A heterologous reaction database model is built from various BIGG models, if not manually provided. It will be saved in the folder \"heterologous_reaction_database\" in the main directory."
   ]
  },
  {
   "cell_type": "code",
   "execution_count": 6,
   "id": "475b6271",
   "metadata": {
    "scrolled": true,
    "tags": []
   },
   "outputs": [
    {
     "name": "stdout",
     "output_type": "stream",
     "text": [
      "\t 326  deletion targets\n",
      "\t 529  addin targets\n",
      "\t 3  cofeed targets\n",
      "\t 6  source targets\n",
      "Remove blocked reactions...\n",
      "\t 312  reactions blocked\n",
      "Identify essential reactions...\n",
      "\t 274  reactions essential\n",
      "Remove metabolites from biomass equation:\n",
      "\t 2fe2s_c  coefficient:  -2.6e-05\n",
      "\t btn_c  coefficient:  -2e-06\n",
      "\t cobalt2_c  coefficient:  -2.5e-05\n",
      "\t mobd_c  coefficient:  -7e-06\n",
      "\t udcpdp_c  coefficient:  -5.5e-05\n",
      "Output directory: c:\\Users\\Tobi\\GitHub\\Growth-coupling-suite\\example/results_single/callback_solutions\n",
      "Dualize primal problem ...\n",
      "\tInner objective function minimizes EX_succ_e\n",
      "Add decision variables ...\n",
      "\tLink deletion decision variables ...\n",
      "Add inner optimality constraint (strong duality) ...\n",
      "Add intervention number constraints ...\n",
      "\tMaximum number of interventions: 5 out of 282\n",
      "\tRange of addin targets: 0-4 out of 223\n",
      "\tRange of cofeed targets: 0-1 out of 3\n",
      "\tRange of source targets: 1-1 out of 6\n",
      "\tRange of deletion targets: 0-4 out of 50\n",
      "Add outer objective function ...\n",
      "\tOuter objective function maximizes EX_succ_e\n"
     ]
    }
   ],
   "source": [
    "# load gcOpt class\n",
    "GCS = gcOpt.GCOpt(\n",
    "    model,\n",
    "    target_reaction,\n",
    "    hr_database_model=hr_database_model,\n",
    "    config=config,\n",
    "    build_gcopt_problem=True\n",
    ")"
   ]
  },
  {
   "cell_type": "code",
   "execution_count": 7,
   "id": "fd27039d-c54b-4520-9705-d642d36ab1b3",
   "metadata": {
    "scrolled": true,
    "tags": []
   },
   "outputs": [
    {
     "name": "stdout",
     "output_type": "stream",
     "text": [
      "Set parameter OutputFlag to value 1\n",
      "Set parameter TimeLimit to value 60\n",
      "Set parameter Presolve to value 2\n",
      "Set parameter LogFile to value \"Gurobi log files/EX_succ_e_log\"\n",
      "Set parameter Threads to value 4\n",
      "Start solving MILP ...\n",
      "Gurobi Optimizer version 9.5.2 build v9.5.2rc0 (win64)\n",
      "Thread count: 4 physical cores, 8 logical processors, using up to 4 threads\n",
      "\n",
      "Warning: excessive time spent in model updates.\n",
      "Consider calling update less frequently.\n",
      "\n",
      "Optimize a model with 3306 rows, 4366 columns and 23940 nonzeros\n",
      "Model fingerprint: 0x1c766903\n",
      "Variable types: 4082 continuous, 284 integer (284 binary)\n",
      "Coefficient statistics:\n",
      "  Matrix range     [1e-03, 1e+03]\n",
      "  Objective range  [1e+00, 1e+00]\n",
      "  Bounds range     [3e-02, 1e+02]\n",
      "  RHS range        [3e-02, 1e+03]\n",
      "Presolve removed 977 rows and 865 columns\n",
      "Presolve time: 0.04s\n",
      "Presolved: 2329 rows, 3501 columns, 18503 nonzeros\n",
      "Variable types: 3217 continuous, 284 integer (283 binary)\n",
      "> Solution dismissed. Minimum objective function constraint violated.\n",
      "... saving callback solution []\n",
      "Found heuristic solution: objective -0.0000000\n",
      "Root relaxation presolve removed 3 rows and 3 columns\n",
      "Root relaxation presolved: 2326 rows, 3498 columns, 18483 nonzeros\n",
      "\n",
      "\n",
      "Root relaxation: objective 1.192160e+01, 729 iterations, 0.05 seconds (0.02 work units)\n",
      "\n",
      "    Nodes    |    Current Node    |     Objective Bounds      |     Work\n",
      " Expl Unexpl |  Obj  Depth IntInf | Incumbent    BestBd   Gap | It/Node Time\n",
      "\n",
      "     0     0   11.92160    0    9   -0.00000   11.92160      -     -    0s\n",
      "     0     0   11.92160    0    8   -0.00000   11.92160      -     -    0s\n",
      "     0     0   11.92160    0    8   -0.00000   11.92160      -     -    0s\n",
      "     0     0   11.92160    0    8   -0.00000   11.92160      -     -    0s\n",
      "     0     2   11.92160    0    8   -0.00000   11.92160      -     -    0s\n",
      "   121    32     cutoff   20        -0.00000   11.92160      -   427    5s\n",
      "\n",
      "> Evaluate callback solution ...\n",
      "... saving callback solution [SUCOAS,FUM,GLYCK,PAI2I__hr,source_glyc_e]\n",
      "*  209    39              29       0.4703094   11.92160  2435%   430    6s\n",
      "   380    85    3.87372   38    3    0.47031   11.92160  2435%   378   10s\n",
      "   584    91    9.84274   27    6    0.47031   11.92160  2435%   419   15s\n",
      "   803   109     cutoff   24         0.47031   11.92160  2435%   410   20s\n",
      "  1094   231   11.88673   14   28    0.47031   11.92160  2435%   413   26s\n",
      "  1358   328   11.88012   32    2    0.47031   11.92160  2435%   392   31s\n",
      "  1719   395   11.92149   23    4    0.47031   11.92160  2435%   365   38s\n",
      "  1918   474   11.92160   21    6    0.47031   11.92160  2435%   358   42s\n",
      "  2228   514   11.92144   29   10    0.47031   11.92160  2435%   341   47s\n",
      "\n",
      "> Evaluate callback solution ...\n",
      "... saving callback solution [MDH,SUCDi,ENO,TPI,source_glyc_e]\n",
      "* 2259   508              45       1.9352442   11.92160   516%   341   47s\n",
      "  2558   601   11.92160   26    6    1.93524   11.92160   516%   329   53s\n",
      "\n",
      "> Evaluate callback solution ...\n",
      "... saving callback solution [MDH,FUM,ENO,TPI,source_glyc_e]\n",
      "H 2705   601                       2.1477729   11.92160   455%   320   53s\n",
      "  2970   646     cutoff   33         2.14777   11.92160   455%   313   59s\n",
      "\n",
      "> Evaluate callback solution ...\n",
      "\n",
      "\t Solution violates phenotypic constraints\n",
      "\t\tLink MDH, FUM, RPE, ENO, source_lac__D_e with lazy constraints\n",
      "... saving callback solution [MDH,FUM,RPE,ENO,source_lac__D_e]\n",
      "\n",
      "> Evaluate callback solution ...\n",
      "\n",
      "\t Solution violates phenotypic constraints\n",
      "\t\tLink SUCOAS, MDH, FUM, ENO, source_lac__D_e with lazy constraints\n",
      "... saving callback solution [SUCOAS,MDH,FUM,ENO,source_lac__D_e]\n",
      "  3350   660     cutoff   30         2.14777   11.92155   455%   304   60s\n",
      "\n",
      "Cutting planes:\n",
      "  Gomory: 5\n",
      "  Cover: 3\n",
      "  Implied bound: 2\n",
      "  MIR: 1\n",
      "  Flow cover: 5\n",
      "  Flow path: 2\n",
      "  Relax-and-lift: 1\n",
      "  Lazy constraints: 2\n",
      "\n",
      "Explored 3402 nodes (1031404 simplex iterations) in 60.02 seconds (51.28 work units)\n",
      "Thread count was 4 (of 8 available processors)\n",
      "\n",
      "Solution count 4: 2.14777 1.93524 0.470309 -0 \n",
      "\n",
      "Time limit reached\n",
      "Best objective 2.147772900000e+00, best bound 1.192154730113e+01, gap 455.0655%\n",
      "\n",
      "User-callback calls 10333, time in user-callback 0.50 sec\n"
     ]
    }
   ],
   "source": [
    "# solve gcOpt MILP problem\n",
    "GCS.optimize(init_DesignAnalyzer=False)"
   ]
  },
  {
   "cell_type": "markdown",
   "id": "e23562a1",
   "metadata": {},
   "source": [
    "# Analyze, save, and plot all results\n",
    "- duplicate solutions are dismissed\n",
    "- significant subset of interventions is determined for each design solution\n",
    "- key parameters are computed for each design (coupling strength, growth rate)\n",
    "- Flux spaces are plotted and saved for each design"
   ]
  },
  {
   "cell_type": "code",
   "execution_count": 8,
   "id": "b09de6f4",
   "metadata": {
    "scrolled": true,
    "tags": []
   },
   "outputs": [
    {
     "name": "stdout",
     "output_type": "stream",
     "text": [
      "Load file: gcOpt_solution_dict_EX_succ_e_succinate_gc_i5_k4_a4_cs1_cf1.pickle\n",
      "Reverse previous strain design...\n",
      "Reverse previous strain design...\n",
      "Apply parsed strain design (design_1)...\n",
      "\tSet medium composition\n",
      "\tSet design interventions\n",
      "Reverse previous strain design...\n",
      "Apply parsed strain design (design_2)...\n",
      "\tSet medium composition\n",
      "\tSet design interventions\n",
      "Reverse previous strain design...\n",
      "Apply parsed strain design (design_3)...\n",
      "\tSet medium composition\n",
      "\tSet design interventions\n",
      "\tDuplicate design solutions encountered\n",
      "Reverse previous strain design...\n",
      "Apply parsed strain design (design_1)...\n",
      "\tSet medium composition\n",
      "\tSet design interventions\n",
      "Target reaction: BIOMASS_Ec_iJO1366_core_53p95M\n",
      "Reverse previous strain design...\n",
      "Apply parsed strain design (design_2)...\n",
      "\tSet medium composition\n",
      "\tSet design interventions\n",
      "Target reaction: BIOMASS_Ec_iJO1366_core_53p95M\n",
      "Reverse previous strain design...\n",
      "Apply parsed strain design (design_3)...\n",
      "\tSet medium composition\n",
      "\tSet design interventions\n",
      "Target reaction: BIOMASS_Ec_iJO1366_core_53p95M\n",
      "Reverse previous strain design...\n",
      "Apply parsed strain design (design_4)...\n",
      "\tSet medium composition\n",
      "\tSet design interventions\n",
      "Target reaction: BIOMASS_Ec_iJO1366_core_53p95M\n"
     ]
    }
   ],
   "source": [
    "sda = StrainDesignAnalyzer()\n",
    "\n",
    "# load all strain design solution files in a directory\n",
    "sda.load_strain_design_files_from_dir(\n",
    "    config.output_dir,\n",
    "    eval_gpr=True\n",
    "    )\n",
    "\n",
    "# summarize growth-coupling results\n",
    "gc_summary = sda.growth_coupling_summary(\n",
    "    results_filename=\"gcOpt_summary_result\",\n",
    "    results_dir=config.output_dir,\n",
    "    determine_significant_designs=True, # duplicate solutions are disregarded,\n",
    "                                        # design objects (deletions, add-ins, etc.) that do not contribute to the coupling are stripped from solution\n",
    "    save_results=True,\n",
    "    save_flux_space_plots=True,\n",
    "    eval_gpr=True\n",
    ")"
   ]
  },
  {
   "cell_type": "code",
   "execution_count": 9,
   "id": "fd4a1152-fc38-4f87-b601-969f49c9c9ea",
   "metadata": {},
   "outputs": [
    {
     "data": {
      "text/html": [
       "<div>\n",
       "<style scoped>\n",
       "    .dataframe tbody tr th:only-of-type {\n",
       "        vertical-align: middle;\n",
       "    }\n",
       "\n",
       "    .dataframe tbody tr th {\n",
       "        vertical-align: top;\n",
       "    }\n",
       "\n",
       "    .dataframe thead th {\n",
       "        text-align: right;\n",
       "    }\n",
       "</style>\n",
       "<table border=\"1\" class=\"dataframe\">\n",
       "  <thead>\n",
       "    <tr style=\"text-align: right;\">\n",
       "      <th></th>\n",
       "      <th>filename</th>\n",
       "      <th>key_in_file</th>\n",
       "      <th>objective_value</th>\n",
       "      <th>number_interventions</th>\n",
       "      <th>number_genetic_interventions</th>\n",
       "      <th>interventions</th>\n",
       "      <th>interventions_excluded</th>\n",
       "      <th>genetic_interventions</th>\n",
       "      <th>unique_genetic_interventions</th>\n",
       "      <th>carbon_uptake_bounds</th>\n",
       "      <th>mutables_flux_at_maximum_growth</th>\n",
       "      <th>coupling_strength</th>\n",
       "      <th>max_growth_rate</th>\n",
       "      <th>target_flux_at_maximum_growth</th>\n",
       "      <th>score</th>\n",
       "      <th>biomass_precursor_auxotrophy</th>\n",
       "    </tr>\n",
       "  </thead>\n",
       "  <tbody>\n",
       "    <tr>\n",
       "      <th>design_1</th>\n",
       "      <td>gcOpt_solution_dict_EX_succ_e_succinate_gc_i5_...</td>\n",
       "      <td>design_0</td>\n",
       "      <td>0.312843</td>\n",
       "      <td>2</td>\n",
       "      <td>3</td>\n",
       "      <td>FUM;source_glyc_e</td>\n",
       "      <td>SUCOAS;GLYCK;PAI2I__hr</td>\n",
       "      <td>b1612,b4122,b1611</td>\n",
       "      <td>b1612;b4122;b1611</td>\n",
       "      <td>source_glyc_e:-20.0</td>\n",
       "      <td>FUM:0.0,source_glyc_e:-20.0</td>\n",
       "      <td>0.068241</td>\n",
       "      <td>1.051551</td>\n",
       "      <td>1.096603</td>\n",
       "      <td>3.719866</td>\n",
       "      <td></td>\n",
       "    </tr>\n",
       "    <tr>\n",
       "      <th>design_2</th>\n",
       "      <td>gcOpt_solution_dict_EX_succ_e_succinate_gc_i5_...</td>\n",
       "      <td>design_1</td>\n",
       "      <td>0.470296</td>\n",
       "      <td>3</td>\n",
       "      <td>5</td>\n",
       "      <td>SUCOAS;FUM;source_glyc_e</td>\n",
       "      <td>GLYCK;PAI2I__hr</td>\n",
       "      <td>b0728,b0729;b1612,b4122,b1611</td>\n",
       "      <td>b0728;b0729;b1612;b4122;b1611</td>\n",
       "      <td>source_glyc_e:-20.0</td>\n",
       "      <td>SUCOAS:0.0,FUM:0.0,source_glyc_e:-20.0</td>\n",
       "      <td>0.099992</td>\n",
       "      <td>1.033603</td>\n",
       "      <td>1.620384</td>\n",
       "      <td>2.375906</td>\n",
       "      <td></td>\n",
       "    </tr>\n",
       "    <tr>\n",
       "      <th>design_3</th>\n",
       "      <td>gcOpt_solution_dict_EX_succ_e_succinate_gc_i5_...</td>\n",
       "      <td>design_2</td>\n",
       "      <td>1.935581</td>\n",
       "      <td>5</td>\n",
       "      <td>7</td>\n",
       "      <td>MDH;SUCDi;ENO;TPI;source_glyc_e</td>\n",
       "      <td></td>\n",
       "      <td>b3236;b0722,b0724,b0721,b0723;b2779;b3919</td>\n",
       "      <td>b3236;b0722;b0724;b0721;b0723;b2779;b3919</td>\n",
       "      <td>source_glyc_e:-20.0</td>\n",
       "      <td>MDH:0.0,SUCDi:0.0,ENO:0.0,TPI:0.0,source_glyc_...</td>\n",
       "      <td>0.224386</td>\n",
       "      <td>0.685363</td>\n",
       "      <td>4.422065</td>\n",
       "      <td>1.301557</td>\n",
       "      <td></td>\n",
       "    </tr>\n",
       "    <tr>\n",
       "      <th>design_4</th>\n",
       "      <td>gcOpt_solution_dict_EX_succ_e_succinate_gc_i5_...</td>\n",
       "      <td>design_4</td>\n",
       "      <td>2.148104</td>\n",
       "      <td>4</td>\n",
       "      <td>5</td>\n",
       "      <td>FUM;ENO;TPI;source_glyc_e</td>\n",
       "      <td>MDH</td>\n",
       "      <td>b1612,b4122,b1611;b2779;b3919</td>\n",
       "      <td>b1612;b4122;b1611;b2779;b3919</td>\n",
       "      <td>source_glyc_e:-20.0</td>\n",
       "      <td>FUM:0.0,ENO:0.0,TPI:0.0,source_glyc_e:-20.0</td>\n",
       "      <td>0.320756</td>\n",
       "      <td>0.679081</td>\n",
       "      <td>4.862616</td>\n",
       "      <td>1.660694</td>\n",
       "      <td></td>\n",
       "    </tr>\n",
       "  </tbody>\n",
       "</table>\n",
       "</div>"
      ],
      "text/plain": [
       "                                                   filename key_in_file  \\\n",
       "design_1  gcOpt_solution_dict_EX_succ_e_succinate_gc_i5_...    design_0   \n",
       "design_2  gcOpt_solution_dict_EX_succ_e_succinate_gc_i5_...    design_1   \n",
       "design_3  gcOpt_solution_dict_EX_succ_e_succinate_gc_i5_...    design_2   \n",
       "design_4  gcOpt_solution_dict_EX_succ_e_succinate_gc_i5_...    design_4   \n",
       "\n",
       "         objective_value number_interventions number_genetic_interventions  \\\n",
       "design_1        0.312843                    2                            3   \n",
       "design_2        0.470296                    3                            5   \n",
       "design_3        1.935581                    5                            7   \n",
       "design_4        2.148104                    4                            5   \n",
       "\n",
       "                            interventions  interventions_excluded  \\\n",
       "design_1                FUM;source_glyc_e  SUCOAS;GLYCK;PAI2I__hr   \n",
       "design_2         SUCOAS;FUM;source_glyc_e         GLYCK;PAI2I__hr   \n",
       "design_3  MDH;SUCDi;ENO;TPI;source_glyc_e                           \n",
       "design_4        FUM;ENO;TPI;source_glyc_e                     MDH   \n",
       "\n",
       "                              genetic_interventions  \\\n",
       "design_1                          b1612,b4122,b1611   \n",
       "design_2              b0728,b0729;b1612,b4122,b1611   \n",
       "design_3  b3236;b0722,b0724,b0721,b0723;b2779;b3919   \n",
       "design_4              b1612,b4122,b1611;b2779;b3919   \n",
       "\n",
       "                       unique_genetic_interventions carbon_uptake_bounds  \\\n",
       "design_1                          b1612;b4122;b1611  source_glyc_e:-20.0   \n",
       "design_2              b0728;b0729;b1612;b4122;b1611  source_glyc_e:-20.0   \n",
       "design_3  b3236;b0722;b0724;b0721;b0723;b2779;b3919  source_glyc_e:-20.0   \n",
       "design_4              b1612;b4122;b1611;b2779;b3919  source_glyc_e:-20.0   \n",
       "\n",
       "                            mutables_flux_at_maximum_growth coupling_strength  \\\n",
       "design_1                        FUM:0.0,source_glyc_e:-20.0          0.068241   \n",
       "design_2             SUCOAS:0.0,FUM:0.0,source_glyc_e:-20.0          0.099992   \n",
       "design_3  MDH:0.0,SUCDi:0.0,ENO:0.0,TPI:0.0,source_glyc_...          0.224386   \n",
       "design_4        FUM:0.0,ENO:0.0,TPI:0.0,source_glyc_e:-20.0          0.320756   \n",
       "\n",
       "         max_growth_rate target_flux_at_maximum_growth     score  \\\n",
       "design_1        1.051551                      1.096603  3.719866   \n",
       "design_2        1.033603                      1.620384  2.375906   \n",
       "design_3        0.685363                      4.422065  1.301557   \n",
       "design_4        0.679081                      4.862616  1.660694   \n",
       "\n",
       "         biomass_precursor_auxotrophy  \n",
       "design_1                               \n",
       "design_2                               \n",
       "design_3                               \n",
       "design_4                               "
      ]
     },
     "execution_count": 9,
     "metadata": {},
     "output_type": "execute_result"
    }
   ],
   "source": [
    "gc_summary"
   ]
  }
 ],
 "metadata": {
  "kernelspec": {
   "display_name": "gcs",
   "language": "python",
   "name": "python3"
  },
  "language_info": {
   "codemirror_mode": {
    "name": "ipython",
    "version": 3
   },
   "file_extension": ".py",
   "mimetype": "text/x-python",
   "name": "python",
   "nbconvert_exporter": "python",
   "pygments_lexer": "ipython3",
   "version": "3.9.21"
  },
  "widgets": {
   "application/vnd.jupyter.widget-state+json": {
    "state": {},
    "version_major": 2,
    "version_minor": 0
   }
  }
 },
 "nbformat": 4,
 "nbformat_minor": 5
}
