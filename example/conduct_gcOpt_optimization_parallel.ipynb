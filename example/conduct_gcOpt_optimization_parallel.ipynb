{
 "cells": [
  {
   "cell_type": "markdown",
   "id": "ae7bb26d",
   "metadata": {},
   "source": [
    "# Growth Coupling Suite - Example use case\n",
    "- Find strain designs that couple the succinate exchange reaction to growth in a reduced E. coli model\n",
    "- Make use of parallel computations\n",
    "- IT IS RECOMMENDED TO START PARALLEL COMPUTATIONS FROM THE SHELL USING THE .py SCRIPT"
   ]
  },
  {
   "cell_type": "code",
   "execution_count": null,
   "id": "5cdee584",
   "metadata": {},
   "outputs": [],
   "source": [
    "from growth_coupling_suite.gcOpt_algorithm import gcOpt\n",
    "from growth_coupling_suite.strain_analysis.strain_design_analysis import StrainDesignAnalyzer\n",
    "import cobra"
   ]
  },
  {
   "cell_type": "markdown",
   "id": "0eabc3ba",
   "metadata": {},
   "source": [
    "# Load and check the config file"
   ]
  },
  {
   "cell_type": "code",
   "execution_count": null,
   "id": "6d1b855b",
   "metadata": {},
   "outputs": [],
   "source": [
    "import gcOpt_config_file_parallel as config"
   ]
  },
  {
   "cell_type": "markdown",
   "id": "d0bab4b9",
   "metadata": {},
   "source": [
    "## Load and prepare the model"
   ]
  },
  {
   "cell_type": "code",
   "execution_count": null,
   "id": "182a952e",
   "metadata": {},
   "outputs": [],
   "source": [
    "# load \"mid-scale\" metabolic model of E. coli (https://doi.org/10.1038/srep39647)\n",
    "model_name = \"ECC2.json\"\n",
    "model = cobra.io.load_json_model(\"Models/\"+model_name)\n",
    "\n",
    "# prepare model\n",
    "# set glucose uptake rate\n",
    "model.exchanges.EX_glc__D_e.lower_bound = -10\n",
    "# set oxygen uptake rate\n",
    "model.exchanges.EX_o2_e.lower_bound = -20\n",
    "# disable co2 uptake\n",
    "model.exchanges.EX_co2_e.lower_bound = 0"
   ]
  },
  {
   "cell_type": "markdown",
   "id": "84aca4bb",
   "metadata": {},
   "source": [
    "## Define the target reaction"
   ]
  },
  {
   "cell_type": "code",
   "execution_count": null,
   "id": "623b2e1c",
   "metadata": {},
   "outputs": [],
   "source": [
    "#  define target reaction -> succinate exchange\n",
    "target_reaction = \"EX_succ_e\"\n",
    "\n",
    "# preapre gcOpt config\n",
    "config.exchanges_not_to_add.append(target_reaction)  "
   ]
  },
  {
   "cell_type": "markdown",
   "id": "214d5b32-7def-4faf-9902-55f53b9bba79",
   "metadata": {},
   "source": [
    "## Load heterologous reactions database model"
   ]
  },
  {
   "cell_type": "code",
   "execution_count": null,
   "id": "409ea80b-aaec-4a35-87a1-48f386c0fb2e",
   "metadata": {},
   "outputs": [],
   "source": [
    "hr_database_model = cobra.io.load_json_model(\"Models/ECC2_hr_database_dir_assessed.json\")"
   ]
  },
  {
   "cell_type": "markdown",
   "id": "02835f56",
   "metadata": {},
   "source": [
    "# Run multiple gcOpt instances in parallel/sequentially\n",
    "- Can be useful since the Gurobi solver doesn't make use of all available threads anymore after running the MILP problem for some time.\n",
    "- It is recommended to start parallel computations from the shell, Anaconda prompt, etc.\n",
    "- NOTE: Due to the use of parallel worker no output may be displayed!"
   ]
  },
  {
   "cell_type": "code",
   "execution_count": null,
   "id": "a9727ad0",
   "metadata": {
    "scrolled": true,
    "tags": []
   },
   "outputs": [],
   "source": [
    "# set up config parameters\n",
    "# Any config file attribute can be added to the parameter dictionaries \n",
    "parameters_parallel = [\n",
    "    {\"num_total_interventions\": 3, \"num_deletions\": 2, \"num_addins\":2, \"output_file_id\": \"i3_d2_a2_cf1_cs1\"},\n",
    "    {\"num_total_interventions\": 6, \"num_deletions\": 5, \"num_addins\":5, \"output_file_id\": \"i6_d5_a5_cf1_cs1\"},\n",
    "    {\"num_total_interventions\": 9, \"num_deletions\": 8, \"num_addins\":8, \"output_file_id\": \"i9_d8_a8_cf1_cs1\"},\n",
    "]\n",
    "# \"output_suffix\" is added to the \"output_file_id\"\n",
    "parameters_sequential = [\n",
    "    {\"growth_rate_fix\": 0.1, \"output_suffix\": \"gr_01\"},\n",
    "    {\"growth_rate_fix\": 0.3, \"output_suffix\": \"gr_03\"},\n",
    "    {\"growth_rate_fix\": 0.6, \"output_suffix\": \"gr_06\"},\n",
    "]\n",
    "\n",
    "\n",
    "# initialize gcOpt class\n",
    "# run gcOpt in parallel\n",
    "if __name__ == \"__main__\":\n",
    "    # load gcOpt class\n",
    "    GCS = gcOpt.GCOpt(\n",
    "        model,\n",
    "        target_reaction,\n",
    "                      hr_database_model=hr_database_model,\n",
    "                      config=config,\n",
    "                      build_gcopt_problem=False)\n",
    "    # run gcOpt\n",
    "    GCS.optimize_series(\n",
    "        parameters_parallel=parameters_parallel,\n",
    "        parameters_sequential=parameters_sequential,\n",
    "        max_workers = 3, # number of parallel workers, compare with the number of processes allocated in the config file to avoid overloading your machine\n",
    "        init_DesignAnalyzer=False\n",
    "    )"
   ]
  },
  {
   "cell_type": "markdown",
   "id": "e23562a1",
   "metadata": {},
   "source": [
    "# Analyze, save, and plot all results\n",
    "- load all design solutions from each parallel run of gcOpt\n",
    "- duplicate solutions are dismissed\n",
    "- significant subset of interventions is determined for each design solution\n",
    "- key parameters are computed for each design (coupling strength, growth rate)\n",
    "- Flux spaces are plotted and saved for each design"
   ]
  },
  {
   "cell_type": "code",
   "execution_count": null,
   "id": "b09de6f4",
   "metadata": {
    "scrolled": true,
    "tags": []
   },
   "outputs": [],
   "source": [
    "if __name__ == \"__main__\":\n",
    "    sda = StrainDesignAnalyzer()\n",
    "    \n",
    "    sda.load_strain_design_files_from_dir(\n",
    "        config.output_dir,\n",
    "        eval_gpr=True\n",
    "        )\n",
    "    \n",
    "    sda.growth_coupling_summary(\n",
    "        results_filename=\"gcOpt_summary_result\",\n",
    "        results_dir=config.output_dir,\n",
    "        determine_significant_designs=True, # duplicate solutions are disregarded,\n",
    "                                            # design objects (deletions, add-ins, etc.) that do not contribute to the coupling are stripped from solution\n",
    "        save_results=True,\n",
    "        save_flux_space_plots=True,\n",
    "        eval_gpr=True\n",
    "    )"
   ]
  }
 ],
 "metadata": {
  "kernelspec": {
   "display_name": "Python 3 (ipykernel)",
   "language": "python",
   "name": "python3"
  },
  "language_info": {
   "codemirror_mode": {
    "name": "ipython",
    "version": 3
   },
   "file_extension": ".py",
   "mimetype": "text/x-python",
   "name": "python",
   "nbconvert_exporter": "python",
   "pygments_lexer": "ipython3",
   "version": "3.9.12"
  },
  "widgets": {
   "application/vnd.jupyter.widget-state+json": {
    "state": {},
    "version_major": 2,
    "version_minor": 0
   }
  }
 },
 "nbformat": 4,
 "nbformat_minor": 5
}
